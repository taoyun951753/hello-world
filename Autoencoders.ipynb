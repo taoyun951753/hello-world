{
 "cells": [
  {
   "cell_type": "code",
   "execution_count": 1,
   "metadata": {
    "collapsed": true
   },
   "outputs": [],
   "source": [
    "import requests\n",
    "\n",
    "url = 'http://httpbin.org/get'\n",
    "a1 = requests.get(url)\n",
    "s1 = a1.text\n"
   ]
  },
  {
   "cell_type": "code",
   "execution_count": 2,
   "metadata": {
    "collapsed": false
   },
   "outputs": [
    {
     "data": {
      "text/plain": [
       "'{\\n  \"args\": {}, \\n  \"headers\": {\\n    \"Accept\": \"*/*\", \\n    \"Accept-Encoding\": \"gzip, deflate\", \\n    \"Connection\": \"close\", \\n    \"Host\": \"httpbin.org\", \\n    \"User-Agent\": \"python-requests/2.12.4\"\\n  }, \\n  \"origin\": \"218.197.248.52\", \\n  \"url\": \"http://httpbin.org/get\"\\n}\\n'"
      ]
     },
     "execution_count": 2,
     "metadata": {},
     "output_type": "execute_result"
    }
   ],
   "source": [
    "s1"
   ]
  },
  {
   "cell_type": "code",
   "execution_count": 3,
   "metadata": {
    "collapsed": true
   },
   "outputs": [],
   "source": [
    "headers = {\n",
    "    'user_agent':'Mozilla/5.0 (Windows NT 10.0; Win64; x64) AppleWebKit/537.36 (KHTML, like Gecko) Chrome/59.0.3071.115 Safari/537.36'\n",
    "}"
   ]
  },
  {
   "cell_type": "code",
   "execution_count": 4,
   "metadata": {
    "collapsed": true
   },
   "outputs": [],
   "source": [
    "a2 = requests.get(url,headers=headers)"
   ]
  },
  {
   "cell_type": "code",
   "execution_count": 5,
   "metadata": {
    "collapsed": false
   },
   "outputs": [
    {
     "data": {
      "text/plain": [
       "200"
      ]
     },
     "execution_count": 5,
     "metadata": {},
     "output_type": "execute_result"
    }
   ],
   "source": [
    "a2.status_code"
   ]
  },
  {
   "cell_type": "code",
   "execution_count": 15,
   "metadata": {
    "collapsed": false
   },
   "outputs": [],
   "source": [
    "s2 = a2.text"
   ]
  },
  {
   "cell_type": "code",
   "execution_count": 8,
   "metadata": {
    "collapsed": true
   },
   "outputs": [],
   "source": [
    "url2 = 'http://httpbin.org/post'\n",
    "a3 = requests.get(url2)\n"
   ]
  },
  {
   "cell_type": "code",
   "execution_count": 16,
   "metadata": {
    "collapsed": false
   },
   "outputs": [
    {
     "data": {
      "text/plain": [
       "'{\\n  \"args\": {}, \\n  \"headers\": {\\n    \"Accept\": \"*/*\", \\n    \"Accept-Encoding\": \"gzip, deflate\", \\n    \"Connection\": \"close\", \\n    \"Host\": \"httpbin.org\", \\n    \"User-Agent\": \"Mozilla/5.0 (Windows NT 10.0; Win64; x64) AppleWebKit/537.36 (KHTML, like Gecko) Chrome/59.0.3071.115 Safari/537.36\"\\n  }, \\n  \"origin\": \"218.197.248.52\", \\n  \"url\": \"http://httpbin.org/get\"\\n}\\n'"
      ]
     },
     "execution_count": 16,
     "metadata": {},
     "output_type": "execute_result"
    }
   ],
   "source": [
    "s2"
   ]
  },
  {
   "cell_type": "code",
   "execution_count": 9,
   "metadata": {
    "collapsed": false
   },
   "outputs": [
    {
     "data": {
      "text/plain": [
       "405"
      ]
     },
     "execution_count": 9,
     "metadata": {},
     "output_type": "execute_result"
    }
   ],
   "source": [
    "a3.status_code"
   ]
  },
  {
   "cell_type": "code",
   "execution_count": 10,
   "metadata": {
    "collapsed": true
   },
   "outputs": [],
   "source": [
    "data ={\n",
    "    'python':39,\n",
    "    39:'python'\n",
    "}"
   ]
  },
  {
   "cell_type": "code",
   "execution_count": 11,
   "metadata": {
    "collapsed": true
   },
   "outputs": [],
   "source": [
    "a4 = requests.post(url2,data=data)"
   ]
  },
  {
   "cell_type": "code",
   "execution_count": 12,
   "metadata": {
    "collapsed": false
   },
   "outputs": [
    {
     "data": {
      "text/plain": [
       "200"
      ]
     },
     "execution_count": 12,
     "metadata": {},
     "output_type": "execute_result"
    }
   ],
   "source": [
    "a4.status_code\n"
   ]
  },
  {
   "cell_type": "markdown",
   "metadata": {
    "collapsed": true
   },
   "source": [
    "# Setup"
   ]
  },
  {
   "cell_type": "code",
   "execution_count": 1,
   "metadata": {
    "collapsed": true
   },
   "outputs": [],
   "source": [
    "import numpy as np\n",
    "import os \n",
    "import sys\n",
    "\n",
    "def reset_graph(seed=42):\n",
    "    tf.reset_default_graph()\n",
    "    tf.set_random_seed(seed)\n",
    "    np.random.seed(seed)\n",
    "    \n",
    "%matplotlib inline\n",
    "\n",
    "import matplotlib\n",
    "import matplotlib.pyplot as plt\n",
    "import seaborn as sns\n",
    "sns.set(style='white')\n",
    "plt.rcParams['axes.labelsize'] = 14\n",
    "plt.rcParams['xtick.labelsize'] = 12\n",
    "plt.rcParams['ytick.labelsize'] = 12\n",
    "\n"
   ]
  },
  {
   "cell_type": "code",
   "execution_count": 2,
   "metadata": {
    "collapsed": false
   },
   "outputs": [
    {
     "data": {
      "text/plain": [
       "'win32'"
      ]
     },
     "execution_count": 2,
     "metadata": {},
     "output_type": "execute_result"
    }
   ],
   "source": [
    "sys.platform"
   ]
  },
  {
   "cell_type": "code",
   "execution_count": 2,
   "metadata": {
    "collapsed": true
   },
   "outputs": [],
   "source": [
    "def plot_image(image,shape=[28,28]):\n",
    "    plt.imshow(image.reshape(shape),cmap='Greys',interpolation='nearest')\n",
    "    plt.axis('off')"
   ]
  },
  {
   "cell_type": "code",
   "execution_count": 25,
   "metadata": {
    "collapsed": true
   },
   "outputs": [],
   "source": [
    "def plot_multiple_image(images,n_rows,n_cols,pad=2):\n",
    "    images = images - images.min()\n",
    "    w,h = images.shape[1:]\n",
    "    image = np.zeros(((w+pad)*n_rows+pad,(h+pad)*n_cols+pad))\n",
    "    for y in range(n_rows):\n",
    "        for x in range(n_cols):\n",
    "            image[(y*(h+pad)+pad):(y*(h+pad)+pad+h),(x*(w+pad)+pad):(x*(w+pad)+pad+w)]= images[y*n_cols+x]\n",
    "    plt.imshow(image,cmap='Greys',interpolation='nearest')\n",
    "    plt.axis('off')"
   ]
  },
  {
   "cell_type": "markdown",
   "metadata": {},
   "source": [
    "# PCA with a linear Autoencoder"
   ]
  },
  {
   "cell_type": "code",
   "execution_count": 16,
   "metadata": {
    "collapsed": false
   },
   "outputs": [],
   "source": [
    "np.random.seed(42)\n",
    "m = 200\n",
    "w1 , w2 = 0.1,0.3\n",
    "noise = 0.1\n",
    "\n",
    "angles = np.random.rand(m) * 3 * np.pi / 2 - 0.5\n",
    "data = np.empty((m,3))\n",
    "data[:,0] = np.cos(angles) + np.sin(angles)/2 + 0.5 * noise * np.random.randn(m)\n",
    "data[:,1] = np.sin(angles) * 0.7 + noise * np.random.randn(m)/ 2\n",
    "data[:,2] = data[:,0] * w1 + data[:,1] * w2 + noise * np.random.randn(m) "
   ]
  },
  {
   "cell_type": "code",
   "execution_count": 13,
   "metadata": {
    "collapsed": false
   },
   "outputs": [
    {
     "data": {
      "text/plain": [
       "((200,), (200,))"
      ]
     },
     "execution_count": 13,
     "metadata": {},
     "output_type": "execute_result"
    }
   ],
   "source": [
    "np.random.randn(200).shape,np.random.rand(200).shape"
   ]
  },
  {
   "cell_type": "code",
   "execution_count": 17,
   "metadata": {
    "collapsed": true
   },
   "outputs": [],
   "source": [
    "from sklearn.preprocessing import StandardScaler\n",
    "\n",
    "scaler = StandardScaler()\n",
    "X_train = scaler.fit_transform(data[:100])\n",
    "X_test = scaler.transform(data[100:])\n"
   ]
  },
  {
   "cell_type": "code",
   "execution_count": 18,
   "metadata": {
    "collapsed": true
   },
   "outputs": [],
   "source": [
    "import tensorflow as tf\n",
    "\n",
    "reset_graph()\n",
    "\n",
    "n_inputs = 3\n",
    "n_hidden = 2\n",
    "n_outputs = n_inputs\n",
    "\n",
    "learning_rate = 0.01\n",
    "\n",
    "X = tf.placeholder(tf.float32,shape=[None,n_inputs])\n",
    "hidden = tf.layers.dense(X,n_hidden)\n",
    "outputs = tf.layers.dense(hidden,n_outputs)\n",
    "\n",
    "reconstruction_loss = tf.reduce_mean(tf.square(outputs-X))\n",
    "\n",
    "optimizer = tf.train.AdamOptimizer(learning_rate)\n",
    "training_op = optimizer.minimize(reconstruction_loss)\n",
    "\n",
    "init = tf.global_variables_initializer()"
   ]
  },
  {
   "cell_type": "code",
   "execution_count": 19,
   "metadata": {
    "collapsed": true
   },
   "outputs": [],
   "source": [
    "n_iterations = 1000\n",
    "codings = hidden\n",
    "\n",
    "with tf.Session() as sess:\n",
    "    init.run()\n",
    "    for iteration in range(n_iterations):\n",
    "        training_op.run(feed_dict={X:X_train})\n",
    "    codings_val = codings.eval(feed_dict={X:X_test})\n",
    "    "
   ]
  },
  {
   "cell_type": "code",
   "execution_count": 22,
   "metadata": {
    "collapsed": false
   },
   "outputs": [
    {
     "data": {
      "image/png": "[encoded data removed]",
      "text/plain": [
       "<matplotlib.figure.Figure at 0xe2590f0>"
      ]
     },
     "metadata": {},
     "output_type": "display_data"
    }
   ],
   "source": [
    "fig = plt.figure(figsize=(4,3))\n",
    "plt.plot(codings_val[:,0],codings_val[:,1],'b.')\n",
    "plt.xlabel('$z_1$',fontsize=18)\n",
    "plt.ylabel('$z_2$',fontsize=18,rotation=0)\n",
    "plt.show()"
   ]
  },
  {
   "cell_type": "code",
   "execution_count": 23,
   "metadata": {
    "collapsed": false
   },
   "outputs": [
    {
     "data": {
      "text/plain": [
       "(100, 2)"
      ]
     },
     "execution_count": 23,
     "metadata": {},
     "output_type": "execute_result"
    }
   ],
   "source": [
    "codings_val.shape"
   ]
  },
  {
   "cell_type": "markdown",
   "metadata": {},
   "source": [
    "# Stacked Autoencoders"
   ]
  },
  {
   "cell_type": "code",
   "execution_count": 4,
   "metadata": {
    "collapsed": false
   },
   "outputs": [
    {
     "name": "stdout",
     "output_type": "stream",
     "text": [
      "Extracting E:/python_work/handson_ml/datasets\\train-images-idx3-ubyte.gz\n",
      "Extracting E:/python_work/handson_ml/datasets\\train-labels-idx1-ubyte.gz\n",
      "Extracting E:/python_work/handson_ml/datasets\\t10k-images-idx3-ubyte.gz\n",
      "Extracting E:/python_work/handson_ml/datasets\\t10k-labels-idx1-ubyte.gz\n"
     ]
    }
   ],
   "source": [
    "from tensorflow.examples.tutorials.mnist import input_data\n",
    "mnist = input_data.read_data_sets('E:/python_work/handson_ml/datasets')"
   ]
  },
  {
   "cell_type": "code",
   "execution_count": 27,
   "metadata": {
    "collapsed": false
   },
   "outputs": [],
   "source": [
    "reset_graph()\n",
    "\n",
    "from functools import partial\n",
    "\n",
    "n_inputs = 28*28\n",
    "n_hidden1 = 300\n",
    "n_hidden2 = 150\n",
    "n_hidden3 = n_hidden1\n",
    "n_outputs = n_inputs\n",
    "\n",
    "learning_rate = 0.01\n",
    "l2_reg = 0.0001\n",
    "\n",
    "X = tf.placeholder(tf.float32,shape=[None,n_inputs])\n",
    "\n",
    "he_init = tf.contrib.layers.variance_scaling_initializer()\n",
    "\n",
    "\n",
    "l2_regularizer = tf.contrib.layers.l2_regularizer(l2_reg)\n",
    "my_dense_layer = partial(tf.layers.dense,\n",
    "                         activation = tf.nn.elu,\n",
    "                         kernel_initializer=he_init,\n",
    "                         kernel_regularizer= l2_regularizer \n",
    "                         )\n",
    "hidden1 = my_dense_layer(X,n_hidden1)\n",
    "hidden2 = my_dense_layer(hidden1,n_hidden2)\n",
    "hidden3 = my_dense_layer(hidden2,n_hidden3)\n",
    "outputs = my_dense_layer(hidden3,n_outputs,activation=None)\n",
    "\n",
    "reconstruction_loss = tf.reduce_mean(tf.square(outputs-X))\n",
    "\n",
    "reg_loss = tf.get_collection(tf.GraphKeys.REGULARIZATION_LOSSES)\n",
    "loss = tf.add_n([reconstruction_loss] + reg_loss)\n",
    "\n",
    "optimizer = tf.train.AdamOptimizer(learning_rate)\n",
    "training_op = optimizer.minimize(loss)\n",
    "\n",
    "init = tf.global_variables_initializer()\n",
    "saver = tf.train.Saver()\n",
    "\n"
   ]
  },
  {
   "cell_type": "code",
   "execution_count": 28,
   "metadata": {
    "collapsed": false
   },
   "outputs": [
    {
     "name": "stdout",
     "output_type": "stream",
     "text": [
      "0 Train MSE: 0.0208554\n",
      "1 Train MSE: 0.0113726\n",
      "2 Train MSE: 0.0102246\n",
      "3 Train MSE: 0.00990046\n",
      "4 Train MSE: 0.0103758\n",
      "5 Train MSE: 0.010986\n",
      "6 Train MSE: 0.0108095\n",
      "7 Train MSE: 0.01118\n",
      "8 Train MSE: 0.0120165\n",
      "9 Train MSE: 0.0124567\n"
     ]
    }
   ],
   "source": [
    "n_epochs = 10\n",
    "batch_size = 150\n",
    "\n",
    "with tf.Session() as sess:\n",
    "    init.run()\n",
    "    for epoch in range(n_epochs):\n",
    "        n_batches = mnist.train.num_examples // batch_size\n",
    "        for iteration in range(n_batches):\n",
    "            print('\\r{}%'.format(100*iteration//n_batches),end='')\n",
    "            sys.stdout.flush()\n",
    "            X_batch,y_batch = mnist.train.next_batch(batch_size)\n",
    "            sess.run(training_op,feed_dict={X:X_batch})\n",
    "        loss_train = reconstruction_loss.eval(feed_dict={X:X_batch})\n",
    "        print('\\r{}'.format(epoch),'Train MSE:',loss_train)\n",
    "        saver.save(sess,'E:/python_work/handson_ml/tf_logs/run_20170929/my_model.ckpt')"
   ]
  },
  {
   "cell_type": "code",
   "execution_count": 5,
   "metadata": {
    "collapsed": true
   },
   "outputs": [],
   "source": [
    "def show_reconstructed_digits(X,outputs,model_path=None,n_test_digits=2):\n",
    "    with tf.Session() as sess:\n",
    "        if model_path:\n",
    "            saver.restore(sess,model_path)\n",
    "        X_test = mnist.test.images[:n_test_digits]\n",
    "        outputs_val = outputs.eval(feed_dict={X:X_test})\n",
    "        \n",
    "    fig = plt.figure(figsize=(8,3 * n_test_digits))\n",
    "    for digit_index in range(n_test_digits):\n",
    "        plt.subplot(n_test_digits,2,digit_index*2+1)\n",
    "        plot_image(X_test[digit_index])\n",
    "        plt.subplot(n_test_digits,2,digit_index*2+2)\n",
    "        plot_image(outputs_val[digit_index])"
   ]
  },
  {
   "cell_type": "code",
   "execution_count": 32,
   "metadata": {
    "collapsed": false
   },
   "outputs": [
    {
     "name": "stdout",
     "output_type": "stream",
     "text": [
      "INFO:tensorflow:Restoring parameters from E:/python_work/handson_ml/tf_logs/run_20170929/my_model.ckpt\n"
     ]
    },
    {
     "data": {
      "image/png": "[encoded data removed]",
      "text/plain": [
       "<matplotlib.figure.Figure at 0xcd05588>"
      ]
     },
     "metadata": {},
     "output_type": "display_data"
    }
   ],
   "source": [
    "show_reconstructed_digits(X,outputs,'E:/python_work/handson_ml/tf_logs/run_20170929/my_model.ckpt')"
   ]
  },
  {
   "cell_type": "markdown",
   "metadata": {},
   "source": [
    "# Tying weights"
   ]
  },
  {
   "cell_type": "code",
   "execution_count": 33,
   "metadata": {
    "collapsed": true
   },
   "outputs": [],
   "source": [
    "reset_graph()\n",
    "\n",
    "n_inputs = 28 * 28\n",
    "n_hidden1 = 300\n",
    "n_hidden2 = 150\n",
    "n_hidden3 = n_hidden1\n",
    "n_ouputs = n_inputs\n",
    "\n",
    "learning_rate = 0.01\n",
    "l2_reg = 0.0005\n",
    "\n",
    "\n"
   ]
  },
  {
   "cell_type": "code",
   "execution_count": 37,
   "metadata": {
    "collapsed": false
   },
   "outputs": [],
   "source": [
    "activation = tf.nn.elu\n",
    "regularizer = tf.contrib.layers.l2_regularizer(l2_reg)\n",
    "initializer = tf.contrib.layers.variance_scaling_initializer()\n",
    "\n",
    "X = tf.placeholder(tf.float32,shape=[None,n_inputs])\n",
    "\n",
    "weights1_init = initializer([n_inputs,n_hidden1])\n",
    "weights2_init = initializer([n_hidden1,n_hidden2])\n",
    "\n",
    "weights1 = tf.Variable(weights1_init,dtype=tf.float32,name='weights1')\n",
    "weights2 = tf.Variable(weights2_init,dtype=tf.float32,name='weights2')\n",
    "weights3 = tf.transpose(weights2,name='weights3')\n",
    "weights4 = tf.transpose(weights1,name='weights4')\n",
    "\n",
    "biases1 = tf.Variable(tf.zeros(n_hidden1),name='biases1')\n",
    "biases2 = tf.Variable(tf.zeros(n_hidden2),name='biases2')\n",
    "biases3 = tf.Variable(tf.zeros(n_hidden3),name='biases3')\n",
    "biases4 = tf.Variable(tf.zeros(n_outputs),name='biases4')\n",
    "\n",
    "hidden1 = activation(tf.matmul(X,weights1) + biases1)\n",
    "hidden2 = activation(tf.matmul(hidden1,weights2) + biases2)\n",
    "hidden3 = activation(tf.matmul(hidden2,weights3) + biases3)\n",
    "outputs = tf.matmul(hidden3,weights4) + biases4\n",
    "\n",
    "reconstruction_loss = tf.reduce_mean(tf.square(outputs - X))\n",
    "reg_loss = regularizer(weights1) + regularizer(weights2)\n",
    "loss = reconstruction_loss + reg_loss\n",
    "\n",
    "optimizer = tf.train.AdamOptimizer(learning_rate)\n",
    "training_op = optimizer.minimize(loss)\n",
    "\n",
    "init = tf.global_variables_initializer()\n",
    "\n",
    "saver = tf.train.Saver()"
   ]
  },
  {
   "cell_type": "code",
   "execution_count": 39,
   "metadata": {
    "collapsed": false
   },
   "outputs": [
    {
     "name": "stdout",
     "output_type": "stream",
     "text": [
      "0 Train MSE:  0.0175016\n",
      "1 Train MSE:  0.0163492\n",
      "2 Train MSE:  0.0161492\n",
      "3 Train MSE:  0.0167934\n",
      "4 Train MSE:  0.0178975\n",
      "5 Train MSE:  0.0174331\n",
      "6 Train MSE:  0.0168225\n",
      "7 Train MSE:  0.0176591\n",
      "8 Train MSE:  0.017609\n",
      "9 Train MSE:  0.0176935\n"
     ]
    }
   ],
   "source": [
    "n_epochs = 10\n",
    "batch_size = 150\n",
    "\n",
    "with tf.Session() as sess:\n",
    "    init.run()\n",
    "    for epoch in range(n_epochs):\n",
    "        n_batches = mnist.train.num_examples // batch_size\n",
    "        for iteration in range(n_batches):\n",
    "            print('\\r{}%'.format(100 * iteration //n_batches),end='')\n",
    "            sys.stdout.flush()\n",
    "            X_batch,y_batch = mnist.train.next_batch(batch_size)\n",
    "            sess.run(training_op,feed_dict={X:X_batch})\n",
    "        loss_train = reconstruction_loss.eval(feed_dict={X:X_batch})\n",
    "        print('\\r{}'.format(epoch),'Train MSE: ', loss_train)\n",
    "        saver.save(sess,'E:/python_work/handson_ml/tf_logs/run_20170929_2/my_model.ckpt')"
   ]
  },
  {
   "cell_type": "code",
   "execution_count": 40,
   "metadata": {
    "collapsed": false,
    "scrolled": true
   },
   "outputs": [
    {
     "name": "stdout",
     "output_type": "stream",
     "text": [
      "INFO:tensorflow:Restoring parameters from E:/python_work/handson_ml/tf_logs/run_20170929_2/my_model.ckpt\n"
     ]
    },
    {
     "data": {
      "image/png": "[encoded data removed]",
      "text/plain": [
       "<matplotlib.figure.Figure at 0x129e09e8>"
      ]
     },
     "metadata": {},
     "output_type": "display_data"
    }
   ],
   "source": [
    "\n",
    "show_reconstructed_digits(X, outputs, \"E:/python_work/handson_ml/tf_logs/run_20170929_2/my_model.ckpt\")"
   ]
  },
  {
   "cell_type": "markdown",
   "metadata": {},
   "source": [
    "# Training one Autoencoder at a tim in multiple graphs"
   ]
  },
  {
   "cell_type": "code",
   "execution_count": 64,
   "metadata": {
    "collapsed": true
   },
   "outputs": [],
   "source": [
    "reset_graph()\n",
    "\n",
    "from functools import partial\n",
    "\n",
    "def train_autoencoder(X_train,n_neurons,n_epochs,batch_size,\n",
    "                      learning_rate=0.01,l2_reg = 0.0005,\n",
    "                      activation=tf.nn.elu,seed=42):\n",
    "    graph = tf.Graph()\n",
    "    with graph.as_default():\n",
    "        tf.set_random_seed(seed)\n",
    "        n_inputs = X_train.shape[1]\n",
    "        X = tf.placeholder(tf.float32,shape=[None,n_inputs])\n",
    "        \n",
    "        my_dense_layer = partial(\n",
    "        tf.layers.dense,\n",
    "        activation= activation,\n",
    "        kernel_initializer=tf.contrib.layers.variance_scaling_initializer(),\n",
    "        kernel_regularizer = tf.contrib.layers.l2_regularizer(l2_reg))\n",
    "        \n",
    "        hidden = my_dense_layer(X,n_neurons,name='hidden')\n",
    "        outputs = my_dense_layer(hidden,n_inputs,activation=None,name='outputs')\n",
    "        \n",
    "        reconstruction_loss = tf.reduce_mean(tf.square(outputs - X))\n",
    "        \n",
    "        reg_loss = tf.get_collection(tf.GraphKeys.REGULARIZATION_LOSSES)\n",
    "        loss = tf.add_n([reconstruction_loss] + reg_loss)\n",
    "        \n",
    "        optimizer = tf.train.AdamOptimizer(learning_rate)\n",
    "        training_op = optimizer.minimize(loss)\n",
    "        \n",
    "        init = tf.global_variables_initializer()\n",
    "        \n",
    "    with tf.Session(graph=graph) as sess:\n",
    "        init.run()\n",
    "        for epoch in range(n_epochs):\n",
    "            n_batches = len(X_train) // batch_size\n",
    "            for iteration in range(n_batches):\n",
    "                print('\\r{}%'.format(100*iteration//n_batches),end='')\n",
    "                sys.stdout.flush()\n",
    "                indices = np.random.permutation(len(X_train))[:batch_size]\n",
    "                X_batch = X_train[indices]\n",
    "                sess.run(training_op,feed_dict={X:X_batch})\n",
    "            loss_train = reconstruction_loss.eval(feed_dict={X:X_batch})\n",
    "            print('\\r{}'.format(epoch),'Train MSE:',loss_train)\n",
    "        params = dict([(var.name,var.eval()) for var in tf.get_collection(tf.GraphKeys.TRAINABLE_VARIABLES)])\n",
    "        hidden_val = hidden.eval(feed_dict={X:X_batch})\n",
    "        return hidden_val,params['hidden/kernel:0'],params['hidden/bias:0'],params['outputs/kernel:0'],params['outputs/bias:0']"
   ]
  },
  {
   "cell_type": "code",
   "execution_count": 65,
   "metadata": {
    "collapsed": false
   },
   "outputs": [
    {
     "name": "stdout",
     "output_type": "stream",
     "text": [
      "0 Train MSE: 0.0189755\n",
      "1 Train MSE: 0.0185663\n",
      "2 Train MSE: 0.0183356\n",
      "3 Train MSE: 0.0189602\n",
      "0 Train MSE: 0.264954\n",
      "1 Train MSE: 0.161168\n",
      "2 Train MSE: 0.115582\n",
      "3 Train MSE: 0.0918051\n"
     ]
    }
   ],
   "source": [
    "\n",
    "hidden_output, W1, b1, W4, b4 = train_autoencoder(mnist.train.images, n_neurons=300, n_epochs=4, batch_size=150)\n",
    "_, W2, b2, W3, b3 = train_autoencoder(hidden_output, n_neurons=150, n_epochs=4, batch_size=150)"
   ]
  },
  {
   "cell_type": "code",
   "execution_count": 66,
   "metadata": {
    "collapsed": false
   },
   "outputs": [
    {
     "data": {
      "text/plain": [
       "array([[ 0.46827376,  0.08612435,  2.08054018, ...,  0.17500676,\n",
       "        -0.04091907,  2.9765799 ],\n",
       "       [-0.19646215, -0.21826673, -0.01248008, ...,  0.03025155,\n",
       "         0.10662742,  0.10624391],\n",
       "       [-0.15582335, -0.01792401,  0.60693502, ..., -0.08876008,\n",
       "         0.08757721,  0.75704384],\n",
       "       ..., \n",
       "       [ 0.07426524,  0.08069791,  0.31328475, ...,  0.13874649,\n",
       "        -0.02671874,  0.20972055],\n",
       "       [-0.0698452 , -0.07613778, -0.05468875, ..., -0.13038707,\n",
       "         0.03985507,  0.11438948],\n",
       "       [ 0.08501717, -0.14673638,  0.34085125, ...,  0.38365334,\n",
       "        -0.18382221,  0.58796144]], dtype=float32)"
      ]
     },
     "execution_count": 66,
     "metadata": {},
     "output_type": "execute_result"
    }
   ],
   "source": [
    "hidden_output"
   ]
  },
  {
   "cell_type": "code",
   "execution_count": 67,
   "metadata": {
    "collapsed": true
   },
   "outputs": [],
   "source": [
    "reset_graph()\n",
    "\n",
    "n_inputs = 28 * 28\n",
    "\n",
    "X = tf.placeholder(tf.float32,shape=[None,n_inputs])\n",
    "\n",
    "hidden1 = tf.nn.elu(tf.matmul(X,W1)+b1)\n",
    "hidden2 = tf.nn.elu(tf.matmul(hidden1,W2)+b2)\n",
    "hidden3 = tf.nn.elu(tf.matmul(hidden2,W3)+b3)\n",
    "outputs = tf.matmul(hidden3,W4) +b4\n",
    "\n"
   ]
  },
  {
   "cell_type": "code",
   "execution_count": 69,
   "metadata": {
    "collapsed": false
   },
   "outputs": [
    {
     "data": {
      "image/png": "[encoded data removed]",
      "text/plain": [
       "<matplotlib.figure.Figure at 0x13545320>"
      ]
     },
     "metadata": {},
     "output_type": "display_data"
    }
   ],
   "source": [
    "show_reconstructed_digits(X,outputs)"
   ]
  },
  {
   "cell_type": "markdown",
   "metadata": {},
   "source": [
    "# Training one Autoencoder at a time in a single graph"
   ]
  },
  {
   "cell_type": "code",
   "execution_count": 70,
   "metadata": {
    "collapsed": true
   },
   "outputs": [],
   "source": [
    "reset_graph()\n",
    "\n",
    "n_inputs = 28 * 28\n",
    "n_hidden1 = 300\n",
    "n_hidden2 = 150  # codings\n",
    "n_hidden3 = n_hidden1\n",
    "n_outputs = n_inputs\n",
    "\n",
    "learning_rate = 0.01\n",
    "l2_reg = 0.0001\n",
    "\n",
    "activation = tf.nn.elu\n",
    "regularizer = tf.contrib.layers.l2_regularizer(l2_reg)\n",
    "initializer = tf.contrib.layers.variance_scaling_initializer()\n",
    "\n",
    "X = tf.placeholder(tf.float32, shape=[None, n_inputs])\n",
    "\n",
    "weights1_init = initializer([n_inputs, n_hidden1])\n",
    "weights2_init = initializer([n_hidden1, n_hidden2])\n",
    "weights3_init = initializer([n_hidden2, n_hidden3])\n",
    "weights4_init = initializer([n_hidden3, n_outputs])\n",
    "\n",
    "weights1 = tf.Variable(weights1_init, dtype=tf.float32, name=\"weights1\")\n",
    "weights2 = tf.Variable(weights2_init, dtype=tf.float32, name=\"weights2\")\n",
    "weights3 = tf.Variable(weights3_init, dtype=tf.float32, name=\"weights3\")\n",
    "weights4 = tf.Variable(weights4_init, dtype=tf.float32, name=\"weights4\")\n",
    "\n",
    "biases1 = tf.Variable(tf.zeros(n_hidden1), name=\"biases1\")\n",
    "biases2 = tf.Variable(tf.zeros(n_hidden2), name=\"biases2\")\n",
    "biases3 = tf.Variable(tf.zeros(n_hidden3), name=\"biases3\")\n",
    "biases4 = tf.Variable(tf.zeros(n_outputs), name=\"biases4\")\n",
    "\n",
    "hidden1 = activation(tf.matmul(X, weights1) + biases1)\n",
    "hidden2 = activation(tf.matmul(hidden1, weights2) + biases2)\n",
    "hidden3 = activation(tf.matmul(hidden2, weights3) + biases3)\n",
    "outputs = tf.matmul(hidden3, weights4) + biases4\n",
    "\n",
    "reconstruction_loss = tf.reduce_mean(tf.square(outputs - X))"
   ]
  },
  {
   "cell_type": "code",
   "execution_count": 71,
   "metadata": {
    "collapsed": true
   },
   "outputs": [],
   "source": [
    "optimizer = tf.train.AdamOptimizer(learning_rate)\n",
    "\n",
    "with tf.name_scope(\"phase1\"):\n",
    "    phase1_outputs = tf.matmul(hidden1, weights4) + biases4  # bypass hidden2 and hidden3\n",
    "    phase1_reconstruction_loss = tf.reduce_mean(tf.square(phase1_outputs - X))\n",
    "    phase1_reg_loss = regularizer(weights1) + regularizer(weights4)\n",
    "    phase1_loss = phase1_reconstruction_loss + phase1_reg_loss\n",
    "    phase1_training_op = optimizer.minimize(phase1_loss)\n",
    "\n",
    "with tf.name_scope(\"phase2\"):\n",
    "    phase2_reconstruction_loss = tf.reduce_mean(tf.square(hidden3 - hidden1))\n",
    "    phase2_reg_loss = regularizer(weights2) + regularizer(weights3)\n",
    "    phase2_loss = phase2_reconstruction_loss + phase2_reg_loss\n",
    "    train_vars = [weights2, biases2, weights3, biases3]\n",
    "    phase2_training_op = optimizer.minimize(phase2_loss, var_list=train_vars) # freeze hidden1"
   ]
  },
  {
   "cell_type": "code",
   "execution_count": 72,
   "metadata": {
    "collapsed": true
   },
   "outputs": [],
   "source": [
    "init = tf.global_variables_initializer()\n",
    "saver = tf.train.Saver()"
   ]
  },
  {
   "cell_type": "code",
   "execution_count": 73,
   "metadata": {
    "collapsed": false
   },
   "outputs": [
    {
     "name": "stdout",
     "output_type": "stream",
     "text": [
      "Training phase #1\n",
      "0 Train MSE: 0.0076224\n",
      "19% Train MSE: 0.00725095\n",
      "2 Train MSE: 0.00783793\n",
      "3 Train MSE: 0.00824736\n",
      "Training phase #2\n",
      "0 Train MSE: 0.29616\n",
      "1 Train MSE: 0.00836937\n",
      "2 Train MSE: 0.00300439\n",
      "3 Train MSE: 0.00221475\n",
      "Test MSE: 0.00976427\n"
     ]
    }
   ],
   "source": [
    "training_ops = [phase1_training_op, phase2_training_op]\n",
    "reconstruction_losses = [phase1_reconstruction_loss, phase2_reconstruction_loss]\n",
    "n_epochs = [4, 4]\n",
    "batch_sizes = [150, 150]\n",
    "\n",
    "with tf.Session() as sess:\n",
    "    init.run()\n",
    "    for phase in range(2):\n",
    "        print(\"Training phase #{}\".format(phase + 1))\n",
    "        for epoch in range(n_epochs[phase]):\n",
    "            n_batches = mnist.train.num_examples // batch_sizes[phase]\n",
    "            for iteration in range(n_batches):\n",
    "                print(\"\\r{}%\".format(100 * iteration // n_batches), end=\"\")\n",
    "                sys.stdout.flush()\n",
    "                X_batch, y_batch = mnist.train.next_batch(batch_sizes[phase])\n",
    "                sess.run(training_ops[phase], feed_dict={X: X_batch})\n",
    "            loss_train = reconstruction_losses[phase].eval(feed_dict={X: X_batch})\n",
    "            print(\"\\r{}\".format(epoch), \"Train MSE:\", loss_train)\n",
    "            saver.save(sess, \"E:/python_work/handson_ml/tf_logs/run_20170929_3/my_model_one_at_a_time.ckpt\")\n",
    "    loss_test = reconstruction_loss.eval(feed_dict={X: mnist.test.images})\n",
    "    print(\"Test MSE:\", loss_test)"
   ]
  },
  {
   "cell_type": "markdown",
   "metadata": {},
   "source": [
    "# Cache the frozen layer outputs"
   ]
  },
  {
   "cell_type": "code",
   "execution_count": 74,
   "metadata": {
    "collapsed": false
   },
   "outputs": [
    {
     "name": "stdout",
     "output_type": "stream",
     "text": [
      "Training phase #1\n",
      "0 Train MSE: 0.00775532\n",
      "1 Train MSE: 0.00756871\n",
      "2 Train MSE: 0.0080059\n",
      "3 Train MSE: 0.0078918\n",
      "Training phase #2\n",
      "0 Train MSE: 0.0650064\n",
      "1 Train MSE: 0.00536262\n",
      "2 Train MSE: 0.00256693\n",
      "39% Train MSE: 0.0021392\n",
      "Test MSE: 0.00970105\n"
     ]
    }
   ],
   "source": [
    "training_ops = [phase1_training_op, phase2_training_op]\n",
    "reconstruction_losses = [phase1_reconstruction_loss, phase2_reconstruction_loss]\n",
    "n_epochs = [4, 4]\n",
    "batch_sizes = [150, 150]\n",
    "\n",
    "with tf.Session() as sess:\n",
    "    init.run()\n",
    "    for phase in range(2):\n",
    "        print(\"Training phase #{}\".format(phase + 1))\n",
    "        if phase == 1:\n",
    "            hidden1_cache = hidden1.eval(feed_dict={X: mnist.train.images})\n",
    "        for epoch in range(n_epochs[phase]):\n",
    "            n_batches = mnist.train.num_examples // batch_sizes[phase]\n",
    "            for iteration in range(n_batches):\n",
    "                print(\"\\r{}%\".format(100 * iteration // n_batches), end=\"\")\n",
    "                sys.stdout.flush()\n",
    "                if phase == 1:\n",
    "                    indices = np.random.permutation(mnist.train.num_examples)\n",
    "                    hidden1_batch = hidden1_cache[indices[:batch_sizes[phase]]]\n",
    "                    feed_dict = {hidden1: hidden1_batch}\n",
    "                    sess.run(training_ops[phase], feed_dict=feed_dict)\n",
    "                else:\n",
    "                    X_batch, y_batch = mnist.train.next_batch(batch_sizes[phase])\n",
    "                    feed_dict = {X: X_batch}\n",
    "                    sess.run(training_ops[phase], feed_dict=feed_dict)\n",
    "            loss_train = reconstruction_losses[phase].eval(feed_dict=feed_dict)\n",
    "            print(\"\\r{}\".format(epoch), \"Train MSE:\", loss_train)\n",
    "            saver.save(sess, \"E:/python_work/handson_ml/tf_logs/run_20170929_4/my_model_cache_frozen.ckpt\")\n",
    "    loss_test = reconstruction_loss.eval(feed_dict={X: mnist.test.images})\n",
    "    print(\"Test MSE:\", loss_test)"
   ]
  },
  {
   "cell_type": "code",
   "execution_count": 75,
   "metadata": {
    "collapsed": false
   },
   "outputs": [
    {
     "name": "stdout",
     "output_type": "stream",
     "text": [
      "INFO:tensorflow:Restoring parameters from E:/python_work/handson_ml/tf_logs/run_20170929_3/my_model_one_at_a_time.ckpt\n"
     ]
    },
    {
     "data": {
      "image/png": "[encoded data removed]",
      "text/plain": [
       "<matplotlib.figure.Figure at 0x12c004e0>"
      ]
     },
     "metadata": {},
     "output_type": "display_data"
    }
   ],
   "source": [
    "n_test_digits = 2\n",
    "X_test = mnist.test.images[:n_test_digits]\n",
    "\n",
    "with tf.Session() as sess:\n",
    "    saver.restore(sess, \"E:/python_work/handson_ml/tf_logs/run_20170929_3/my_model_one_at_a_time.ckpt\") # not shown in the book\n",
    "    outputs_val = outputs.eval(feed_dict={X: X_test})\n",
    "\n",
    "def plot_image(image, shape=[28, 28]):\n",
    "    plt.imshow(image.reshape(shape), cmap=\"Greys\", interpolation=\"nearest\")\n",
    "    plt.axis(\"off\")\n",
    "\n",
    "for digit_index in range(n_test_digits):\n",
    "    plt.subplot(n_test_digits, 2, digit_index * 2 + 1)\n",
    "    plot_image(X_test[digit_index])\n",
    "    plt.subplot(n_test_digits, 2, digit_index * 2 + 2)\n",
    "    plot_image(outputs_val[digit_index])"
   ]
  },
  {
   "cell_type": "code",
   "execution_count": 76,
   "metadata": {
    "collapsed": false
   },
   "outputs": [
    {
     "name": "stdout",
     "output_type": "stream",
     "text": [
      "INFO:tensorflow:Restoring parameters from E:/python_work/handson_ml/tf_logs/run_20170929_3/my_model_one_at_a_time.ckpt\n"
     ]
    },
    {
     "data": {
      "image/png": "[encoded data removed]",
      "text/plain": [
       "<matplotlib.figure.Figure at 0x12d28860>"
      ]
     },
     "metadata": {},
     "output_type": "display_data"
    }
   ],
   "source": [
    "with tf.Session() as sess:\n",
    "    saver.restore(sess, \"E:/python_work/handson_ml/tf_logs/run_20170929_3/my_model_one_at_a_time.ckpt\") # not shown in the book\n",
    "    weights1_val = weights1.eval()\n",
    "\n",
    "for i in range(5):\n",
    "    plt.subplot(1, 5, i + 1)\n",
    "    plot_image(weights1_val.T[i])\n",
    "    \n",
    "plt.show()"
   ]
  },
  {
   "cell_type": "markdown",
   "metadata": {},
   "source": [
    "# Unsupervised pretraining"
   ]
  },
  {
   "cell_type": "code",
   "execution_count": 77,
   "metadata": {
    "collapsed": true
   },
   "outputs": [],
   "source": [
    "reset_graph()\n",
    "\n",
    "n_inputs = 28 * 28\n",
    "n_hidden1 = 300\n",
    "n_hidden2 = 150\n",
    "n_outputs = 10\n",
    "\n",
    "learning_rate = 0.01\n",
    "l2_reg = 0.0005\n",
    "\n",
    "activation = tf.nn.elu\n",
    "regularizer = tf.contrib.layers.l2_regularizer(l2_reg)\n",
    "initializer = tf.contrib.layers.variance_scaling_initializer()\n",
    "\n",
    "X = tf.placeholder(tf.float32, shape=[None, n_inputs])\n",
    "y = tf.placeholder(tf.int32, shape=[None])\n",
    "\n",
    "weights1_init = initializer([n_inputs, n_hidden1])\n",
    "weights2_init = initializer([n_hidden1, n_hidden2])\n",
    "weights3_init = initializer([n_hidden2, n_outputs])\n",
    "\n",
    "weights1 = tf.Variable(weights1_init, dtype=tf.float32, name=\"weights1\")\n",
    "weights2 = tf.Variable(weights2_init, dtype=tf.float32, name=\"weights2\")\n",
    "weights3 = tf.Variable(weights3_init, dtype=tf.float32, name=\"weights3\")\n",
    "\n",
    "biases1 = tf.Variable(tf.zeros(n_hidden1), name=\"biases1\")\n",
    "biases2 = tf.Variable(tf.zeros(n_hidden2), name=\"biases2\")\n",
    "biases3 = tf.Variable(tf.zeros(n_outputs), name=\"biases3\")\n",
    "\n",
    "hidden1 = activation(tf.matmul(X, weights1) + biases1)\n",
    "hidden2 = activation(tf.matmul(hidden1, weights2) + biases2)\n",
    "logits = tf.matmul(hidden2, weights3) + biases3\n",
    "\n",
    "cross_entropy = tf.nn.sparse_softmax_cross_entropy_with_logits(labels=y, logits=logits)\n",
    "reg_loss = regularizer(weights1) + regularizer(weights2) + regularizer(weights3)\n",
    "loss = cross_entropy + reg_loss\n",
    "optimizer = tf.train.AdamOptimizer(learning_rate)\n",
    "training_op = optimizer.minimize(loss)\n",
    "\n",
    "correct = tf.nn.in_top_k(logits, y, 1)\n",
    "accuracy = tf.reduce_mean(tf.cast(correct, tf.float32))\n",
    "\n",
    "init = tf.global_variables_initializer()\n",
    "pretrain_saver = tf.train.Saver([weights1, weights2, biases1, biases2])\n",
    "saver = tf.train.Saver()"
   ]
  },
  {
   "cell_type": "code",
   "execution_count": 78,
   "metadata": {
    "collapsed": false
   },
   "outputs": [
    {
     "name": "stdout",
     "output_type": "stream",
     "text": [
      "0 Train accuracy: 0.913333 Test accuracy: 0.9215\n",
      "1 Train accuracy: 0.966667 Test accuracy: 0.9404\n",
      "2 Train accuracy: 0.973333 Test accuracy: 0.9507\n",
      "3 Train accuracy: 0.973333 Test accuracy: 0.9464\n"
     ]
    }
   ],
   "source": [
    "n_epochs = 4\n",
    "batch_size = 150\n",
    "n_labeled_instances = 20000\n",
    "\n",
    "with tf.Session() as sess:\n",
    "    init.run()\n",
    "    for epoch in range(n_epochs):\n",
    "        n_batches = n_labeled_instances // batch_size\n",
    "        for iteration in range(n_batches):\n",
    "            print(\"\\r{}%\".format(100 * iteration // n_batches), end=\"\")\n",
    "            sys.stdout.flush()\n",
    "            indices = np.random.permutation(n_labeled_instances)[:batch_size]\n",
    "            X_batch, y_batch = mnist.train.images[indices], mnist.train.labels[indices]\n",
    "            sess.run(training_op, feed_dict={X: X_batch, y: y_batch})\n",
    "        accuracy_val = accuracy.eval(feed_dict={X: X_batch, y: y_batch})\n",
    "        print(\"\\r{}\".format(epoch), \"Train accuracy:\", accuracy_val, end=\" \")\n",
    "        saver.save(sess, \"E:/python_work/handson_ml/tf_logs/run_20170929_5/my_model_supervised.ckpt\")\n",
    "        accuracy_val = accuracy.eval(feed_dict={X: mnist.test.images, y: mnist.test.labels})\n",
    "        print(\"Test accuracy:\", accuracy_val)"
   ]
  },
  {
   "cell_type": "code",
   "execution_count": 80,
   "metadata": {
    "collapsed": false
   },
   "outputs": [
    {
     "name": "stdout",
     "output_type": "stream",
     "text": [
      "INFO:tensorflow:Restoring parameters from E:/python_work/handson_ml/tf_logs/run_20170929_4/my_model_cache_frozen.ckpt\n",
      "0 Train accuracy: 0.933333\tTest accuracy: 0.9333\n",
      "1 Train accuracy: 0.96\tTest accuracy: 0.9342\n",
      "2 Train accuracy: 0.953333\tTest accuracy: 0.9245\n",
      "3 Train accuracy: 0.966667\tTest accuracy: 0.9478\n"
     ]
    }
   ],
   "source": [
    "n_epochs = 4\n",
    "batch_size = 150\n",
    "n_labeled_instances = 20000\n",
    "\n",
    "#training_op = optimizer.minimize(loss, var_list=[weights3, biases3])  # Freeze layers 1 and 2 (optional)\n",
    "\n",
    "with tf.Session() as sess:\n",
    "    init.run()\n",
    "    pretrain_saver.restore(sess, \"E:/python_work/handson_ml/tf_logs/run_20170929_4/my_model_cache_frozen.ckpt\")\n",
    "    for epoch in range(n_epochs):\n",
    "        n_batches = n_labeled_instances // batch_size\n",
    "        for iteration in range(n_batches):\n",
    "            print(\"\\r{}%\".format(100 * iteration // n_batches), end=\"\")\n",
    "            sys.stdout.flush()\n",
    "            indices = np.random.permutation(n_labeled_instances)[:batch_size]\n",
    "            X_batch, y_batch = mnist.train.images[indices], mnist.train.labels[indices]\n",
    "            sess.run(training_op, feed_dict={X: X_batch, y: y_batch})\n",
    "        accuracy_val = accuracy.eval(feed_dict={X: X_batch, y: y_batch})\n",
    "        print(\"\\r{}\".format(epoch), \"Train accuracy:\", accuracy_val, end=\"\\t\")\n",
    "        saver.save(sess, \"E:/python_work/handson_ml/tf_logs/run_20170929_6/my_model_supervised_pretrained.ckpt\")\n",
    "        accuracy_val = accuracy.eval(feed_dict={X: mnist.test.images, y: mnist.test.labels})\n",
    "        print(\"Test accuracy:\", accuracy_val)\n",
    "        "
   ]
  },
  {
   "cell_type": "markdown",
   "metadata": {},
   "source": [
    "# Stacked denoising Autoencoder"
   ]
  },
  {
   "cell_type": "code",
   "execution_count": 81,
   "metadata": {
    "collapsed": true
   },
   "outputs": [],
   "source": [
    "reset_graph()\n",
    "\n",
    "n_inputs = 28 * 28\n",
    "n_hidden1 = 300\n",
    "n_hidden2 = 150  # codings\n",
    "n_hidden3 = n_hidden1\n",
    "n_outputs = n_inputs\n",
    "\n",
    "learning_rate = 0.01"
   ]
  },
  {
   "cell_type": "code",
   "execution_count": 82,
   "metadata": {
    "collapsed": true
   },
   "outputs": [],
   "source": [
    "noise_level = 1.0\n",
    "\n",
    "X = tf.placeholder(tf.float32, shape=[None, n_inputs])\n",
    "X_noisy = X + noise_level * tf.random_normal(tf.shape(X))\n",
    "\n",
    "hidden1 = tf.layers.dense(X_noisy, n_hidden1, activation=tf.nn.relu,\n",
    "                          name=\"hidden1\")\n",
    "hidden2 = tf.layers.dense(hidden1, n_hidden2, activation=tf.nn.relu, # not shown in the book\n",
    "                          name=\"hidden2\")                            # not shown\n",
    "hidden3 = tf.layers.dense(hidden2, n_hidden3, activation=tf.nn.relu, # not shown\n",
    "                          name=\"hidden3\")                            # not shown\n",
    "outputs = tf.layers.dense(hidden3, n_outputs, name=\"outputs\")        # not shown\n",
    "\n",
    "reconstruction_loss = tf.reduce_mean(tf.square(outputs - X)) # MSE"
   ]
  },
  {
   "cell_type": "code",
   "execution_count": 83,
   "metadata": {
    "collapsed": true
   },
   "outputs": [],
   "source": [
    "\n",
    "optimizer = tf.train.AdamOptimizer(learning_rate)\n",
    "training_op = optimizer.minimize(reconstruction_loss)\n",
    "    \n",
    "init = tf.global_variables_initializer()\n",
    "saver = tf.train.Saver()"
   ]
  },
  {
   "cell_type": "code",
   "execution_count": 84,
   "metadata": {
    "collapsed": false
   },
   "outputs": [
    {
     "name": "stdout",
     "output_type": "stream",
     "text": [
      "0 Train MSE: 0.0429008\n",
      "1 Train MSE: 0.0425173\n",
      "2 Train MSE: 0.0419403\n",
      "3 Train MSE: 0.0413947\n",
      "4 Train MSE: 0.0424495\n",
      "5 Train MSE: 0.0413562\n",
      "6 Train MSE: 0.0397677\n",
      "7 Train MSE: 0.0420645\n",
      "8 Train MSE: 0.0433838\n",
      "9 Train MSE: 0.0421968\n"
     ]
    }
   ],
   "source": [
    "n_epochs = 10\n",
    "batch_size = 150\n",
    "\n",
    "with tf.Session() as sess:\n",
    "    init.run()\n",
    "    for epoch in range(n_epochs):\n",
    "        n_batches = mnist.train.num_examples // batch_size\n",
    "        for iteration in range(n_batches):\n",
    "            print(\"\\r{}%\".format(100 * iteration // n_batches), end=\"\")\n",
    "            sys.stdout.flush()\n",
    "            X_batch, y_batch = mnist.train.next_batch(batch_size)\n",
    "            sess.run(training_op, feed_dict={X: X_batch})\n",
    "        loss_train = reconstruction_loss.eval(feed_dict={X: X_batch})\n",
    "        print(\"\\r{}\".format(epoch), \"Train MSE:\", loss_train)\n",
    "        saver.save(sess, \"E:/python_work/handson_ml/tf_logs/run_20170929_7/my_model_stacked_denoising_gaussian.ckpt\")"
   ]
  },
  {
   "cell_type": "markdown",
   "metadata": {},
   "source": [
    "Using dropout:"
   ]
  },
  {
   "cell_type": "code",
   "execution_count": 85,
   "metadata": {
    "collapsed": true
   },
   "outputs": [],
   "source": [
    "reset_graph()\n",
    "\n",
    "n_inputs = 28 * 28\n",
    "n_hidden1 = 300\n",
    "n_hidden2 = 150  # codings\n",
    "n_hidden3 = n_hidden1\n",
    "n_outputs = n_inputs\n",
    "\n",
    "learning_rate = 0.01"
   ]
  },
  {
   "cell_type": "code",
   "execution_count": 86,
   "metadata": {
    "collapsed": true
   },
   "outputs": [],
   "source": [
    "dropout_rate = 0.3\n",
    "\n",
    "training = tf.placeholder_with_default(False, shape=(), name='training')\n",
    "\n",
    "X = tf.placeholder(tf.float32, shape=[None, n_inputs])\n",
    "X_drop = tf.layers.dropout(X, dropout_rate, training=training)\n",
    "\n",
    "hidden1 = tf.layers.dense(X_drop, n_hidden1, activation=tf.nn.relu,\n",
    "                          name=\"hidden1\")\n",
    "hidden2 = tf.layers.dense(hidden1, n_hidden2, activation=tf.nn.relu, # not shown in the book\n",
    "                          name=\"hidden2\")                            # not shown\n",
    "hidden3 = tf.layers.dense(hidden2, n_hidden3, activation=tf.nn.relu, # not shown\n",
    "                          name=\"hidden3\")                            # not shown\n",
    "outputs = tf.layers.dense(hidden3, n_outputs, name=\"outputs\")        # not shown\n",
    "\n",
    "reconstruction_loss = tf.reduce_mean(tf.square(outputs - X)) # MSE"
   ]
  },
  {
   "cell_type": "code",
   "execution_count": 87,
   "metadata": {
    "collapsed": true
   },
   "outputs": [],
   "source": [
    "\n",
    "optimizer = tf.train.AdamOptimizer(learning_rate)\n",
    "training_op = optimizer.minimize(reconstruction_loss)\n",
    "    \n",
    "init = tf.global_variables_initializer()\n",
    "saver = tf.train.Saver()"
   ]
  },
  {
   "cell_type": "code",
   "execution_count": 88,
   "metadata": {
    "collapsed": false
   },
   "outputs": [
    {
     "name": "stdout",
     "output_type": "stream",
     "text": [
      "0 Train MSE: 0.0347836\n",
      "1 Train MSE: 0.0320789\n",
      "2 Train MSE: 0.0291542\n",
      "3 Train MSE: 0.0322753\n",
      "4 Train MSE: 0.0295604\n",
      "5 Train MSE: 0.0316486\n",
      "6 Train MSE: 0.030232\n",
      "7 Train MSE: 0.0305315\n",
      "8 Train MSE: 0.0295478\n",
      "9 Train MSE: 0.0305235\n"
     ]
    }
   ],
   "source": [
    "n_epochs = 10\n",
    "batch_size = 150\n",
    "\n",
    "with tf.Session() as sess:\n",
    "    init.run()\n",
    "    for epoch in range(n_epochs):\n",
    "        n_batches = mnist.train.num_examples // batch_size\n",
    "        for iteration in range(n_batches):\n",
    "            print(\"\\r{}%\".format(100 * iteration // n_batches), end=\"\")\n",
    "            sys.stdout.flush()\n",
    "            X_batch, y_batch = mnist.train.next_batch(batch_size)\n",
    "            sess.run(training_op, feed_dict={X: X_batch, training: True})\n",
    "        loss_train = reconstruction_loss.eval(feed_dict={X: X_batch})\n",
    "        print(\"\\r{}\".format(epoch), \"Train MSE:\", loss_train)\n",
    "        saver.save(sess, \"E:/python_work/handson_ml/tf_logs/run_20170929_8/my_model_stacked_denoising_dropout.ckpt\")"
   ]
  },
  {
   "cell_type": "code",
   "execution_count": 89,
   "metadata": {
    "collapsed": false,
    "scrolled": true
   },
   "outputs": [
    {
     "name": "stdout",
     "output_type": "stream",
     "text": [
      "INFO:tensorflow:Restoring parameters from E:/python_work/handson_ml/tf_logs/run_20170929_8/my_model_stacked_denoising_dropout.ckpt\n"
     ]
    },
    {
     "data": {
      "image/png": "[encoded data removed]",
      "text/plain": [
       "<matplotlib.figure.Figure at 0x10faedd8>"
      ]
     },
     "metadata": {},
     "output_type": "display_data"
    }
   ],
   "source": [
    "show_reconstructed_digits(X, outputs, \"E:/python_work/handson_ml/tf_logs/run_20170929_8/my_model_stacked_denoising_dropout.ckpt\")\n"
   ]
  },
  {
   "cell_type": "markdown",
   "metadata": {},
   "source": [
    "# Sparse Autoencoder"
   ]
  },
  {
   "cell_type": "code",
   "execution_count": 91,
   "metadata": {
    "collapsed": false
   },
   "outputs": [
    {
     "data": {
      "text/plain": [
       "[0, 1, 0, 0.95]"
      ]
     },
     "execution_count": 91,
     "metadata": {},
     "output_type": "execute_result"
    },
    {
     "data": {
      "image/png": "[encoded data removed]",
      "text/plain": [
       "<matplotlib.figure.Figure at 0x17027978>"
      ]
     },
     "metadata": {},
     "output_type": "display_data"
    }
   ],
   "source": [
    "p = 0.1\n",
    "q = np.linspace(0.001, 0.999, 500)\n",
    "kl_div = p * np.log(p / q) + (1 - p) * np.log((1 - p) / (1 - q))\n",
    "mse = (p - q)**2\n",
    "plt.plot([p, p], [0, 0.3], \"k:\")\n",
    "plt.text(0.05, 0.32, \"Target\\nsparsity\", fontsize=14)\n",
    "plt.plot(q, kl_div, \"b-\", label=\"KL divergence\")\n",
    "plt.plot(q, mse, \"r--\", label=\"MSE\")\n",
    "plt.legend(loc=\"upper left\")\n",
    "plt.xlabel(\"Actual sparsity\")\n",
    "plt.ylabel(\"Cost\", rotation=0)\n",
    "plt.axis([0, 1, 0, 0.95])\n"
   ]
  },
  {
   "cell_type": "code",
   "execution_count": 92,
   "metadata": {
    "collapsed": true
   },
   "outputs": [],
   "source": [
    "reset_graph()\n",
    "\n",
    "n_inputs = 28 * 28\n",
    "n_hidden1 = 1000\n",
    "n_outputs = n_inputs\n"
   ]
  },
  {
   "cell_type": "code",
   "execution_count": 94,
   "metadata": {
    "collapsed": false
   },
   "outputs": [],
   "source": [
    "def kl_divergence(p,q):\n",
    "    return p*tf.log(p/q) + (1-p) * tf.log((1-p)/(1-q))\n",
    "\n",
    "learning_rate = 0.01\n",
    "sparsity_target = 0.1\n",
    "sparsity_weight = 0.2\n",
    "\n",
    "X = tf.placeholder(tf.float32,shape=[None,n_inputs])\n",
    "\n",
    "hidden1 = tf.layers.dense(X,n_hidden1,activation=tf.nn.sigmoid)\n",
    "outputs = tf.layers.dense(hidden1,n_outputs)\n",
    "\n",
    "hidden1_mean = tf.reduce_mean(hidden1,axis=0)\n",
    "sparsity_loss = tf.reduce_sum(kl_divergence(sparsity_target,hidden1_mean))\n",
    "reconstruction_loss = tf.reduce_mean(tf.square(outputs - X ))\n",
    "loss = reconstruction_loss + sparsity_weight * sparsity_loss\n",
    "\n",
    "optimizer = tf.train.AdamOptimizer(learning_rate)\n",
    "training_op =optimizer.minimize(loss)"
   ]
  },
  {
   "cell_type": "code",
   "execution_count": 95,
   "metadata": {
    "collapsed": true
   },
   "outputs": [],
   "source": [
    "init = tf.global_variables_initializer()\n",
    "saver = tf.train.Saver()"
   ]
  },
  {
   "cell_type": "code",
   "execution_count": 101,
   "metadata": {
    "collapsed": false
   },
   "outputs": [
    {
     "name": "stdout",
     "output_type": "stream",
     "text": [
      "0 Train MSE: 0.120326 \tSparsity loss: 1.12732 \tTotal loss: 0.345791\n",
      "1 Train MSE: 0.0594781 \tSparsity loss: 0.205749 \tTotal loss: 0.100628\n",
      "2 Train MSE: 0.0528083 \tSparsity loss: 0.01404 \tTotal loss: 0.0556163\n",
      "3 Train MSE: 0.0477991 \tSparsity loss: 0.046798 \tTotal loss: 0.0571587\n",
      "4 Train MSE: 0.0435448 \tSparsity loss: 0.050747 \tTotal loss: 0.0536942\n",
      "5 Train MSE: 0.0403355 \tSparsity loss: 0.0898428 \tTotal loss: 0.058304\n",
      "6 Train MSE: 0.0371417 \tSparsity loss: 0.109219 \tTotal loss: 0.0589855\n",
      "7 Train MSE: 0.0342621 \tSparsity loss: 0.0905036 \tTotal loss: 0.0523628\n",
      "8 Train MSE: 0.0318321 \tSparsity loss: 0.0608457 \tTotal loss: 0.0440013\n",
      "9 Train MSE: 0.0282292 \tSparsity loss: 0.130242 \tTotal loss: 0.0542776\n",
      "10 Train MSE: 0.0263042 \tSparsity loss: 0.0526854 \tTotal loss: 0.0368413\n",
      "11 Train MSE: 0.0247307 \tSparsity loss: 0.227467 \tTotal loss: 0.070224\n",
      "12 Train MSE: 0.0244073 \tSparsity loss: 0.174459 \tTotal loss: 0.0592991\n",
      "13 Train MSE: 0.0226637 \tSparsity loss: 0.0324985 \tTotal loss: 0.0291634\n",
      "14 Train MSE: 0.0206327 \tSparsity loss: 0.056908 \tTotal loss: 0.0320143\n",
      "15 Train MSE: 0.0207247 \tSparsity loss: 0.126354 \tTotal loss: 0.0459956\n",
      "16 Train MSE: 0.018554 \tSparsity loss: 0.0305506 \tTotal loss: 0.0246641\n",
      "17 Train MSE: 0.0189634 \tSparsity loss: 0.0590946 \tTotal loss: 0.0307823\n",
      "18 Train MSE: 0.018896 \tSparsity loss: 0.0686969 \tTotal loss: 0.0326354\n",
      "19 Train MSE: 0.0171794 \tSparsity loss: 0.0738124 \tTotal loss: 0.0319419\n",
      "20 Train MSE: 0.0169166 \tSparsity loss: 0.171219 \tTotal loss: 0.0511604\n",
      "21 Train MSE: 0.0169777 \tSparsity loss: 0.0953494 \tTotal loss: 0.0360476\n",
      "22 Train MSE: 0.01586 \tSparsity loss: 0.194792 \tTotal loss: 0.0548184\n",
      "23 Train MSE: 0.0152128 \tSparsity loss: 0.0325397 \tTotal loss: 0.0217208\n",
      "24 Train MSE: 0.0165591 \tSparsity loss: 0.114999 \tTotal loss: 0.0395588\n",
      "25 Train MSE: 0.0143769 \tSparsity loss: 0.14694 \tTotal loss: 0.043765\n",
      "26 Train MSE: 0.0147097 \tSparsity loss: 0.196759 \tTotal loss: 0.0540615\n",
      "27 Train MSE: 0.0142443 \tSparsity loss: 0.0367864 \tTotal loss: 0.0216016\n",
      "28 Train MSE: 0.014584 \tSparsity loss: 0.0634963 \tTotal loss: 0.0272833\n",
      "29 Train MSE: 0.0147311 \tSparsity loss: 0.0639282 \tTotal loss: 0.0275168\n",
      "30 Train MSE: 0.0128959 \tSparsity loss: 0.0359591 \tTotal loss: 0.0200877\n",
      "31 Train MSE: 0.0137623 \tSparsity loss: 0.0783248 \tTotal loss: 0.0294273\n",
      "32 Train MSE: 0.0142102 \tSparsity loss: 0.0518074 \tTotal loss: 0.0245717\n",
      "33 Train MSE: 0.0132186 \tSparsity loss: 0.0461607 \tTotal loss: 0.0224508\n",
      "34 Train MSE: 0.0141065 \tSparsity loss: 0.0730083 \tTotal loss: 0.0287082\n",
      "35 Train MSE: 0.0125795 \tSparsity loss: 0.0436094 \tTotal loss: 0.0213014\n",
      "36 Train MSE: 0.0134709 \tSparsity loss: 0.103653 \tTotal loss: 0.0342016\n",
      "37 Train MSE: 0.013303 \tSparsity loss: 0.062628 \tTotal loss: 0.0258286\n",
      "38 Train MSE: 0.0122187 \tSparsity loss: 0.164555 \tTotal loss: 0.0451297\n",
      "39 Train MSE: 0.013748 \tSparsity loss: 0.0529102 \tTotal loss: 0.02433\n",
      "40 Train MSE: 0.012752 \tSparsity loss: 0.0714466 \tTotal loss: 0.0270413\n",
      "41 Train MSE: 0.0124128 \tSparsity loss: 0.0637726 \tTotal loss: 0.0251673\n",
      "42 Train MSE: 0.0129772 \tSparsity loss: 0.15711 \tTotal loss: 0.0443992\n",
      "43 Train MSE: 0.0138566 \tSparsity loss: 0.169631 \tTotal loss: 0.0477827\n",
      "44 Train MSE: 0.0131801 \tSparsity loss: 0.198989 \tTotal loss: 0.0529779\n",
      "45 Train MSE: 0.0131287 \tSparsity loss: 0.10095 \tTotal loss: 0.0333188\n",
      "46 Train MSE: 0.0128236 \tSparsity loss: 0.441507 \tTotal loss: 0.101125\n",
      "47 Train MSE: 0.0133617 \tSparsity loss: 0.254938 \tTotal loss: 0.0643494\n",
      "48 Train MSE: 0.0125548 \tSparsity loss: 0.0997202 \tTotal loss: 0.0324988\n",
      "49 Train MSE: 0.0125421 \tSparsity loss: 0.110577 \tTotal loss: 0.0346575\n"
     ]
    }
   ],
   "source": [
    "n_epochs = 50\n",
    "batch_size = 1000\n",
    "\n",
    "with tf.Session() as sess:\n",
    "    init.run()\n",
    "    for epoch in range(n_epochs):\n",
    "        n_batches = mnist.train.num_examples // batch_size\n",
    "        for iteration in range(n_batches):\n",
    "            print(\"\\r{}%\".format(100 * iteration // n_batches), end=\"\")\n",
    "            sys.stdout.flush()\n",
    "            X_batch,y_batch = mnist.train.next_batch(batch_size)\n",
    "            sess.run(training_op,feed_dict={X:X_batch})\n",
    "        reconstruction_loss_val , sparsity_loss_val ,loss_val = sess.run([\n",
    "            reconstruction_loss,sparsity_loss,loss],feed_dict={X:X_batch})\n",
    "        print(\"\\r{}\".format(epoch), \"Train MSE:\", reconstruction_loss_val, \"\\tSparsity loss:\", sparsity_loss_val, \"\\tTotal loss:\", loss_val)\n",
    "        saver.save(sess,'E:/python_work/handson_ml/tf_logs/run_20170929_9/my_model_sparse.ckpt')"
   ]
  },
  {
   "cell_type": "code",
   "execution_count": 102,
   "metadata": {
    "collapsed": false
   },
   "outputs": [
    {
     "name": "stdout",
     "output_type": "stream",
     "text": [
      "INFO:tensorflow:Restoring parameters from E:/python_work/handson_ml/tf_logs/run_20170929_9/my_model_sparse.ckpt\n"
     ]
    },
    {
     "data": {
      "image/png": "[encoded data removed]",
      "text/plain": [
       "<matplotlib.figure.Figure at 0x17027710>"
      ]
     },
     "metadata": {},
     "output_type": "display_data"
    }
   ],
   "source": [
    "\n",
    "show_reconstructed_digits(X, outputs, \"E:/python_work/handson_ml/tf_logs/run_20170929_9/my_model_sparse.ckpt\")"
   ]
  },
  {
   "cell_type": "markdown",
   "metadata": {
    "collapsed": true
   },
   "source": [
    "# Variable Autoencoder"
   ]
  },
  {
   "cell_type": "code",
   "execution_count": 11,
   "metadata": {
    "collapsed": false
   },
   "outputs": [],
   "source": [
    "from functools import partial\n",
    "import tensorflow as tf\n",
    "reset_graph()\n",
    "\n",
    "n_inputs = 28 * 28\n",
    "n_hidden1 = 500\n",
    "n_hidden2 = 300\n",
    "n_hidden3 = 20\n",
    "n_hidden4 = n_hidden2\n",
    "n_hidden5 = n_hidden1\n",
    "n_outputs = n_inputs\n",
    "\n",
    "learning_rate = 0.001\n",
    "\n",
    "initializer = tf.contrib.layers.variance_scaling_initializer()\n",
    "\n",
    "my_dense_layer = partial(\n",
    "tf.layers.dense,activation=tf.nn.elu,\n",
    "kernel_initializer= initializer)\n",
    "\n",
    "X = tf.placeholder(tf.float32,shape=[None,n_inputs])\n",
    "hidden1 = my_dense_layer(X,n_hidden1)\n",
    "hidden2 = my_dense_layer(hidden1,n_hidden2)\n",
    "hidden3_mean = my_dense_layer(hidden2,n_hidden3,activation=None)\n",
    "hidden3_sigma = my_dense_layer(hidden2,n_hidden3,activation=None)\n",
    "noise = tf.random_normal(tf.shape(hidden3_sigma),dtype=tf.float32)\n",
    "hidden3 = hidden3_mean + hidden3_sigma * noise\n",
    "hidden4 = my_dense_layer(hidden3,n_hidden4)\n",
    "hidden5 = my_dense_layer(hidden4,n_hidden5)\n",
    "logits = my_dense_layer(hidden5,n_outputs,activation=None)\n",
    "outputs = tf.sigmoid(logits)\n",
    "\n",
    "xentropy = tf.nn.sigmoid_cross_entropy_with_logits(labels=X,logits=logits)\n",
    "reconstruction_loss = tf.reduce_sum(xentropy)"
   ]
  },
  {
   "cell_type": "code",
   "execution_count": 12,
   "metadata": {
    "collapsed": true
   },
   "outputs": [],
   "source": [
    "eps = 1e-10\n",
    "laten_loss = 0.5 * tf.reduce_sum(\n",
    "tf.square(hidden3_sigma) + tf.square(hidden3_mean)\n",
    "- 1 - tf.log(eps + tf.square(hidden3_sigma)))"
   ]
  },
  {
   "cell_type": "code",
   "execution_count": 13,
   "metadata": {
    "collapsed": true
   },
   "outputs": [],
   "source": [
    "loss = reconstruction_loss + laten_loss\n",
    "\n",
    "optimizer = tf.train.AdamOptimizer(learning_rate=learning_rate)\n",
    "training_op = optimizer.minimize(loss)\n",
    "\n",
    "init = tf.global_variables_initializer()\n",
    "saver = tf.train.Saver()"
   ]
  },
  {
   "cell_type": "code",
   "execution_count": 15,
   "metadata": {
    "collapsed": false,
    "scrolled": true
   },
   "outputs": [
    {
     "name": "stdout",
     "output_type": "stream",
     "text": [
      "09% Train total loss: 21735.5 \tReconstruction loss: 17213.6 \t Laten loss:  4521.93\n",
      "1 Train total loss: 16919.0 \tReconstruction loss: 14183.7 \t Laten loss:  2735.25\n",
      "2 Train total loss: 14935.2 \tReconstruction loss: 12906.1 \t Laten loss:  2029.09\n",
      "3 Train total loss: 14916.7 \tReconstruction loss: 12873.2 \t Laten loss:  2043.55\n",
      "4 Train total loss: 12462.8 \tReconstruction loss: 10623.9 \t Laten loss:  1838.93\n",
      "5 Train total loss: 11455.7 \tReconstruction loss: 9629.36 \t Laten loss:  1826.31\n",
      "6 Train total loss: 11599.7 \tReconstruction loss: 9672.2 \t Laten loss:  1927.53\n",
      "7 Train total loss: 11808.1 \tReconstruction loss: 9800.28 \t Laten loss:  2007.86\n",
      "8 Train total loss: 10569.2 \tReconstruction loss: 8656.46 \t Laten loss:  1912.73\n",
      "9 Train total loss: 10606.4 \tReconstruction loss: 8686.41 \t Laten loss:  1919.98\n",
      "10 Train total loss: 11040.4 \tReconstruction loss: 8951.04 \t Laten loss:  2089.31\n",
      "11 Train total loss: 10297.9 \tReconstruction loss: 8326.18 \t Laten loss:  1971.69\n",
      "12 Train total loss: 19683.7 \tReconstruction loss: 16103.4 \t Laten loss:  3580.29\n",
      "13% Train total loss: 11921.7 \tReconstruction loss: 9742.92 \t Laten loss:  2178.83\n",
      "14 Train total loss: 10747.8 \tReconstruction loss: 8755.8 \t Laten loss:  1991.95\n",
      "15 Train total loss: 10596.4 \tReconstruction loss: 8515.14 \t Laten loss:  2081.29\n",
      "16 Train total loss: 10882.5 \tReconstruction loss: 8724.15 \t Laten loss:  2158.3\n",
      "17 Train total loss: 10276.5 \tReconstruction loss: 8196.48 \t Laten loss:  2080.06\n",
      "18 Train total loss: 10126.9 \tReconstruction loss: 8091.64 \t Laten loss:  2035.23\n",
      "19 Train total loss: 10999.5 \tReconstruction loss: 8787.98 \t Laten loss:  2211.55\n",
      "20 Train total loss: 10915.9 \tReconstruction loss: 8575.1 \t Laten loss:  2340.77\n",
      "21 Train total loss: 11790.9 \tReconstruction loss: 9632.63 \t Laten loss:  2158.22\n",
      "22% Train total loss: 10179.7 \tReconstruction loss: 8035.52 \t Laten loss:  2144.23\n",
      "23 Train total loss: 10219.7 \tReconstruction loss: 8043.09 \t Laten loss:  2176.64\n",
      "24 Train total loss: 10281.3 \tReconstruction loss: 8089.13 \t Laten loss:  2192.21\n",
      "25 Train total loss: 10391.2 \tReconstruction loss: 8224.23 \t Laten loss:  2166.99\n",
      "26 Train total loss: 10459.8 \tReconstruction loss: 8269.57 \t Laten loss:  2190.26\n",
      "27 Train total loss: 10174.0 \tReconstruction loss: 7970.94 \t Laten loss:  2203.08\n",
      "28% Train total loss: 10343.3 \tReconstruction loss: 8158.67 \t Laten loss:  2184.6\n",
      "29 Train total loss: 10303.4 \tReconstruction loss: 8166.71 \t Laten loss:  2136.72\n",
      "30 Train total loss: 10701.5 \tReconstruction loss: 8469.14 \t Laten loss:  2232.38\n",
      "31 Train total loss: 9899.42 \tReconstruction loss: 7839.17 \t Laten loss:  2060.25\n",
      "32 Train total loss: 9876.18 \tReconstruction loss: 7657.04 \t Laten loss:  2219.14\n",
      "33 Train total loss: 10827.0 \tReconstruction loss: 8500.44 \t Laten loss:  2326.51\n",
      "34 Train total loss: 11976.0 \tReconstruction loss: 9799.86 \t Laten loss:  2176.17\n",
      "35 Train total loss: 13745.8 \tReconstruction loss: 11467.8 \t Laten loss:  2277.99\n",
      "36 Train total loss: 11827.9 \tReconstruction loss: 9485.52 \t Laten loss:  2342.37\n",
      "37 Train total loss: 12254.9 \tReconstruction loss: 9867.49 \t Laten loss:  2387.45\n",
      "38 Train total loss: 11028.9 \tReconstruction loss: 8802.57 \t Laten loss:  2226.28\n",
      "39 Train total loss: 10038.8 \tReconstruction loss: 7763.86 \t Laten loss:  2274.94\n",
      "40 Train total loss: 10767.0 \tReconstruction loss: 8477.49 \t Laten loss:  2289.47\n",
      "41 Train total loss: 9998.0 \tReconstruction loss: 7812.64 \t Laten loss:  2185.36\n",
      "42 Train total loss: 10602.1 \tReconstruction loss: 8397.03 \t Laten loss:  2205.09\n",
      "43 Train total loss: 9859.58 \tReconstruction loss: 7502.09 \t Laten loss:  2357.48\n",
      "44% Train total loss: 9982.01 \tReconstruction loss: 7795.26 \t Laten loss:  2186.75\n",
      "45 Train total loss: 11241.6 \tReconstruction loss: 9085.9 \t Laten loss:  2155.69\n",
      "46 Train total loss: 10827.0 \tReconstruction loss: 8531.97 \t Laten loss:  2294.99\n",
      "47 Train total loss: 10328.5 \tReconstruction loss: 7985.66 \t Laten loss:  2342.81\n",
      "48 Train total loss: 10172.2 \tReconstruction loss: 7821.84 \t Laten loss:  2350.38\n",
      "49 Train total loss: 10004.8 \tReconstruction loss: 7692.35 \t Laten loss:  2312.45\n"
     ]
    }
   ],
   "source": [
    "n_epochs = 50\n",
    "batch_size = 100\n",
    "\n",
    "with tf.Session() as sess:\n",
    "    init.run()\n",
    "    for epoch in range(n_epochs):\n",
    "        n_batches = mnist.train.num_examples // batch_size\n",
    "        for iteration in range(n_batches):\n",
    "            print('\\r{}%'.format(100 * iteration//n_batches),end='')\n",
    "            sys.stdout.flush()\n",
    "            X_batch,y_batch = mnist.train.next_batch(batch_size)\n",
    "            sess.run(training_op,feed_dict={X:X_batch})\n",
    "        loss_val,reconstruction_loss_val,laten_loss_val = sess.run([loss,\n",
    "        reconstruction_loss,laten_loss],feed_dict={X:X_batch})\n",
    "        print('\\r{}'.format(epoch),'Train total loss:',loss_val,'\\tReconstruction loss:',\n",
    "             reconstruction_loss_val,'\\t Laten loss: ',laten_loss_val)\n",
    "        saver.save(sess,'E:/python_work/handson_ml/tf_logs/run_20170930/my_model_variational.ckpt')"
   ]
  },
  {
   "cell_type": "code",
   "execution_count": 18,
   "metadata": {
    "collapsed": true
   },
   "outputs": [],
   "source": [
    "reset_graph()\n",
    "\n",
    "from functools import partial\n",
    "\n",
    "n_inputs = 28 * 28\n",
    "n_hidden1 = 500\n",
    "n_hidden2 = 300\n",
    "n_hidden3 = 20  # codings\n",
    "n_hidden4 = n_hidden2\n",
    "n_hidden5 = n_hidden1\n",
    "n_outputs = n_inputs\n",
    "learning_rate = 0.001\n",
    "\n",
    "initializer = tf.contrib.layers.variance_scaling_initializer()\n",
    "my_dense_layer = partial(\n",
    "    tf.layers.dense,\n",
    "    activation=tf.nn.elu,\n",
    "    kernel_initializer=initializer)\n",
    "\n",
    "X = tf.placeholder(tf.float32, [None, n_inputs])\n",
    "hidden1 = my_dense_layer(X, n_hidden1)\n",
    "hidden2 = my_dense_layer(hidden1, n_hidden2)\n",
    "hidden3_mean = my_dense_layer(hidden2, n_hidden3, activation=None)\n",
    "hidden3_gamma = my_dense_layer(hidden2, n_hidden3, activation=None)\n",
    "noise = tf.random_normal(tf.shape(hidden3_gamma), dtype=tf.float32)\n",
    "hidden3 = hidden3_mean + tf.exp(0.5 * hidden3_gamma) * noise\n",
    "hidden4 = my_dense_layer(hidden3, n_hidden4)\n",
    "hidden5 = my_dense_layer(hidden4, n_hidden5)\n",
    "logits = my_dense_layer(hidden5, n_outputs, activation=None)\n",
    "outputs = tf.sigmoid(logits)\n",
    "\n",
    "xentropy = tf.nn.sigmoid_cross_entropy_with_logits(labels=X, logits=logits)\n",
    "reconstruction_loss = tf.reduce_sum(xentropy)\n",
    "latent_loss = 0.5 * tf.reduce_sum(\n",
    "    tf.exp(hidden3_gamma) + tf.square(hidden3_mean) - 1 - hidden3_gamma)\n",
    "loss = reconstruction_loss + latent_loss\n",
    "\n",
    "optimizer = tf.train.AdamOptimizer(learning_rate=learning_rate)\n",
    "training_op = optimizer.minimize(loss)\n",
    "\n",
    "init = tf.global_variables_initializer()\n",
    "saver = tf.train.Saver()"
   ]
  },
  {
   "cell_type": "code",
   "execution_count": 19,
   "metadata": {
    "collapsed": false
   },
   "outputs": [
    {
     "name": "stdout",
     "output_type": "stream",
     "text": [
      "INFO:tensorflow:Restoring parameters from E:/python_work/handson_ml/tf_logs/run_20170930/my_model_variational.ckpt\n"
     ]
    },
    {
     "data": {
      "image/png": "[encoded data removed]",
      "text/plain": [
       "<matplotlib.figure.Figure at 0x10b23668>"
      ]
     },
     "metadata": {},
     "output_type": "display_data"
    }
   ],
   "source": [
    "show_reconstructed_digits(X, outputs, \"E:/python_work/handson_ml/tf_logs/run_20170930/my_model_variational.ckpt\")"
   ]
  },
  {
   "cell_type": "markdown",
   "metadata": {},
   "source": [
    "# Generate digits"
   ]
  },
  {
   "cell_type": "code",
   "execution_count": 20,
   "metadata": {
    "collapsed": false,
    "scrolled": true
   },
   "outputs": [
    {
     "name": "stdout",
     "output_type": "stream",
     "text": [
      "0 Train total loss: 11694.2 \tReconstruction loss: 9185.2 \tLatent loss: 2509.05\n",
      "1 Train total loss: 11504.2 \tReconstruction loss: 9041.46 \tLatent loss: 2462.73\n",
      "2 Train total loss: 11080.1 \tReconstruction loss: 8548.24 \tLatent loss: 2531.9\n",
      "39% Train total loss: 10941.2 \tReconstruction loss: 8426.89 \tLatent loss: 2514.34\n",
      "4 Train total loss: 9987.72 \tReconstruction loss: 7542.27 \tLatent loss: 2445.45\n",
      "5 Train total loss: 10590.0 \tReconstruction loss: 8090.59 \tLatent loss: 2499.4\n",
      "69% Train total loss: 10941.9 \tReconstruction loss: 8302.11 \tLatent loss: 2639.76\n",
      "7 Train total loss: 10807.1 \tReconstruction loss: 8212.24 \tLatent loss: 2594.82\n",
      "8 Train total loss: 10936.4 \tReconstruction loss: 8325.91 \tLatent loss: 2610.5\n",
      "99% Train total loss: 10392.6 \tReconstruction loss: 7792.32 \tLatent loss: 2600.25\n",
      "10 Train total loss: 10208.9 \tReconstruction loss: 7710.8 \tLatent loss: 2498.13\n",
      "11 Train total loss: 10765.6 \tReconstruction loss: 8155.27 \tLatent loss: 2610.33\n",
      "12 Train total loss: 10270.2 \tReconstruction loss: 7766.5 \tLatent loss: 2503.65\n",
      "13 Train total loss: 10260.2 \tReconstruction loss: 7783.74 \tLatent loss: 2476.44\n",
      "14 Train total loss: 10036.8 \tReconstruction loss: 7603.88 \tLatent loss: 2432.9\n",
      "15 Train total loss: 10113.5 \tReconstruction loss: 7613.31 \tLatent loss: 2500.16\n",
      "16 Train total loss: 10092.4 \tReconstruction loss: 7590.78 \tLatent loss: 2501.62\n",
      "17 Train total loss: 10165.9 \tReconstruction loss: 7661.55 \tLatent loss: 2504.38\n",
      "18 Train total loss: 9890.0 \tReconstruction loss: 7411.44 \tLatent loss: 2478.55\n",
      "19 Train total loss: 10188.9 \tReconstruction loss: 7620.76 \tLatent loss: 2568.17\n",
      "20 Train total loss: 10260.6 \tReconstruction loss: 7783.73 \tLatent loss: 2476.83\n",
      "21 Train total loss: 9923.66 \tReconstruction loss: 7452.66 \tLatent loss: 2471.0\n",
      "22% Train total loss: 10176.4 \tReconstruction loss: 7643.38 \tLatent loss: 2533.02\n",
      "23 Train total loss: 9640.01 \tReconstruction loss: 7260.79 \tLatent loss: 2379.22\n",
      "24 Train total loss: 10007.2 \tReconstruction loss: 7553.92 \tLatent loss: 2453.29\n",
      "25 Train total loss: 10295.2 \tReconstruction loss: 7777.43 \tLatent loss: 2517.81\n",
      "26 Train total loss: 10185.0 \tReconstruction loss: 7659.04 \tLatent loss: 2525.99\n",
      "27 Train total loss: 10275.2 \tReconstruction loss: 7789.12 \tLatent loss: 2486.05\n",
      "28% Train total loss: 9958.55 \tReconstruction loss: 7451.82 \tLatent loss: 2506.74\n",
      "29 Train total loss: 9712.8 \tReconstruction loss: 7246.97 \tLatent loss: 2465.83\n",
      "30 Train total loss: 10193.3 \tReconstruction loss: 7712.73 \tLatent loss: 2480.59\n",
      "31 Train total loss: 9919.75 \tReconstruction loss: 7422.17 \tLatent loss: 2497.58\n",
      "32 Train total loss: 10179.4 \tReconstruction loss: 7694.94 \tLatent loss: 2484.42\n",
      "33 Train total loss: 10219.2 \tReconstruction loss: 7633.64 \tLatent loss: 2585.56\n",
      "34 Train total loss: 10134.3 \tReconstruction loss: 7648.67 \tLatent loss: 2485.61\n",
      "35 Train total loss: 9981.85 \tReconstruction loss: 7511.4 \tLatent loss: 2470.45\n",
      "36 Train total loss: 9984.34 \tReconstruction loss: 7510.48 \tLatent loss: 2473.86\n",
      "37 Train total loss: 9729.83 \tReconstruction loss: 7319.38 \tLatent loss: 2410.46\n",
      "38 Train total loss: 9769.71 \tReconstruction loss: 7313.75 \tLatent loss: 2455.96\n",
      "39 Train total loss: 9800.87 \tReconstruction loss: 7347.49 \tLatent loss: 2453.38\n",
      "40 Train total loss: 9364.73 \tReconstruction loss: 7006.74 \tLatent loss: 2357.99\n",
      "41 Train total loss: 9839.54 \tReconstruction loss: 7409.92 \tLatent loss: 2429.62\n",
      "42 Train total loss: 10516.6 \tReconstruction loss: 7913.86 \tLatent loss: 2602.76\n",
      "43% Train total loss: 9872.68 \tReconstruction loss: 7389.82 \tLatent loss: 2482.86\n",
      "44 Train total loss: 9856.54 \tReconstruction loss: 7398.01 \tLatent loss: 2458.53\n",
      "45 Train total loss: 10038.4 \tReconstruction loss: 7548.25 \tLatent loss: 2490.16\n",
      "46 Train total loss: 10362.0 \tReconstruction loss: 7765.42 \tLatent loss: 2596.6\n",
      "47 Train total loss: 9847.49 \tReconstruction loss: 7399.71 \tLatent loss: 2447.78\n",
      "48 Train total loss: 9937.26 \tReconstruction loss: 7399.92 \tLatent loss: 2537.33\n",
      "49 Train total loss: 9683.43 \tReconstruction loss: 7256.48 \tLatent loss: 2426.95\n"
     ]
    }
   ],
   "source": [
    "n_digits = 60\n",
    "n_epochs = 50\n",
    "batch_size = 100\n",
    "\n",
    "with tf.Session() as sess:\n",
    "    init.run()\n",
    "    for epoch in range(n_epochs):\n",
    "        n_batches = mnist.train.num_examples // batch_size\n",
    "        for iteration in range( n_batches):\n",
    "            print('\\r{}%'.format(100*iteration//n_batches),end='')\n",
    "            sys.stdout.flush()\n",
    "            X_batch,y_batch = mnist.train.next_batch(batch_size)\n",
    "            sess.run(training_op,feed_dict={X:X_batch})\n",
    "        loss_val, reconstruction_loss_val, latent_loss_val = sess.run([loss, reconstruction_loss, latent_loss], feed_dict={X: X_batch}) # not shown\n",
    "        print(\"\\r{}\".format(epoch), \"Train total loss:\", loss_val, \"\\tReconstruction loss:\", reconstruction_loss_val, \"\\tLatent loss:\", latent_loss_val)  # not shown\n",
    "        saver.save(sess, \"E:/python_work/handson_ml/tf_logs/run_20170930_2/my_model_variational.ckpt\")  # not shown\n",
    "    \n",
    "    codings_rnd = np.random.normal(size=[n_digits, n_hidden3])\n",
    "    outputs_val = outputs.eval(feed_dict={hidden3: codings_rnd})"
   ]
  },
  {
   "cell_type": "code",
   "execution_count": 22,
   "metadata": {
    "collapsed": false
   },
   "outputs": [
    {
     "data": {
      "image/png": "[encoded data removed]",
      "text/plain": [
       "<matplotlib.figure.Figure at 0x165ac940>"
      ]
     },
     "metadata": {},
     "output_type": "display_data"
    }
   ],
   "source": [
    "plt.figure(figsize=(8,50))\n",
    "for iteration in range(n_digits):\n",
    "    plt.subplot(n_digits, 10, iteration + 1)\n",
    "    plot_image(outputs_val[iteration])"
   ]
  },
  {
   "cell_type": "code",
   "execution_count": 26,
   "metadata": {
    "collapsed": false
   },
   "outputs": [
    {
     "data": {
      "image/png": "[encoded data removed]",
      "text/plain": [
       "<matplotlib.figure.Figure at 0x1884be48>"
      ]
     },
     "metadata": {},
     "output_type": "display_data"
    }
   ],
   "source": [
    "\n",
    "n_rows = 6\n",
    "n_cols = 10\n",
    "plot_multiple_image(outputs_val.reshape(-1, 28, 28), n_rows, n_cols)\n",
    "plt.show()"
   ]
  },
  {
   "cell_type": "markdown",
   "metadata": {},
   "source": [
    "# Encode and Decode"
   ]
  },
  {
   "cell_type": "markdown",
   "metadata": {},
   "source": [
    "Encode"
   ]
  },
  {
   "cell_type": "code",
   "execution_count": 27,
   "metadata": {
    "collapsed": false
   },
   "outputs": [
    {
     "name": "stdout",
     "output_type": "stream",
     "text": [
      "INFO:tensorflow:Restoring parameters from E:/python_work/handson_ml/tf_logs/run_20170930_2/my_model_variational.ckpt\n"
     ]
    }
   ],
   "source": [
    "n_digits = 3\n",
    "X_test,y_test = mnist.test.next_batch(batch_size)\n",
    "codings = hidden3\n",
    "\n",
    "with tf.Session() as sess:\n",
    "    saver.restore(sess,'E:/python_work/handson_ml/tf_logs/run_20170930_2/my_model_variational.ckpt')\n",
    "    codings_val = codings.eval(feed_dict={X:X_test})"
   ]
  },
  {
   "cell_type": "markdown",
   "metadata": {},
   "source": [
    "Decode"
   ]
  },
  {
   "cell_type": "code",
   "execution_count": 28,
   "metadata": {
    "collapsed": false
   },
   "outputs": [
    {
     "name": "stdout",
     "output_type": "stream",
     "text": [
      "INFO:tensorflow:Restoring parameters from E:/python_work/handson_ml/tf_logs/run_20170930_2/my_model_variational.ckpt\n"
     ]
    }
   ],
   "source": [
    "with tf.Session() as sess:\n",
    "    saver.restore(sess,'E:/python_work/handson_ml/tf_logs/run_20170930_2/my_model_variational.ckpt')\n",
    "    outputs_val = outputs.eval(feed_dict={codings:codings_val})"
   ]
  },
  {
   "cell_type": "code",
   "execution_count": 29,
   "metadata": {
    "collapsed": false
   },
   "outputs": [
    {
     "data": {
      "image/png": "[encoded data removed]",
      "text/plain": [
       "<matplotlib.figure.Figure at 0x18717ef0>"
      ]
     },
     "metadata": {},
     "output_type": "display_data"
    }
   ],
   "source": [
    "fig = plt.figure(figsize=(8, 2.5 * n_digits))\n",
    "for iteration in range(n_digits):\n",
    "    plt.subplot(n_digits, 2, 1 + 2 * iteration)\n",
    "    plot_image(X_test[iteration])\n",
    "    plt.subplot(n_digits, 2, 2 + 2 * iteration)\n",
    "    plot_image(outputs_val[iteration])"
   ]
  },
  {
   "cell_type": "markdown",
   "metadata": {},
   "source": [
    "## Interpolate digits"
   ]
  },
  {
   "cell_type": "code",
   "execution_count": 30,
   "metadata": {
    "collapsed": false
   },
   "outputs": [
    {
     "name": "stdout",
     "output_type": "stream",
     "text": [
      "INFO:tensorflow:Restoring parameters from E:/python_work/handson_ml/tf_logs/run_20170930_2/my_model_variational.ckpt\n"
     ]
    },
    {
     "data": {
      "image/png": "[encoded data removed]",
      "text/plain": [
       "<matplotlib.figure.Figure at 0x18f11080>"
      ]
     },
     "metadata": {},
     "output_type": "display_data"
    },
    {
     "data": {
      "image/png": "[encoded data removed]",
      "text/plain": [
       "<matplotlib.figure.Figure at 0x15751be0>"
      ]
     },
     "metadata": {},
     "output_type": "display_data"
    },
    {
     "data": {
      "image/png": "[encoded data removed]",
      "text/plain": [
       "<matplotlib.figure.Figure at 0x165d1240>"
      ]
     },
     "metadata": {},
     "output_type": "display_data"
    },
    {
     "data": {
      "image/png": "[encoded data removed]",
      "text/plain": [
       "<matplotlib.figure.Figure at 0x18ce9f60>"
      ]
     },
     "metadata": {},
     "output_type": "display_data"
    }
   ],
   "source": [
    "n_iterations = 3\n",
    "n_digits = 6\n",
    "codings_rnd = np.random.normal(size=[n_digits,n_hidden3])\n",
    "\n",
    "n_iterations = 3\n",
    "n_digits = 6\n",
    "codings_rnd = np.random.normal(size=[n_digits, n_hidden3])\n",
    "\n",
    "with tf.Session() as sess:\n",
    "    saver.restore(sess, \"E:/python_work/handson_ml/tf_logs/run_20170930_2/my_model_variational.ckpt\")\n",
    "    target_codings = np.roll(codings_rnd, -1, axis=0)\n",
    "    for iteration in range(n_iterations + 1):\n",
    "        codings_interpolate = codings_rnd + (target_codings - codings_rnd) * iteration / n_iterations\n",
    "        outputs_val = outputs.eval(feed_dict={codings: codings_interpolate})\n",
    "        plt.figure(figsize=(11, 1.5*n_iterations))\n",
    "        for digit_index in range(n_digits):\n",
    "            plt.subplot(1, n_digits, digit_index + 1)\n",
    "            plot_image(outputs_val[digit_index])\n",
    "        plt.show()"
   ]
  },
  {
   "cell_type": "code",
   "execution_count": null,
   "metadata": {
    "collapsed": true
   },
   "outputs": [],
   "source": []
  }
 ],
 "metadata": {
  "kernelspec": {
   "display_name": "Python 3",
   "language": "python",
   "name": "python3"
  },
  "language_info": {
   "codemirror_mode": {
    "name": "ipython",
    "version": 3
   },
   "file_extension": ".py",
   "mimetype": "text/x-python",
   "name": "python",
   "nbconvert_exporter": "python",
   "pygments_lexer": "ipython3",
   "version": "3.6.0"
  }
 },
 "nbformat": 4,
 "nbformat_minor": 2
}
