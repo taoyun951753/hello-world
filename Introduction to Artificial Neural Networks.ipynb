{
 "cells": [
  {
   "cell_type": "code",
   "execution_count": 1,
   "metadata": {
    "collapsed": false
   },
   "outputs": [],
   "source": [
    "import numpy as np\n",
    "import os\n",
    "\n",
    "def reset_graph(seed=42):\n",
    "    tf.reset_default_graph()\n",
    "    tf.set_random_seed(seed)\n",
    "    np.random.seed(seed)\n",
    "    \n",
    "%matplotlib inline\n",
    "import matplotlib\n",
    "import matplotlib.pyplot as plt\n",
    "import seaborn as sns\n",
    "sns.set(style='white')\n",
    "plt.rcParams['axes.labelsize'] = 14\n",
    "plt.rcParams['xtick.labelsize'] = 14\n",
    "plt.rcParams['ytick.labelsize'] = 12\n",
    "\n",
    "\n"
   ]
  },
  {
   "cell_type": "code",
   "execution_count": 2,
   "metadata": {
    "collapsed": true
   },
   "outputs": [],
   "source": [
    "import tensorflow as tf"
   ]
  },
  {
   "cell_type": "markdown",
   "metadata": {},
   "source": [
    "# Perceptrons"
   ]
  },
  {
   "cell_type": "code",
   "execution_count": 4,
   "metadata": {
    "collapsed": false
   },
   "outputs": [
    {
     "name": "stderr",
     "output_type": "stream",
     "text": [
      "E:\\anaconda\\anaconda\\lib\\site-packages\\sklearn\\linear_model\\stochastic_gradient.py:84: FutureWarning: max_iter and tol parameters have been added in <class 'sklearn.linear_model.perceptron.Perceptron'> in 0.19. If both are left unset, they default to max_iter=5 and tol=None. If tol is not None, max_iter defaults to max_iter=1000. From 0.21, default max_iter will be 1000, and default tol will be 1e-3.\n",
      "  \"and default tol will be 1e-3.\" % type(self), FutureWarning)\n"
     ]
    }
   ],
   "source": [
    "from sklearn.datasets import load_iris\n",
    "from sklearn.linear_model import Perceptron\n",
    "\n",
    "iris = load_iris()\n",
    "X = iris.data[:,(2,3)]\n",
    "y = (iris.target ==0)\n",
    "\n",
    "per_clf = Perceptron(random_state=42)\n",
    "per_clf.fit(X,y)\n",
    "\n",
    "y_pred = per_clf.predict([[2,0.5]])"
   ]
  },
  {
   "cell_type": "code",
   "execution_count": 5,
   "metadata": {
    "collapsed": false
   },
   "outputs": [
    {
     "data": {
      "text/plain": [
       "array([ True], dtype=bool)"
      ]
     },
     "execution_count": 5,
     "metadata": {},
     "output_type": "execute_result"
    }
   ],
   "source": [
    "y_pred"
   ]
  },
  {
   "cell_type": "code",
   "execution_count": 6,
   "metadata": {
    "collapsed": false
   },
   "outputs": [
    {
     "data": {
      "text/plain": [
       "array([[-1.1, -1.3]])"
      ]
     },
     "execution_count": 6,
     "metadata": {},
     "output_type": "execute_result"
    }
   ],
   "source": [
    "per_clf.coef_"
   ]
  },
  {
   "cell_type": "code",
   "execution_count": 7,
   "metadata": {
    "collapsed": false
   },
   "outputs": [
    {
     "data": {
      "text/plain": [
       "array([ 3.])"
      ]
     },
     "execution_count": 7,
     "metadata": {},
     "output_type": "execute_result"
    }
   ],
   "source": [
    "per_clf.intercept_"
   ]
  },
  {
   "cell_type": "code",
   "execution_count": 8,
   "metadata": {
    "collapsed": false
   },
   "outputs": [
    {
     "data": {
      "image/png": "[encoded data removed]",
      "text/plain": [
       "<matplotlib.figure.Figure at 0xcf35908>"
      ]
     },
     "metadata": {},
     "output_type": "display_data"
    }
   ],
   "source": [
    "\n",
    "a = -per_clf.coef_[0][0] / per_clf.coef_[0][1]\n",
    "b = -per_clf.intercept_ / per_clf.coef_[0][1]\n",
    "\n",
    "axes = [0, 5, 0, 2]\n",
    "\n",
    "x0, x1 = np.meshgrid(\n",
    "        np.linspace(axes[0], axes[1], 500).reshape(-1, 1),\n",
    "        np.linspace(axes[2], axes[3], 200).reshape(-1, 1),\n",
    "    )\n",
    "X_new = np.c_[x0.ravel(), x1.ravel()]\n",
    "y_predict = per_clf.predict(X_new)\n",
    "zz = y_predict.reshape(x0.shape)\n",
    "\n",
    "plt.figure(figsize=(10, 4))\n",
    "plt.plot(X[y==0, 0], X[y==0, 1], \"bs\", label=\"Not Iris-Setosa\")\n",
    "plt.plot(X[y==1, 0], X[y==1, 1], \"yo\", label=\"Iris-Setosa\")\n",
    "\n",
    "plt.plot([axes[0], axes[1]], [a * axes[0] + b, a * axes[1] + b], \"k-\", linewidth=3)\n",
    "from matplotlib.colors import ListedColormap\n",
    "custom_cmap = ListedColormap(['#9898ff', '#fafab0'])\n",
    "\n",
    "plt.contourf(x0, x1, zz, cmap=custom_cmap, linewidth=5)\n",
    "plt.xlabel(\"Petal length\", fontsize=14)\n",
    "plt.ylabel(\"Petal width\", fontsize=14)\n",
    "plt.legend(loc=\"lower right\", fontsize=14)\n",
    "plt.axis(axes)\n",
    "plt.show()"
   ]
  },
  {
   "cell_type": "markdown",
   "metadata": {},
   "source": [
    "# Activation function"
   ]
  },
  {
   "cell_type": "code",
   "execution_count": 9,
   "metadata": {
    "collapsed": true
   },
   "outputs": [],
   "source": [
    "def logit(z):\n",
    "    return 1/(1+np.exp(-z))"
   ]
  },
  {
   "cell_type": "code",
   "execution_count": 10,
   "metadata": {
    "collapsed": true
   },
   "outputs": [],
   "source": [
    "def relu(z):\n",
    "    return np.maximum(0,z)"
   ]
  },
  {
   "cell_type": "code",
   "execution_count": 11,
   "metadata": {
    "collapsed": true
   },
   "outputs": [],
   "source": [
    "def derivative(f,z,eps=0.000001):\n",
    "    return (f(z+eps)-f(z-eps))/(2 * eps)"
   ]
  },
  {
   "cell_type": "code",
   "execution_count": 12,
   "metadata": {
    "collapsed": false
   },
   "outputs": [
    {
     "data": {
      "image/png": "[encoded data removed]",
      "text/plain": [
       "<matplotlib.figure.Figure at 0xcef5ba8>"
      ]
     },
     "metadata": {},
     "output_type": "display_data"
    }
   ],
   "source": [
    "z = np.linspace(-5, 5, 200)\n",
    "\n",
    "plt.figure(figsize=(11,4))\n",
    "\n",
    "plt.subplot(121)\n",
    "plt.plot(z, np.sign(z), \"r-\", linewidth=2, label=\"Step\")\n",
    "plt.plot(z, logit(z), \"g--\", linewidth=2, label=\"Logit\")\n",
    "plt.plot(z, np.tanh(z), \"b-\", linewidth=2, label=\"Tanh\")\n",
    "plt.plot(z, relu(z), \"m-.\", linewidth=2, label=\"ReLU\")\n",
    "plt.grid(True)\n",
    "plt.legend(loc=\"center right\", fontsize=14)\n",
    "plt.title(\"Activation functions\", fontsize=14)\n",
    "plt.axis([-5, 5, -1.2, 1.2])\n",
    "\n",
    "plt.subplot(122)\n",
    "plt.plot(z, derivative(np.sign, z), \"r-\", linewidth=2, label=\"Step\")\n",
    "plt.plot(0, 0, \"ro\", markersize=5)\n",
    "plt.plot(0, 0, \"rx\", markersize=10)\n",
    "plt.plot(z, derivative(logit, z), \"g--\", linewidth=2, label=\"Logit\")\n",
    "plt.plot(z, derivative(np.tanh, z), \"b-\", linewidth=2, label=\"Tanh\")\n",
    "plt.plot(z, derivative(relu, z), \"m-.\", linewidth=2, label=\"ReLU\")\n",
    "plt.grid(True)\n",
    "#plt.legend(loc=\"center right\", fontsize=14)\n",
    "plt.title(\"Derivatives\", fontsize=14)\n",
    "plt.axis([-5, 5, -0.2, 1.2])\n",
    "plt.show()"
   ]
  },
  {
   "cell_type": "code",
   "execution_count": 13,
   "metadata": {
    "collapsed": true
   },
   "outputs": [],
   "source": [
    "def heaviside(z):\n",
    "    return (z>=0).astype(z.dtype)\n",
    "\n",
    "def sigmoid(z):\n",
    "    return 1/(1+np.exp(-z))\n",
    "\n",
    "def mlp_xor(x1,x2,activation=heaviside):\n",
    "    return activation(-activation(x1+x2-1.5) + activation(x1+x2-0.5) - 0.5)"
   ]
  },
  {
   "cell_type": "code",
   "execution_count": 14,
   "metadata": {
    "collapsed": false,
    "scrolled": true
   },
   "outputs": [
    {
     "data": {
      "image/png": "[encoded data removed]",
      "text/plain": [
       "<matplotlib.figure.Figure at 0xea529e8>"
      ]
     },
     "metadata": {},
     "output_type": "display_data"
    }
   ],
   "source": [
    "\n",
    "x1s = np.linspace(-0.2, 1.2, 100)\n",
    "x2s = np.linspace(-0.2, 1.2, 100)\n",
    "x1, x2 = np.meshgrid(x1s, x2s)\n",
    "\n",
    "z1 = mlp_xor(x1, x2, activation=heaviside)\n",
    "z2 = mlp_xor(x1, x2, activation=sigmoid)\n",
    "\n",
    "plt.figure(figsize=(10,4))\n",
    "\n",
    "plt.subplot(121)\n",
    "plt.contourf(x1, x2, z1)\n",
    "plt.plot([0, 1], [0, 1], \"gs\", markersize=20)\n",
    "plt.plot([0, 1], [1, 0], \"y^\", markersize=20)\n",
    "plt.title(\"Activation function: heaviside\", fontsize=14)\n",
    "plt.grid(True)\n",
    "\n",
    "plt.subplot(122)\n",
    "plt.contourf(x1, x2, z2)\n",
    "plt.plot([0, 1], [0, 1], \"gs\", markersize=20)\n",
    "plt.plot([0, 1], [1, 0], \"y^\", markersize=20)\n",
    "plt.title(\"Activation function: sigmoid\", fontsize=14)\n",
    "plt.grid(True)\n",
    "plt.show()"
   ]
  },
  {
   "cell_type": "code",
   "execution_count": null,
   "metadata": {
    "collapsed": false
   },
   "outputs": [],
   "source": [
    "from tensorflow.examples.tutorials.mnist import input_data\n",
    "mnist = input_data.read_data_sets('E:/python_work/handson_ml/datasets/data/')"
   ]
  },
  {
   "cell_type": "code",
   "execution_count": 17,
   "metadata": {
    "collapsed": true
   },
   "outputs": [],
   "source": [
    "X_train = mnist.train.images\n",
    "X_test = mnist.test.images\n",
    "y_train = mnist.train.labels.astype('int')\n",
    "y_test = mnist.test.labels.astype('int')"
   ]
  },
  {
   "cell_type": "code",
   "execution_count": 22,
   "metadata": {
    "collapsed": false
   },
   "outputs": [
    {
     "name": "stdout",
     "output_type": "stream",
     "text": [
      "INFO:tensorflow:Using default config.\n",
      "WARNING:tensorflow:Using temporary folder as model directory: C:\\Users\\ADMINI~1\\AppData\\Local\\Temp\\tmppbhabzzw\n",
      "INFO:tensorflow:Using config: {'_task_type': None, '_task_id': 0, '_cluster_spec': <tensorflow.python.training.server_lib.ClusterSpec object at 0x0000000010824278>, '_master': '', '_num_ps_replicas': 0, '_num_worker_replicas': 0, '_environment': 'local', '_is_chief': True, '_evaluation_master': '', '_tf_config': gpu_options {\n",
      "  per_process_gpu_memory_fraction: 1\n",
      "}\n",
      ", '_tf_random_seed': None, '_save_summary_steps': 100, '_save_checkpoints_secs': 600, '_session_config': None, '_save_checkpoints_steps': None, '_keep_checkpoint_max': 5, '_keep_checkpoint_every_n_hours': 10000, '_model_dir': 'C:\\\\Users\\\\ADMINI~1\\\\AppData\\\\Local\\\\Temp\\\\tmppbhabzzw'}\n"
     ]
    },
    {
     "name": "stderr",
     "output_type": "stream",
     "text": [
      "E:\\anaconda\\anaconda\\lib\\site-packages\\tensorflow\\python\\util\\deprecation.py:254: FutureWarning: comparison to `None` will result in an elementwise object comparison in the future.\n",
      "  equality = a == b\n"
     ]
    },
    {
     "name": "stdout",
     "output_type": "stream",
     "text": [
      "WARNING:tensorflow:From <ipython-input-22-bed855863ac0>:7: calling BaseEstimator.fit (from tensorflow.contrib.learn.python.learn.estimators.estimator) with x is deprecated and will be removed after 2016-12-01.\n",
      "Instructions for updating:\n",
      "Estimator is decoupled from Scikit Learn interface by moving into\n",
      "separate class SKCompat. Arguments x, y and batch_size are only\n",
      "available in the SKCompat class, Estimator will only accept input_fn.\n",
      "Example conversion:\n",
      "  est = Estimator(...) -> est = SKCompat(Estimator(...))\n",
      "WARNING:tensorflow:From <ipython-input-22-bed855863ac0>:7: calling BaseEstimator.fit (from tensorflow.contrib.learn.python.learn.estimators.estimator) with y is deprecated and will be removed after 2016-12-01.\n",
      "Instructions for updating:\n",
      "Estimator is decoupled from Scikit Learn interface by moving into\n",
      "separate class SKCompat. Arguments x, y and batch_size are only\n",
      "available in the SKCompat class, Estimator will only accept input_fn.\n",
      "Example conversion:\n",
      "  est = Estimator(...) -> est = SKCompat(Estimator(...))\n",
      "WARNING:tensorflow:From <ipython-input-22-bed855863ac0>:7: calling BaseEstimator.fit (from tensorflow.contrib.learn.python.learn.estimators.estimator) with batch_size is deprecated and will be removed after 2016-12-01.\n",
      "Instructions for updating:\n",
      "Estimator is decoupled from Scikit Learn interface by moving into\n",
      "separate class SKCompat. Arguments x, y and batch_size are only\n",
      "available in the SKCompat class, Estimator will only accept input_fn.\n",
      "Example conversion:\n",
      "  est = Estimator(...) -> est = SKCompat(Estimator(...))\n",
      "WARNING:tensorflow:From E:\\anaconda\\anaconda\\lib\\site-packages\\tensorflow\\contrib\\learn\\python\\learn\\estimators\\head.py:625: scalar_summary (from tensorflow.python.ops.logging_ops) is deprecated and will be removed after 2016-11-30.\n",
      "Instructions for updating:\n",
      "Please switch to tf.summary.scalar. Note that tf.summary.scalar uses the node name instead of the tag. This means that TensorFlow will automatically de-duplicate summary names based on the scope they are created in. Also, passing a tensor or list of tags to a scalar summary op is no longer supported.\n",
      "INFO:tensorflow:Create CheckpointSaverHook.\n",
      "INFO:tensorflow:Saving checkpoints for 1 into C:\\Users\\ADMINI~1\\AppData\\Local\\Temp\\tmppbhabzzw\\model.ckpt.\n",
      "INFO:tensorflow:loss = 2.39247, step = 1\n",
      "INFO:tensorflow:global_step/sec: 63.7719\n",
      "INFO:tensorflow:loss = 0.374245, step = 101 (1.603 sec)\n",
      "INFO:tensorflow:global_step/sec: 35.3587\n",
      "INFO:tensorflow:loss = 0.280451, step = 201 (2.814 sec)\n",
      "INFO:tensorflow:global_step/sec: 50.2484\n",
      "INFO:tensorflow:loss = 0.309219, step = 301 (1.976 sec)\n",
      "INFO:tensorflow:global_step/sec: 66.7073\n",
      "INFO:tensorflow:loss = 0.262897, step = 401 (1.498 sec)\n",
      "INFO:tensorflow:global_step/sec: 58.7165\n",
      "INFO:tensorflow:loss = 0.316503, step = 501 (1.712 sec)\n",
      "INFO:tensorflow:global_step/sec: 34.6121\n",
      "INFO:tensorflow:loss = 0.0911667, step = 601 (2.894 sec)\n",
      "INFO:tensorflow:global_step/sec: 37.9341\n",
      "INFO:tensorflow:loss = 0.116867, step = 701 (2.625 sec)\n",
      "INFO:tensorflow:global_step/sec: 53.0192\n",
      "INFO:tensorflow:loss = 0.239935, step = 801 (1.889 sec)\n",
      "INFO:tensorflow:global_step/sec: 51.5434\n",
      "INFO:tensorflow:loss = 0.116858, step = 901 (1.961 sec)\n",
      "INFO:tensorflow:global_step/sec: 33.0014\n",
      "INFO:tensorflow:loss = 0.226939, step = 1001 (3.015 sec)\n",
      "INFO:tensorflow:global_step/sec: 56.7504\n",
      "INFO:tensorflow:loss = 0.190719, step = 1101 (1.752 sec)\n",
      "INFO:tensorflow:global_step/sec: 71.4755\n",
      "INFO:tensorflow:loss = 0.149167, step = 1201 (1.410 sec)\n",
      "INFO:tensorflow:global_step/sec: 71.9383\n",
      "INFO:tensorflow:loss = 0.197239, step = 1301 (1.378 sec)\n",
      "INFO:tensorflow:global_step/sec: 34.3034\n",
      "INFO:tensorflow:loss = 0.0664716, step = 1401 (2.931 sec)\n",
      "INFO:tensorflow:global_step/sec: 40.5821\n",
      "INFO:tensorflow:loss = 0.08444, step = 1501 (2.453 sec)\n",
      "INFO:tensorflow:global_step/sec: 64.5541\n",
      "INFO:tensorflow:loss = 0.118269, step = 1601 (1.552 sec)\n",
      "INFO:tensorflow:global_step/sec: 64.8892\n",
      "INFO:tensorflow:loss = 0.0391886, step = 1701 (1.532 sec)\n",
      "INFO:tensorflow:global_step/sec: 37.3671\n",
      "INFO:tensorflow:loss = 0.153174, step = 1801 (2.691 sec)\n",
      "INFO:tensorflow:global_step/sec: 41.3029\n",
      "INFO:tensorflow:loss = 0.0682849, step = 1901 (2.408 sec)\n",
      "INFO:tensorflow:global_step/sec: 56.5259\n",
      "INFO:tensorflow:loss = 0.0927572, step = 2001 (1.766 sec)\n",
      "INFO:tensorflow:global_step/sec: 59.6625\n",
      "INFO:tensorflow:loss = 0.031751, step = 2101 (1.693 sec)\n",
      "INFO:tensorflow:global_step/sec: 31.425\n",
      "INFO:tensorflow:loss = 0.0387784, step = 2201 (3.171 sec)\n",
      "INFO:tensorflow:global_step/sec: 63.1676\n",
      "INFO:tensorflow:loss = 0.0422903, step = 2301 (1.587 sec)\n",
      "INFO:tensorflow:global_step/sec: 77.5751\n",
      "INFO:tensorflow:loss = 0.0799731, step = 2401 (1.280 sec)\n",
      "INFO:tensorflow:global_step/sec: 63.2075\n",
      "INFO:tensorflow:loss = 0.0759873, step = 2501 (1.581 sec)\n",
      "INFO:tensorflow:global_step/sec: 26.2728\n",
      "INFO:tensorflow:loss = 0.0460374, step = 2601 (3.823 sec)\n",
      "INFO:tensorflow:global_step/sec: 69.8772\n",
      "INFO:tensorflow:loss = 0.00860701, step = 2701 (1.410 sec)\n",
      "INFO:tensorflow:global_step/sec: 60.4195\n",
      "INFO:tensorflow:loss = 0.0458044, step = 2801 (1.659 sec)\n",
      "INFO:tensorflow:global_step/sec: 35.0611\n",
      "INFO:tensorflow:loss = 0.1612, step = 2901 (2.870 sec)\n",
      "INFO:tensorflow:global_step/sec: 37.395\n",
      "INFO:tensorflow:loss = 0.0142304, step = 3001 (2.659 sec)\n",
      "INFO:tensorflow:global_step/sec: 69.0092\n",
      "INFO:tensorflow:loss = 0.0649427, step = 3101 (1.448 sec)\n",
      "INFO:tensorflow:global_step/sec: 78.6119\n",
      "INFO:tensorflow:loss = 0.0169274, step = 3201 (1.267 sec)\n",
      "INFO:tensorflow:global_step/sec: 57.8002\n",
      "INFO:tensorflow:loss = 0.0233115, step = 3301 (1.747 sec)\n",
      "INFO:tensorflow:global_step/sec: 24.7205\n",
      "INFO:tensorflow:loss = 0.195347, step = 3401 (4.037 sec)\n",
      "INFO:tensorflow:global_step/sec: 46.6609\n",
      "INFO:tensorflow:loss = 0.0859669, step = 3501 (2.142 sec)\n",
      "INFO:tensorflow:global_step/sec: 52.518\n",
      "INFO:tensorflow:loss = 0.167063, step = 3601 (1.908 sec)\n",
      "INFO:tensorflow:global_step/sec: 61.9927\n",
      "INFO:tensorflow:loss = 0.0430296, step = 3701 (1.606 sec)\n",
      "INFO:tensorflow:global_step/sec: 30.0825\n",
      "INFO:tensorflow:loss = 0.00654688, step = 3801 (3.336 sec)\n",
      "INFO:tensorflow:global_step/sec: 34.3623\n",
      "INFO:tensorflow:loss = 0.060689, step = 3901 (2.897 sec)\n",
      "INFO:tensorflow:global_step/sec: 62.5355\n",
      "INFO:tensorflow:loss = 0.189535, step = 4001 (1.605 sec)\n",
      "INFO:tensorflow:global_step/sec: 40.6481\n",
      "INFO:tensorflow:loss = 0.0248662, step = 4101 (2.466 sec)\n",
      "INFO:tensorflow:global_step/sec: 36.1251\n",
      "INFO:tensorflow:loss = 0.0336941, step = 4201 (2.762 sec)\n",
      "INFO:tensorflow:global_step/sec: 64.8051\n",
      "INFO:tensorflow:loss = 0.192511, step = 4301 (1.536 sec)\n",
      "INFO:tensorflow:global_step/sec: 53.4157\n",
      "INFO:tensorflow:loss = 0.155351, step = 4401 (1.882 sec)\n",
      "INFO:tensorflow:global_step/sec: 45.2258\n",
      "INFO:tensorflow:loss = 0.0259367, step = 4501 (2.219 sec)\n",
      "INFO:tensorflow:global_step/sec: 32.0084\n",
      "INFO:tensorflow:loss = 0.0349218, step = 4601 (3.109 sec)\n",
      "INFO:tensorflow:global_step/sec: 78.3654\n",
      "INFO:tensorflow:loss = 0.014527, step = 4701 (1.279 sec)\n",
      "INFO:tensorflow:global_step/sec: 79.3605\n",
      "INFO:tensorflow:loss = 0.0191922, step = 4801 (1.283 sec)\n",
      "INFO:tensorflow:global_step/sec: 36.099\n",
      "INFO:tensorflow:loss = 0.0583812, step = 4901 (2.755 sec)\n",
      "INFO:tensorflow:global_step/sec: 24.5144\n",
      "INFO:tensorflow:loss = 0.054208, step = 5001 (4.165 sec)\n",
      "INFO:tensorflow:global_step/sec: 40.9981\n",
      "INFO:tensorflow:loss = 0.011917, step = 5101 (2.352 sec)\n",
      "INFO:tensorflow:global_step/sec: 59.6625\n",
      "INFO:tensorflow:loss = 0.0143336, step = 5201 (1.669 sec)\n",
      "INFO:tensorflow:global_step/sec: 62.5355\n",
      "INFO:tensorflow:loss = 0.0761124, step = 5301 (1.601 sec)\n",
      "INFO:tensorflow:global_step/sec: 33.5326\n",
      "INFO:tensorflow:loss = 0.08002, step = 5401 (2.995 sec)\n",
      "INFO:tensorflow:global_step/sec: 35.8146\n",
      "INFO:tensorflow:loss = 0.0350531, step = 5501 (2.775 sec)\n",
      "INFO:tensorflow:global_step/sec: 48.3765\n",
      "INFO:tensorflow:loss = 0.0896134, step = 5601 (2.065 sec)\n",
      "INFO:tensorflow:global_step/sec: 50.5788\n",
      "INFO:tensorflow:loss = 0.0293467, step = 5701 (1.994 sec)\n",
      "INFO:tensorflow:global_step/sec: 30.758\n",
      "INFO:tensorflow:loss = 0.0125102, step = 5801 (3.248 sec)\n",
      "INFO:tensorflow:global_step/sec: 43.4758\n",
      "INFO:tensorflow:loss = 0.0524997, step = 5901 (2.287 sec)\n",
      "INFO:tensorflow:global_step/sec: 46.1441\n",
      "INFO:tensorflow:loss = 0.0891524, step = 6001 (2.167 sec)\n",
      "INFO:tensorflow:global_step/sec: 30.3934\n",
      "INFO:tensorflow:loss = 0.0215269, step = 6101 (3.297 sec)\n",
      "INFO:tensorflow:global_step/sec: 63.0879\n",
      "INFO:tensorflow:loss = 0.0164054, step = 6201 (1.572 sec)\n",
      "INFO:tensorflow:global_step/sec: 61.0839\n",
      "INFO:tensorflow:loss = 0.0553807, step = 6301 (1.642 sec)\n",
      "INFO:tensorflow:global_step/sec: 47.0119\n",
      "INFO:tensorflow:loss = 0.0208665, step = 6401 (2.138 sec)\n",
      "INFO:tensorflow:global_step/sec: 28.9587\n",
      "INFO:tensorflow:loss = 0.0143578, step = 6501 (3.462 sec)\n",
      "INFO:tensorflow:global_step/sec: 54.8515\n",
      "INFO:tensorflow:loss = 0.00910155, step = 6601 (1.805 sec)\n",
      "INFO:tensorflow:global_step/sec: 67.3816\n",
      "INFO:tensorflow:loss = 0.0170042, step = 6701 (1.480 sec)\n",
      "INFO:tensorflow:global_step/sec: 53.3019\n",
      "INFO:tensorflow:loss = 0.00972615, step = 6801 (1.887 sec)\n",
      "INFO:tensorflow:global_step/sec: 29.4447\n",
      "INFO:tensorflow:loss = 0.0115089, step = 6901 (3.453 sec)\n",
      "INFO:tensorflow:global_step/sec: 63.7312\n",
      "INFO:tensorflow:loss = 0.0187615, step = 7001 (1.501 sec)\n",
      "INFO:tensorflow:global_step/sec: 63.9759\n",
      "INFO:tensorflow:loss = 0.00356995, step = 7101 (1.572 sec)\n",
      "INFO:tensorflow:global_step/sec: 52.2709\n",
      "INFO:tensorflow:loss = 0.0477188, step = 7201 (1.918 sec)\n",
      "INFO:tensorflow:global_step/sec: 28.9838\n",
      "INFO:tensorflow:loss = 0.00603235, step = 7301 (3.443 sec)\n",
      "INFO:tensorflow:global_step/sec: 54.2857\n",
      "INFO:tensorflow:loss = 0.0242338, step = 7401 (1.839 sec)\n",
      "INFO:tensorflow:global_step/sec: 45.4933\n",
      "INFO:tensorflow:loss = 0.00517125, step = 7501 (2.208 sec)\n",
      "INFO:tensorflow:global_step/sec: 21.8662\n",
      "INFO:tensorflow:loss = 0.0227283, step = 7601 (4.567 sec)\n",
      "INFO:tensorflow:global_step/sec: 45.8059\n",
      "INFO:tensorflow:loss = 0.0127003, step = 7701 (2.176 sec)\n",
      "INFO:tensorflow:global_step/sec: 47.6163\n",
      "INFO:tensorflow:loss = 0.00632632, step = 7801 (2.118 sec)\n",
      "INFO:tensorflow:global_step/sec: 24.1357\n",
      "INFO:tensorflow:loss = 0.00599975, step = 7901 (4.133 sec)\n",
      "INFO:tensorflow:global_step/sec: 45.9955\n",
      "INFO:tensorflow:loss = 0.00173233, step = 8001 (2.169 sec)\n",
      "INFO:tensorflow:global_step/sec: 51.9721\n",
      "INFO:tensorflow:loss = 0.00884228, step = 8101 (1.924 sec)\n",
      "INFO:tensorflow:global_step/sec: 23.1468\n",
      "INFO:tensorflow:loss = 0.0193601, step = 8201 (4.323 sec)\n",
      "INFO:tensorflow:global_step/sec: 52.4904\n",
      "INFO:tensorflow:loss = 0.064644, step = 8301 (1.900 sec)\n",
      "INFO:tensorflow:global_step/sec: 46.9898\n",
      "INFO:tensorflow:loss = 0.00254161, step = 8401 (2.131 sec)\n",
      "INFO:tensorflow:global_step/sec: 26.715\n",
      "INFO:tensorflow:loss = 0.00800168, step = 8501 (3.759 sec)\n",
      "INFO:tensorflow:global_step/sec: 33.7819\n",
      "INFO:tensorflow:loss = 0.00341957, step = 8601 (2.944 sec)\n",
      "INFO:tensorflow:global_step/sec: 47.5484\n",
      "INFO:tensorflow:loss = 0.00333174, step = 8701 (2.138 sec)\n",
      "INFO:tensorflow:global_step/sec: 24.5686\n",
      "INFO:tensorflow:loss = 0.00536849, step = 8801 (4.043 sec)\n",
      "INFO:tensorflow:global_step/sec: 49.7732\n",
      "INFO:tensorflow:loss = 0.00275055, step = 8901 (2.003 sec)\n",
      "INFO:tensorflow:global_step/sec: 56.4302\n",
      "INFO:tensorflow:loss = 0.00737128, step = 9001 (1.821 sec)\n",
      "INFO:tensorflow:global_step/sec: 25.0048\n",
      "INFO:tensorflow:loss = 0.008902, step = 9101 (3.966 sec)\n",
      "INFO:tensorflow:global_step/sec: 38.4889\n",
      "INFO:tensorflow:loss = 0.00457442, step = 9201 (2.575 sec)\n",
      "INFO:tensorflow:global_step/sec: 59.2033\n",
      "INFO:tensorflow:loss = 0.00748787, step = 9301 (1.700 sec)\n",
      "INFO:tensorflow:global_step/sec: 30.0554\n",
      "INFO:tensorflow:loss = 0.0287763, step = 9401 (3.331 sec)\n",
      "INFO:tensorflow:global_step/sec: 34.5881\n",
      "INFO:tensorflow:loss = 0.00845357, step = 9501 (2.881 sec)\n",
      "INFO:tensorflow:global_step/sec: 47.2786\n",
      "INFO:tensorflow:loss = 0.0170791, step = 9601 (2.110 sec)\n",
      "INFO:tensorflow:global_step/sec: 27.5466\n",
      "INFO:tensorflow:loss = 0.0045179, step = 9701 (3.650 sec)\n",
      "INFO:tensorflow:global_step/sec: 41.4742\n",
      "INFO:tensorflow:loss = 0.00204174, step = 9801 (2.448 sec)\n",
      "INFO:tensorflow:global_step/sec: 54.4631\n",
      "INFO:tensorflow:loss = 0.038673, step = 9901 (1.783 sec)\n",
      "INFO:tensorflow:global_step/sec: 25.8517\n",
      "INFO:tensorflow:loss = 0.0079674, step = 10001 (3.888 sec)\n",
      "INFO:tensorflow:global_step/sec: 34.1511\n",
      "INFO:tensorflow:loss = 0.0047123, step = 10101 (2.905 sec)\n",
      "INFO:tensorflow:global_step/sec: 45.5555\n",
      "INFO:tensorflow:loss = 0.00335076, step = 10201 (2.199 sec)\n",
      "INFO:tensorflow:global_step/sec: 25.1621\n",
      "INFO:tensorflow:loss = 0.00375027, step = 10301 (3.985 sec)\n",
      "INFO:tensorflow:global_step/sec: 37.0899\n",
      "INFO:tensorflow:loss = 0.00683538, step = 10401 (2.683 sec)\n",
      "INFO:tensorflow:global_step/sec: 49.7484\n",
      "INFO:tensorflow:loss = 0.00338219, step = 10501 (2.011 sec)\n",
      "INFO:tensorflow:global_step/sec: 29.6279\n",
      "INFO:tensorflow:loss = 0.0107201, step = 10601 (3.386 sec)\n",
      "INFO:tensorflow:global_step/sec: 31.0831\n",
      "INFO:tensorflow:loss = 0.0223799, step = 10701 (3.207 sec)\n",
      "INFO:tensorflow:global_step/sec: 48.2133\n",
      "INFO:tensorflow:loss = 0.00782295, step = 10801 (2.077 sec)\n",
      "INFO:tensorflow:global_step/sec: 23.7009\n",
      "INFO:tensorflow:loss = 0.00175514, step = 10901 (4.225 sec)\n",
      "INFO:tensorflow:global_step/sec: 33.4989\n",
      "INFO:tensorflow:loss = 0.0153935, step = 11001 (2.978 sec)\n",
      "INFO:tensorflow:global_step/sec: 50.0722\n",
      "INFO:tensorflow:loss = 0.00613505, step = 11101 (1.996 sec)\n",
      "INFO:tensorflow:global_step/sec: 32.9796\n",
      "INFO:tensorflow:loss = 0.00419831, step = 11201 (3.045 sec)\n",
      "INFO:tensorflow:global_step/sec: 32.6246\n",
      "INFO:tensorflow:loss = 0.00450647, step = 11301 (3.051 sec)\n",
      "INFO:tensorflow:global_step/sec: 44.7602\n",
      "INFO:tensorflow:loss = 0.00576553, step = 11401 (2.233 sec)\n",
      "INFO:tensorflow:global_step/sec: 22.8245\n",
      "INFO:tensorflow:loss = 0.0174083, step = 11501 (4.393 sec)\n",
      "INFO:tensorflow:global_step/sec: 41.3541\n",
      "INFO:tensorflow:loss = 0.00036162, step = 11601 (2.410 sec)\n",
      "INFO:tensorflow:global_step/sec: 47.6844\n",
      "INFO:tensorflow:loss = 0.007887, step = 11701 (2.090 sec)\n",
      "INFO:tensorflow:global_step/sec: 24.377\n",
      "INFO:tensorflow:loss = 0.000574876, step = 11801 (4.143 sec)\n",
      "INFO:tensorflow:global_step/sec: 41.8912\n",
      "INFO:tensorflow:loss = 0.00568017, step = 11901 (2.352 sec)\n",
      "INFO:tensorflow:global_step/sec: 51.9181\n",
      "INFO:tensorflow:loss = 0.00023129, step = 12001 (1.920 sec)\n",
      "INFO:tensorflow:global_step/sec: 29.2981\n",
      "INFO:tensorflow:loss = 0.00444701, step = 12101 (3.425 sec)\n",
      "INFO:tensorflow:global_step/sec: 35.6359\n",
      "INFO:tensorflow:loss = 0.00810206, step = 12201 (2.798 sec)\n",
      "INFO:tensorflow:global_step/sec: 51.7301\n",
      "INFO:tensorflow:loss = 0.00550459, step = 12301 (1.933 sec)\n",
      "INFO:tensorflow:global_step/sec: 30.6355\n",
      "INFO:tensorflow:loss = 0.000514438, step = 12401 (3.305 sec)\n",
      "INFO:tensorflow:global_step/sec: 30.6825\n",
      "INFO:tensorflow:loss = 0.00383961, step = 12501 (3.218 sec)\n",
      "INFO:tensorflow:global_step/sec: 43.7229\n",
      "INFO:tensorflow:loss = 0.000630302, step = 12601 (2.282 sec)\n",
      "INFO:tensorflow:global_step/sec: 25.2447\n",
      "INFO:tensorflow:loss = 0.00183539, step = 12701 (3.978 sec)\n",
      "INFO:tensorflow:global_step/sec: 33.9654\n",
      "INFO:tensorflow:loss = 0.019228, step = 12801 (2.931 sec)\n",
      "INFO:tensorflow:global_step/sec: 45.1441\n",
      "INFO:tensorflow:loss = 0.00288608, step = 12901 (2.222 sec)\n",
      "INFO:tensorflow:global_step/sec: 19.7617\n",
      "INFO:tensorflow:loss = 0.00408554, step = 13001 (5.061 sec)\n",
      "INFO:tensorflow:global_step/sec: 42.7143\n",
      "INFO:tensorflow:loss = 0.00370462, step = 13101 (2.329 sec)\n",
      "INFO:tensorflow:global_step/sec: 28.8667\n",
      "INFO:tensorflow:loss = 0.00474052, step = 13201 (3.484 sec)\n",
      "INFO:tensorflow:global_step/sec: 33.4094\n",
      "INFO:tensorflow:loss = 0.00485905, step = 13301 (2.989 sec)\n",
      "INFO:tensorflow:global_step/sec: 53.4157\n",
      "INFO:tensorflow:loss = 0.00368534, step = 13401 (1.860 sec)\n",
      "INFO:tensorflow:global_step/sec: 29.8312\n",
      "INFO:tensorflow:loss = 0.00766166, step = 13501 (3.365 sec)\n",
      "INFO:tensorflow:global_step/sec: 31.9879\n",
      "INFO:tensorflow:loss = 0.00472864, step = 13601 (3.129 sec)\n",
      "INFO:tensorflow:global_step/sec: 49.4287\n",
      "INFO:tensorflow:loss = 0.00182352, step = 13701 (2.020 sec)\n",
      "INFO:tensorflow:global_step/sec: 24.2587\n",
      "INFO:tensorflow:loss = 0.0078115, step = 13801 (4.123 sec)\n",
      "INFO:tensorflow:global_step/sec: 37.423\n",
      "INFO:tensorflow:loss = 0.00391052, step = 13901 (2.657 sec)\n",
      "INFO:tensorflow:global_step/sec: 47.4356\n",
      "INFO:tensorflow:loss = 0.00171597, step = 14001 (2.114 sec)\n",
      "INFO:tensorflow:global_step/sec: 26.4186\n",
      "INFO:tensorflow:loss = 0.00519186, step = 14101 (3.793 sec)\n",
      "INFO:tensorflow:global_step/sec: 36.047\n",
      "INFO:tensorflow:loss = 0.00921595, step = 14201 (2.759 sec)\n",
      "INFO:tensorflow:global_step/sec: 45.5347\n",
      "INFO:tensorflow:loss = 0.000874866, step = 14301 (2.195 sec)\n",
      "INFO:tensorflow:global_step/sec: 25.2702\n",
      "INFO:tensorflow:loss = 0.000860758, step = 14401 (3.975 sec)\n",
      "INFO:tensorflow:global_step/sec: 40.3854\n",
      "INFO:tensorflow:loss = 0.000779665, step = 14501 (2.462 sec)\n",
      "INFO:tensorflow:global_step/sec: 46.5306\n",
      "INFO:tensorflow:loss = 0.00396012, step = 14601 (2.149 sec)\n",
      "INFO:tensorflow:global_step/sec: 24.8248\n",
      "INFO:tensorflow:loss = 0.00180676, step = 14701 (4.041 sec)\n",
      "INFO:tensorflow:global_step/sec: 42.6051\n",
      "INFO:tensorflow:loss = 0.000749795, step = 14801 (2.333 sec)\n",
      "INFO:tensorflow:global_step/sec: 50.4512\n",
      "INFO:tensorflow:loss = 0.0036207, step = 14901 (1.984 sec)\n",
      "INFO:tensorflow:global_step/sec: 24.7633\n",
      "INFO:tensorflow:loss = 0.000565643, step = 15001 (4.053 sec)\n",
      "INFO:tensorflow:global_step/sec: 39.1674\n",
      "INFO:tensorflow:loss = 0.00125722, step = 15101 (2.534 sec)\n",
      "INFO:tensorflow:global_step/sec: 49.3312\n",
      "INFO:tensorflow:loss = 0.00200011, step = 15201 (2.030 sec)\n",
      "INFO:tensorflow:global_step/sec: 31.6839\n",
      "INFO:tensorflow:loss = 0.00374491, step = 15301 (3.181 sec)\n",
      "INFO:tensorflow:global_step/sec: 32.9253\n",
      "INFO:tensorflow:loss = 0.00218138, step = 15401 (3.055 sec)\n",
      "INFO:tensorflow:global_step/sec: 43.7229\n",
      "INFO:tensorflow:loss = 0.00841552, step = 15501 (2.239 sec)\n",
      "INFO:tensorflow:global_step/sec: 28.4722\n",
      "INFO:tensorflow:loss = 0.00479186, step = 15601 (3.529 sec)\n",
      "INFO:tensorflow:global_step/sec: 37.1726\n",
      "INFO:tensorflow:loss = 0.00812317, step = 15701 (2.675 sec)\n",
      "INFO:tensorflow:global_step/sec: 52.2436\n",
      "INFO:tensorflow:loss = 0.00118686, step = 15801 (1.912 sec)\n",
      "INFO:tensorflow:global_step/sec: 29.6455\n",
      "INFO:tensorflow:loss = 0.000268524, step = 15901 (3.390 sec)\n",
      "INFO:tensorflow:global_step/sec: 28.529\n",
      "INFO:tensorflow:loss = 0.00749619, step = 16001 (3.495 sec)\n",
      "INFO:tensorflow:global_step/sec: 47.89\n",
      "INFO:tensorflow:loss = 0.00222288, step = 16101 (2.084 sec)\n",
      "INFO:tensorflow:global_step/sec: 29.7514\n",
      "INFO:tensorflow:loss = 0.000361934, step = 16201 (3.382 sec)\n",
      "INFO:tensorflow:global_step/sec: 32.8712\n",
      "INFO:tensorflow:loss = 0.00190203, step = 16301 (3.022 sec)\n",
      "INFO:tensorflow:global_step/sec: 47.6844\n",
      "INFO:tensorflow:loss = 0.00240045, step = 16401 (2.096 sec)\n",
      "INFO:tensorflow:global_step/sec: 27.9002\n",
      "INFO:tensorflow:loss = 0.00313595, step = 16501 (3.629 sec)\n",
      "INFO:tensorflow:global_step/sec: 38.8177\n",
      "INFO:tensorflow:loss = 0.00253168, step = 16601 (2.533 sec)\n",
      "INFO:tensorflow:global_step/sec: 46.2294\n",
      "INFO:tensorflow:loss = 0.00261045, step = 16701 (2.167 sec)\n",
      "INFO:tensorflow:global_step/sec: 31.0541\n",
      "INFO:tensorflow:loss = 0.00185089, step = 16801 (3.231 sec)\n",
      "INFO:tensorflow:global_step/sec: 30.1824\n",
      "INFO:tensorflow:loss = 0.00387929, step = 16901 (3.299 sec)\n",
      "INFO:tensorflow:global_step/sec: 49.7484\n",
      "INFO:tensorflow:loss = 0.00608698, step = 17001 (2.006 sec)\n",
      "INFO:tensorflow:global_step/sec: 30.4861\n",
      "INFO:tensorflow:loss = 0.00176753, step = 17101 (3.299 sec)\n",
      "INFO:tensorflow:global_step/sec: 31.0348\n",
      "INFO:tensorflow:loss = 0.0017843, step = 17201 (3.208 sec)\n",
      "INFO:tensorflow:global_step/sec: 44.8003\n",
      "INFO:tensorflow:loss = 0.00239334, step = 17301 (2.229 sec)\n",
      "INFO:tensorflow:global_step/sec: 25.7121\n",
      "INFO:tensorflow:loss = 0.00138486, step = 17401 (3.902 sec)\n",
      "INFO:tensorflow:global_step/sec: 43.0083\n",
      "INFO:tensorflow:loss = 0.00158641, step = 17501 (2.320 sec)\n",
      "INFO:tensorflow:global_step/sec: 49.8725\n",
      "INFO:tensorflow:loss = 0.000718195, step = 17601 (2.003 sec)\n",
      "INFO:tensorflow:global_step/sec: 23.5947\n",
      "INFO:tensorflow:loss = 0.00122862, step = 17701 (4.239 sec)\n",
      "INFO:tensorflow:global_step/sec: 44.4222\n",
      "INFO:tensorflow:loss = 0.000335853, step = 17801 (2.243 sec)\n",
      "INFO:tensorflow:global_step/sec: 56.082\n",
      "INFO:tensorflow:loss = 0.00221433, step = 17901 (1.788 sec)\n",
      "INFO:tensorflow:global_step/sec: 24.5264\n",
      "INFO:tensorflow:loss = 0.000309669, step = 18001 (4.093 sec)\n",
      "INFO:tensorflow:global_step/sec: 38.9083\n",
      "INFO:tensorflow:loss = 0.000982002, step = 18101 (2.552 sec)\n",
      "INFO:tensorflow:global_step/sec: 49.7732\n",
      "INFO:tensorflow:loss = 0.00312149, step = 18201 (2.006 sec)\n",
      "INFO:tensorflow:global_step/sec: 30.598\n",
      "INFO:tensorflow:loss = 0.00791702, step = 18301 (3.288 sec)\n",
      "INFO:tensorflow:global_step/sec: 38.2241\n",
      "INFO:tensorflow:loss = 0.00351462, step = 18401 (2.594 sec)\n",
      "INFO:tensorflow:global_step/sec: 47.3234\n",
      "INFO:tensorflow:loss = 0.00143936, step = 18501 (2.120 sec)\n",
      "INFO:tensorflow:global_step/sec: 29.1699\n",
      "INFO:tensorflow:loss = 0.00432344, step = 18601 (3.436 sec)\n",
      "INFO:tensorflow:global_step/sec: 36.5743\n",
      "INFO:tensorflow:loss = 0.00193977, step = 18701 (2.722 sec)\n",
      "INFO:tensorflow:global_step/sec: 56.3666\n",
      "INFO:tensorflow:loss = 0.00167685, step = 18801 (1.774 sec)\n",
      "INFO:tensorflow:global_step/sec: 25.1053\n",
      "INFO:tensorflow:loss = 0.00410823, step = 18901 (3.994 sec)\n",
      "INFO:tensorflow:global_step/sec: 33.977\n",
      "INFO:tensorflow:loss = 0.00116591, step = 19001 (2.930 sec)\n",
      "INFO:tensorflow:global_step/sec: 48.0742\n",
      "INFO:tensorflow:loss = 0.000469527, step = 19101 (2.084 sec)\n",
      "INFO:tensorflow:global_step/sec: 22.6744\n",
      "INFO:tensorflow:loss = 0.000666676, step = 19201 (4.407 sec)\n",
      "INFO:tensorflow:global_step/sec: 46.3795\n",
      "INFO:tensorflow:loss = 0.00614126, step = 19301 (2.156 sec)\n",
      "INFO:tensorflow:global_step/sec: 39.5703\n",
      "INFO:tensorflow:loss = 0.000952861, step = 19401 (2.540 sec)\n",
      "INFO:tensorflow:global_step/sec: 25.7121\n",
      "INFO:tensorflow:loss = 0.00219672, step = 19501 (3.877 sec)\n",
      "INFO:tensorflow:global_step/sec: 50.375\n",
      "INFO:tensorflow:loss = 0.000480213, step = 19601 (1.997 sec)\n",
      "INFO:tensorflow:global_step/sec: 32.7099\n",
      "INFO:tensorflow:loss = 9.10847e-05, step = 19701 (3.057 sec)\n",
      "INFO:tensorflow:global_step/sec: 26.5307\n",
      "INFO:tensorflow:loss = 0.000342756, step = 19801 (3.759 sec)\n",
      "INFO:tensorflow:global_step/sec: 49.4043\n",
      "INFO:tensorflow:loss = 0.00151715, step = 19901 (2.033 sec)\n",
      "INFO:tensorflow:global_step/sec: 33.8161\n",
      "INFO:tensorflow:loss = 0.0017177, step = 20001 (2.956 sec)\n",
      "INFO:tensorflow:global_step/sec: 27.5012\n",
      "INFO:tensorflow:loss = 0.000735229, step = 20101 (3.628 sec)\n",
      "INFO:tensorflow:global_step/sec: 47.9819\n",
      "INFO:tensorflow:loss = 0.00294288, step = 20201 (2.081 sec)\n",
      "INFO:tensorflow:global_step/sec: 27.5694\n",
      "INFO:tensorflow:loss = 0.000723774, step = 20301 (3.643 sec)\n",
      "INFO:tensorflow:global_step/sec: 34.9264\n",
      "INFO:tensorflow:loss = 0.000285454, step = 20401 (2.845 sec)\n",
      "INFO:tensorflow:global_step/sec: 57.3362\n",
      "INFO:tensorflow:loss = 0.0013974, step = 20501 (1.749 sec)\n",
      "INFO:tensorflow:global_step/sec: 29.7425\n",
      "INFO:tensorflow:loss = 0.00109909, step = 20601 (3.368 sec)\n",
      "INFO:tensorflow:global_step/sec: 29.0007\n",
      "INFO:tensorflow:loss = 0.000622801, step = 20701 (3.447 sec)\n",
      "INFO:tensorflow:global_step/sec: 50.3242\n",
      "INFO:tensorflow:loss = 0.00178624, step = 20801 (1.982 sec)\n",
      "INFO:tensorflow:global_step/sec: 45.5762\n",
      "INFO:tensorflow:loss = 0.000843195, step = 20901 (2.304 sec)\n",
      "INFO:tensorflow:global_step/sec: 23.4453\n",
      "INFO:tensorflow:loss = 0.00140662, step = 21001 (4.156 sec)\n",
      "INFO:tensorflow:global_step/sec: 44.5409\n",
      "INFO:tensorflow:loss = 0.000861709, step = 21101 (2.241 sec)\n",
      "INFO:tensorflow:global_step/sec: 33.9539\n",
      "INFO:tensorflow:loss = 0.00508797, step = 21201 (2.959 sec)\n",
      "INFO:tensorflow:global_step/sec: 31.4645\n",
      "INFO:tensorflow:loss = 0.000840488, step = 21301 (3.165 sec)\n",
      "INFO:tensorflow:global_step/sec: 51.4904\n",
      "INFO:tensorflow:loss = 0.00196975, step = 21401 (1.951 sec)\n",
      "INFO:tensorflow:global_step/sec: 44.0503\n",
      "INFO:tensorflow:loss = 0.000299937, step = 21501 (2.275 sec)\n",
      "INFO:tensorflow:global_step/sec: 24.0602\n",
      "INFO:tensorflow:loss = 0.00086337, step = 21601 (4.139 sec)\n",
      "INFO:tensorflow:global_step/sec: 44.4024\n",
      "INFO:tensorflow:loss = 0.000844281, step = 21701 (2.253 sec)\n",
      "INFO:tensorflow:global_step/sec: 39.3678\n",
      "INFO:tensorflow:loss = 0.000535716, step = 21801 (2.560 sec)\n",
      "INFO:tensorflow:global_step/sec: 25.1748\n",
      "INFO:tensorflow:loss = 0.000341119, step = 21901 (3.960 sec)\n",
      "INFO:tensorflow:global_step/sec: 44.5012\n",
      "INFO:tensorflow:loss = 5.65759e-05, step = 22001 (2.247 sec)\n",
      "INFO:tensorflow:global_step/sec: 35.3712\n",
      "INFO:tensorflow:loss = 0.000190802, step = 22101 (2.839 sec)\n",
      "INFO:tensorflow:global_step/sec: 26.3559\n",
      "INFO:tensorflow:loss = 0.00173706, step = 22201 (3.775 sec)\n",
      "INFO:tensorflow:global_step/sec: 49.5266\n",
      "INFO:tensorflow:loss = 0.00212244, step = 22301 (2.022 sec)\n",
      "INFO:tensorflow:global_step/sec: 35.4464\n",
      "INFO:tensorflow:loss = 0.00163538, step = 22401 (2.996 sec)\n",
      "INFO:tensorflow:global_step/sec: 26.6936\n",
      "INFO:tensorflow:loss = 0.00189347, step = 22501 (3.570 sec)\n",
      "INFO:tensorflow:Saving checkpoints for 22576 into C:\\Users\\ADMINI~1\\AppData\\Local\\Temp\\tmppbhabzzw\\model.ckpt.\n",
      "INFO:tensorflow:global_step/sec: 14.332\n",
      "INFO:tensorflow:loss = 0.00218292, step = 22601 (6.986 sec)\n",
      "INFO:tensorflow:global_step/sec: 39.2288\n",
      "INFO:tensorflow:loss = 0.00128896, step = 22701 (2.545 sec)\n",
      "INFO:tensorflow:global_step/sec: 40.3365\n",
      "INFO:tensorflow:loss = 0.000613834, step = 22801 (2.487 sec)\n",
      "INFO:tensorflow:global_step/sec: 24.2881\n",
      "INFO:tensorflow:loss = 0.00165759, step = 22901 (4.103 sec)\n",
      "INFO:tensorflow:global_step/sec: 50.4258\n",
      "INFO:tensorflow:loss = 0.000545935, step = 23001 (1.981 sec)\n",
      "INFO:tensorflow:global_step/sec: 37.9197\n",
      "INFO:tensorflow:loss = 0.00281102, step = 23101 (2.651 sec)\n",
      "INFO:tensorflow:global_step/sec: 26.0537\n",
      "INFO:tensorflow:loss = 0.00134311, step = 23201 (3.826 sec)\n",
      "INFO:tensorflow:global_step/sec: 46.77\n",
      "INFO:tensorflow:loss = 0.00225037, step = 23301 (2.137 sec)\n",
      "INFO:tensorflow:global_step/sec: 38.1076\n",
      "INFO:tensorflow:loss = 0.000971635, step = 23401 (2.640 sec)\n",
      "INFO:tensorflow:global_step/sec: 27.062\n",
      "INFO:tensorflow:loss = 0.000805072, step = 23501 (3.680 sec)\n",
      "INFO:tensorflow:global_step/sec: 52.5732\n",
      "INFO:tensorflow:loss = 0.000732619, step = 23601 (1.901 sec)\n",
      "INFO:tensorflow:global_step/sec: 37.2835\n",
      "INFO:tensorflow:loss = 0.000458602, step = 23701 (2.706 sec)\n",
      "INFO:tensorflow:global_step/sec: 29.2895\n",
      "INFO:tensorflow:loss = 0.00123069, step = 23801 (3.409 sec)\n",
      "INFO:tensorflow:global_step/sec: 45.4107\n",
      "INFO:tensorflow:loss = 0.00165338, step = 23901 (2.184 sec)\n",
      "INFO:tensorflow:global_step/sec: 30.0373\n",
      "INFO:tensorflow:loss = 0.000989343, step = 24001 (3.344 sec)\n",
      "INFO:tensorflow:global_step/sec: 29.7957\n",
      "INFO:tensorflow:loss = 0.000516476, step = 24101 (3.342 sec)\n",
      "INFO:tensorflow:global_step/sec: 45.9111\n",
      "INFO:tensorflow:loss = 0.0012407, step = 24201 (2.181 sec)\n",
      "INFO:tensorflow:global_step/sec: 23.9679\n",
      "INFO:tensorflow:loss = 9.1106e-05, step = 24301 (4.189 sec)\n",
      "INFO:tensorflow:global_step/sec: 32.5502\n",
      "INFO:tensorflow:loss = 0.00266638, step = 24401 (3.053 sec)\n",
      "INFO:tensorflow:global_step/sec: 47.2786\n",
      "INFO:tensorflow:loss = 0.000792536, step = 24501 (2.108 sec)\n",
      "INFO:tensorflow:global_step/sec: 25.8183\n",
      "INFO:tensorflow:loss = 0.000446717, step = 24601 (3.897 sec)\n",
      "INFO:tensorflow:global_step/sec: 43.5326\n",
      "INFO:tensorflow:loss = 0.000505811, step = 24701 (2.297 sec)\n",
      "INFO:tensorflow:global_step/sec: 49.4776\n",
      "INFO:tensorflow:loss = 0.00123586, step = 24801 (2.006 sec)\n",
      "INFO:tensorflow:global_step/sec: 25.7121\n",
      "INFO:tensorflow:loss = 0.00133134, step = 24901 (3.902 sec)\n",
      "INFO:tensorflow:global_step/sec: 36.086\n",
      "INFO:tensorflow:loss = 0.000269918, step = 25001 (2.752 sec)\n",
      "INFO:tensorflow:global_step/sec: 47.7984\n",
      "INFO:tensorflow:loss = 0.00080106, step = 25101 (2.093 sec)\n",
      "INFO:tensorflow:global_step/sec: 20.0269\n",
      "INFO:tensorflow:loss = 0.00171387, step = 25201 (5.020 sec)\n",
      "INFO:tensorflow:global_step/sec: 34.8898\n",
      "INFO:tensorflow:loss = 0.000252861, step = 25301 (2.839 sec)\n",
      "INFO:tensorflow:global_step/sec: 33.1217\n",
      "INFO:tensorflow:loss = 0.000535617, step = 25401 (3.033 sec)\n",
      "INFO:tensorflow:global_step/sec: 27.1871\n",
      "INFO:tensorflow:loss = 0.000620361, step = 25501 (3.667 sec)\n",
      "INFO:tensorflow:global_step/sec: 42.5327\n",
      "INFO:tensorflow:loss = 0.00134385, step = 25601 (2.352 sec)\n",
      "INFO:tensorflow:global_step/sec: 24.3651\n",
      "INFO:tensorflow:loss = 0.0007955, step = 25701 (4.127 sec)\n",
      "INFO:tensorflow:global_step/sec: 45.2873\n",
      "INFO:tensorflow:loss = 0.00103655, step = 25801 (2.180 sec)\n",
      "INFO:tensorflow:global_step/sec: 47.6617\n",
      "INFO:tensorflow:loss = 0.00195423, step = 25901 (2.100 sec)\n",
      "INFO:tensorflow:global_step/sec: 24.1357\n",
      "INFO:tensorflow:loss = 8.30674e-05, step = 26001 (4.155 sec)\n",
      "INFO:tensorflow:global_step/sec: 44.2257\n",
      "INFO:tensorflow:loss = 0.000491635, step = 26101 (2.246 sec)\n",
      "INFO:tensorflow:global_step/sec: 45.3078\n",
      "INFO:tensorflow:loss = 0.000532725, step = 26201 (2.217 sec)\n",
      "INFO:tensorflow:global_step/sec: 27.9704\n",
      "INFO:tensorflow:loss = 0.00158378, step = 26301 (3.580 sec)\n",
      "INFO:tensorflow:global_step/sec: 49.6743\n",
      "INFO:tensorflow:loss = 0.00165063, step = 26401 (2.142 sec)\n",
      "INFO:tensorflow:global_step/sec: 40.0297\n",
      "INFO:tensorflow:loss = 0.0010077, step = 26501 (2.371 sec)\n",
      "INFO:tensorflow:global_step/sec: 23.2491\n",
      "INFO:tensorflow:loss = 0.000558703, step = 26601 (4.286 sec)\n",
      "INFO:tensorflow:global_step/sec: 46.1867\n",
      "INFO:tensorflow:loss = 3.25431e-05, step = 26701 (2.169 sec)\n",
      "INFO:tensorflow:global_step/sec: 30.1188\n",
      "INFO:tensorflow:loss = 0.000440194, step = 26801 (3.337 sec)\n",
      "INFO:tensorflow:global_step/sec: 31.0541\n",
      "INFO:tensorflow:loss = 0.000696672, step = 26901 (3.198 sec)\n",
      "INFO:tensorflow:global_step/sec: 47.639\n",
      "INFO:tensorflow:loss = 0.000701998, step = 27001 (2.104 sec)\n",
      "INFO:tensorflow:global_step/sec: 26.9164\n",
      "INFO:tensorflow:loss = 0.000406862, step = 27101 (3.721 sec)\n",
      "INFO:tensorflow:global_step/sec: 34.3505\n",
      "INFO:tensorflow:loss = 0.00026989, step = 27201 (2.901 sec)\n",
      "INFO:tensorflow:global_step/sec: 57.2705\n",
      "INFO:tensorflow:loss = 0.00131699, step = 27301 (1.749 sec)\n",
      "INFO:tensorflow:global_step/sec: 36.2298\n",
      "INFO:tensorflow:loss = 0.000181096, step = 27401 (2.765 sec)\n",
      "INFO:tensorflow:global_step/sec: 30.4582\n",
      "INFO:tensorflow:loss = 0.00146148, step = 27501 (3.274 sec)\n",
      "INFO:tensorflow:global_step/sec: 47.034\n",
      "INFO:tensorflow:loss = 0.000788132, step = 27601 (2.133 sec)\n",
      "INFO:tensorflow:global_step/sec: 27.3208\n",
      "INFO:tensorflow:loss = 6.35539e-05, step = 27701 (3.665 sec)\n",
      "INFO:tensorflow:global_step/sec: 31.5738\n",
      "INFO:tensorflow:loss = 0.000240545, step = 27801 (3.167 sec)\n",
      "INFO:tensorflow:global_step/sec: 47.2563\n",
      "INFO:tensorflow:loss = 0.000325408, step = 27901 (2.125 sec)\n",
      "INFO:tensorflow:global_step/sec: 26.4535\n",
      "INFO:tensorflow:loss = 0.00114306, step = 28001 (3.774 sec)\n",
      "INFO:tensorflow:global_step/sec: 33.3871\n",
      "INFO:tensorflow:loss = 0.000728925, step = 28101 (2.982 sec)\n",
      "INFO:tensorflow:global_step/sec: 46.1867\n",
      "INFO:tensorflow:loss = 0.00099083, step = 28201 (2.167 sec)\n",
      "INFO:tensorflow:global_step/sec: 24.1766\n",
      "INFO:tensorflow:loss = 0.00099775, step = 28301 (4.154 sec)\n",
      "INFO:tensorflow:global_step/sec: 42.6779\n",
      "INFO:tensorflow:loss = 0.000816335, step = 28401 (2.323 sec)\n",
      "INFO:tensorflow:global_step/sec: 47.7072\n",
      "INFO:tensorflow:loss = 0.000582754, step = 28501 (2.101 sec)\n",
      "INFO:tensorflow:global_step/sec: 20.8669\n",
      "INFO:tensorflow:loss = 0.000458115, step = 28601 (4.789 sec)\n",
      "INFO:tensorflow:global_step/sec: 48.0049\n",
      "INFO:tensorflow:loss = 0.00102878, step = 28701 (2.091 sec)\n",
      "INFO:tensorflow:global_step/sec: 36.086\n",
      "INFO:tensorflow:loss = 0.000930117, step = 28801 (2.778 sec)\n",
      "INFO:tensorflow:global_step/sec: 22.7674\n",
      "INFO:tensorflow:loss = 0.000451339, step = 28901 (4.378 sec)\n",
      "INFO:tensorflow:global_step/sec: 51.6766\n",
      "INFO:tensorflow:loss = 0.00232795, step = 29001 (1.931 sec)\n",
      "INFO:tensorflow:global_step/sec: 48.3298\n",
      "INFO:tensorflow:loss = 0.00112419, step = 29101 (2.078 sec)\n",
      "INFO:tensorflow:global_step/sec: 23.2275\n",
      "INFO:tensorflow:loss = 0.00124553, step = 29201 (4.298 sec)\n",
      "INFO:tensorflow:global_step/sec: 46.7481\n",
      "INFO:tensorflow:loss = 0.00219032, step = 29301 (2.136 sec)\n",
      "INFO:tensorflow:global_step/sec: 34.7806\n",
      "INFO:tensorflow:loss = 0.000999903, step = 29401 (2.892 sec)\n",
      "INFO:tensorflow:global_step/sec: 28.6189\n",
      "INFO:tensorflow:loss = 0.00128832, step = 29501 (3.480 sec)\n",
      "INFO:tensorflow:global_step/sec: 56.0192\n",
      "INFO:tensorflow:loss = 0.00037391, step = 29601 (1.786 sec)\n",
      "INFO:tensorflow:global_step/sec: 32.9362\n",
      "INFO:tensorflow:loss = 0.000322443, step = 29701 (3.043 sec)\n",
      "INFO:tensorflow:global_step/sec: 28.2709\n",
      "INFO:tensorflow:loss = 0.000707412, step = 29801 (3.530 sec)\n",
      "INFO:tensorflow:global_step/sec: 47.6163\n",
      "INFO:tensorflow:loss = 0.00100416, step = 29901 (2.097 sec)\n",
      "INFO:tensorflow:global_step/sec: 33.759\n",
      "INFO:tensorflow:loss = 3.93507e-05, step = 30001 (2.975 sec)\n",
      "INFO:tensorflow:global_step/sec: 31.4151\n",
      "INFO:tensorflow:loss = 0.000702187, step = 30101 (3.192 sec)\n",
      "INFO:tensorflow:global_step/sec: 46.0591\n",
      "INFO:tensorflow:loss = 0.000379755, step = 30201 (2.157 sec)\n",
      "INFO:tensorflow:global_step/sec: 34.3269\n",
      "INFO:tensorflow:loss = 0.000990352, step = 30301 (2.925 sec)\n",
      "INFO:tensorflow:global_step/sec: 27.5618\n",
      "INFO:tensorflow:loss = 0.00139261, step = 30401 (3.610 sec)\n",
      "INFO:tensorflow:global_step/sec: 44.6204\n",
      "INFO:tensorflow:loss = 0.000775388, step = 30501 (2.248 sec)\n",
      "INFO:tensorflow:global_step/sec: 23.2383\n",
      "INFO:tensorflow:loss = 0.00110101, step = 30601 (5.198 sec)\n",
      "INFO:tensorflow:global_step/sec: 27.7762\n",
      "INFO:tensorflow:loss = 0.000457669, step = 30701 (2.699 sec)\n",
      "INFO:tensorflow:global_step/sec: 50.5788\n",
      "INFO:tensorflow:loss = 0.000903698, step = 30801 (1.980 sec)\n",
      "INFO:tensorflow:global_step/sec: 23.9164\n",
      "INFO:tensorflow:loss = 0.00090899, step = 30901 (4.190 sec)\n",
      "INFO:tensorflow:global_step/sec: 47.2786\n",
      "INFO:tensorflow:loss = 0.00158028, step = 31001 (2.101 sec)\n",
      "INFO:tensorflow:global_step/sec: 54.4335\n",
      "INFO:tensorflow:loss = 0.0011863, step = 31101 (1.833 sec)\n",
      "INFO:tensorflow:global_step/sec: 30.7864\n",
      "INFO:tensorflow:loss = 0.000310212, step = 31201 (3.280 sec)\n",
      "INFO:tensorflow:global_step/sec: 30.4768\n",
      "INFO:tensorflow:loss = 0.000530222, step = 31301 (3.258 sec)\n",
      "INFO:tensorflow:global_step/sec: 41.2518\n",
      "INFO:tensorflow:loss = 0.000930914, step = 31401 (2.416 sec)\n",
      "INFO:tensorflow:global_step/sec: 29.3583\n",
      "INFO:tensorflow:loss = 0.00040749, step = 31501 (3.419 sec)\n",
      "INFO:tensorflow:global_step/sec: 33.056\n",
      "INFO:tensorflow:loss = 0.000158314, step = 31601 (3.012 sec)\n",
      "INFO:tensorflow:global_step/sec: 51.7301\n",
      "INFO:tensorflow:loss = 0.000642197, step = 31701 (1.967 sec)\n",
      "INFO:tensorflow:global_step/sec: 29.9833\n",
      "INFO:tensorflow:loss = 0.000249802, step = 31801 (3.317 sec)\n",
      "INFO:tensorflow:global_step/sec: 34.902\n",
      "INFO:tensorflow:loss = 0.000803783, step = 31901 (2.864 sec)\n",
      "INFO:tensorflow:global_step/sec: 58.035\n",
      "INFO:tensorflow:loss = 0.000242172, step = 32001 (1.710 sec)\n",
      "INFO:tensorflow:global_step/sec: 35.8917\n",
      "INFO:tensorflow:loss = 0.00045628, step = 32101 (2.814 sec)\n",
      "INFO:tensorflow:global_step/sec: 29.9384\n",
      "INFO:tensorflow:loss = 0.00115308, step = 32201 (3.312 sec)\n",
      "INFO:tensorflow:global_step/sec: 40.9981\n",
      "INFO:tensorflow:loss = 0.000570129, step = 32301 (2.445 sec)\n",
      "INFO:tensorflow:global_step/sec: 23.8422\n",
      "INFO:tensorflow:loss = 7.89292e-05, step = 32401 (4.199 sec)\n",
      "INFO:tensorflow:global_step/sec: 43.7038\n",
      "INFO:tensorflow:loss = 0.000676248, step = 32501 (2.276 sec)\n",
      "INFO:tensorflow:global_step/sec: 55.8627\n",
      "INFO:tensorflow:loss = 0.00026357, step = 32601 (1.790 sec)\n",
      "INFO:tensorflow:global_step/sec: 25.1811\n",
      "INFO:tensorflow:loss = 0.00104728, step = 32701 (3.986 sec)\n",
      "INFO:tensorflow:global_step/sec: 39.9657\n",
      "INFO:tensorflow:loss = 0.000813218, step = 32801 (2.493 sec)\n",
      "INFO:tensorflow:global_step/sec: 53.6162\n",
      "INFO:tensorflow:loss = 0.000531001, step = 32901 (1.861 sec)\n",
      "INFO:tensorflow:global_step/sec: 43.5326\n",
      "INFO:tensorflow:loss = 0.000471477, step = 33001 (2.305 sec)\n",
      "INFO:tensorflow:global_step/sec: 29.5491\n",
      "INFO:tensorflow:loss = 0.0015099, step = 33101 (3.377 sec)\n",
      "INFO:tensorflow:global_step/sec: 45.7849\n",
      "INFO:tensorflow:loss = 0.000892004, step = 33201 (2.181 sec)\n",
      "INFO:tensorflow:global_step/sec: 33.5551\n",
      "INFO:tensorflow:loss = 0.000323628, step = 33301 (2.991 sec)\n",
      "INFO:tensorflow:global_step/sec: 30.6355\n",
      "INFO:tensorflow:loss = 0.000990175, step = 33401 (3.261 sec)\n",
      "INFO:tensorflow:global_step/sec: 47.73\n",
      "INFO:tensorflow:loss = 0.000365741, step = 33501 (2.091 sec)\n",
      "INFO:tensorflow:global_step/sec: 29.1699\n",
      "INFO:tensorflow:loss = 0.000864271, step = 33601 (3.458 sec)\n",
      "INFO:tensorflow:global_step/sec: 30.7864\n",
      "INFO:tensorflow:loss = 0.000945821, step = 33701 (3.213 sec)\n",
      "INFO:tensorflow:global_step/sec: 61.7249\n",
      "INFO:tensorflow:loss = 0.0010391, step = 33801 (1.619 sec)\n",
      "INFO:tensorflow:global_step/sec: 67.3362\n",
      "INFO:tensorflow:loss = 0.00124398, step = 33901 (1.500 sec)\n",
      "INFO:tensorflow:global_step/sec: 24.4604\n",
      "INFO:tensorflow:loss = 0.000652641, step = 34001 (4.077 sec)\n",
      "INFO:tensorflow:global_step/sec: 65.6993\n",
      "INFO:tensorflow:loss = 0.000477739, step = 34101 (1.521 sec)\n",
      "INFO:tensorflow:global_step/sec: 76.4482\n",
      "INFO:tensorflow:loss = 0.00115163, step = 34201 (1.306 sec)\n",
      "INFO:tensorflow:global_step/sec: 69.5854\n",
      "INFO:tensorflow:loss = 0.000288729, step = 34301 (1.456 sec)\n",
      "INFO:tensorflow:global_step/sec: 25.9187\n",
      "INFO:tensorflow:loss = 0.00036706, step = 34401 (3.842 sec)\n",
      "INFO:tensorflow:global_step/sec: 44.7602\n",
      "INFO:tensorflow:loss = 0.000534141, step = 34501 (2.234 sec)\n",
      "INFO:tensorflow:global_step/sec: 50.707\n",
      "INFO:tensorflow:loss = 0.000535559, step = 34601 (1.986 sec)\n",
      "INFO:tensorflow:global_step/sec: 32.5502\n",
      "INFO:tensorflow:loss = 0.00119653, step = 34701 (3.063 sec)\n",
      "INFO:tensorflow:global_step/sec: 51.0957\n",
      "INFO:tensorflow:loss = 0.000559143, step = 34801 (1.956 sec)\n",
      "INFO:tensorflow:global_step/sec: 57.8671\n",
      "INFO:tensorflow:loss = 0.000542414, step = 34901 (1.723 sec)\n",
      "INFO:tensorflow:global_step/sec: 30.8529\n",
      "INFO:tensorflow:loss = 0.000408564, step = 35001 (3.254 sec)\n",
      "INFO:tensorflow:global_step/sec: 33.1217\n",
      "INFO:tensorflow:loss = 0.000852442, step = 35101 (3.002 sec)\n",
      "INFO:tensorflow:global_step/sec: 61.2335\n",
      "INFO:tensorflow:loss = 0.000245188, step = 35201 (1.709 sec)\n",
      "INFO:tensorflow:global_step/sec: 68.0233\n",
      "INFO:tensorflow:loss = 0.000392279, step = 35301 (1.399 sec)\n",
      "INFO:tensorflow:global_step/sec: 37.1174\n",
      "INFO:tensorflow:loss = 0.000931466, step = 35401 (2.705 sec)\n",
      "INFO:tensorflow:global_step/sec: 40.1583\n",
      "INFO:tensorflow:loss = 0.000276199, step = 35501 (2.475 sec)\n",
      "INFO:tensorflow:global_step/sec: 58.579\n",
      "INFO:tensorflow:loss = 0.000239765, step = 35601 (1.741 sec)\n",
      "INFO:tensorflow:global_step/sec: 37.1312\n",
      "INFO:tensorflow:loss = 0.0009487, step = 35701 (2.677 sec)\n",
      "INFO:tensorflow:global_step/sec: 31.1218\n",
      "INFO:tensorflow:loss = 0.000657824, step = 35801 (3.204 sec)\n",
      "INFO:tensorflow:global_step/sec: 58.6821\n",
      "INFO:tensorflow:loss = 0.000595036, step = 35901 (1.696 sec)\n",
      "INFO:tensorflow:global_step/sec: 58.2039\n",
      "INFO:tensorflow:loss = 0.000295352, step = 36001 (1.718 sec)\n",
      "INFO:tensorflow:global_step/sec: 29.7248\n",
      "INFO:tensorflow:loss = 0.000772686, step = 36101 (3.422 sec)\n",
      "INFO:tensorflow:global_step/sec: 42.4424\n",
      "INFO:tensorflow:loss = 0.000636175, step = 36201 (2.299 sec)\n",
      "INFO:tensorflow:global_step/sec: 59.4143\n",
      "INFO:tensorflow:loss = 0.000152909, step = 36301 (1.690 sec)\n",
      "INFO:tensorflow:global_step/sec: 43.1941\n",
      "INFO:tensorflow:loss = 0.000880546, step = 36401 (2.320 sec)\n",
      "INFO:tensorflow:global_step/sec: 29.2552\n",
      "INFO:tensorflow:loss = 0.000350024, step = 36501 (3.406 sec)\n",
      "INFO:tensorflow:global_step/sec: 64.3878\n",
      "INFO:tensorflow:loss = 0.00024984, step = 36601 (1.553 sec)\n",
      "INFO:tensorflow:global_step/sec: 53.7315\n",
      "INFO:tensorflow:loss = 0.000461582, step = 36701 (1.858 sec)\n",
      "INFO:tensorflow:global_step/sec: 47.1449\n",
      "INFO:tensorflow:loss = 0.000636528, step = 36801 (2.132 sec)\n",
      "INFO:tensorflow:global_step/sec: 36.4013\n",
      "INFO:tensorflow:loss = 0.000651346, step = 36901 (2.741 sec)\n",
      "INFO:tensorflow:global_step/sec: 55.8627\n",
      "INFO:tensorflow:loss = 0.000662449, step = 37001 (1.787 sec)\n",
      "INFO:tensorflow:global_step/sec: 49.9722\n",
      "INFO:tensorflow:loss = 0.000189533, step = 37101 (2.047 sec)\n",
      "INFO:tensorflow:global_step/sec: 28.0489\n",
      "INFO:tensorflow:loss = 0.000327833, step = 37201 (3.527 sec)\n",
      "INFO:tensorflow:global_step/sec: 47.2786\n",
      "INFO:tensorflow:loss = 0.000393107, step = 37301 (2.103 sec)\n",
      "INFO:tensorflow:global_step/sec: 66.0464\n",
      "INFO:tensorflow:loss = 0.000239244, step = 37401 (1.520 sec)\n",
      "INFO:tensorflow:global_step/sec: 44.0892\n",
      "INFO:tensorflow:loss = 0.000348861, step = 37501 (2.324 sec)\n",
      "INFO:tensorflow:global_step/sec: 28.0962\n",
      "INFO:tensorflow:loss = 0.00019833, step = 37601 (3.502 sec)\n",
      "INFO:tensorflow:global_step/sec: 59.8052\n",
      "INFO:tensorflow:loss = 6.28067e-05, step = 37701 (1.679 sec)\n",
      "INFO:tensorflow:global_step/sec: 60.7868\n",
      "INFO:tensorflow:loss = 0.000487348, step = 37801 (1.638 sec)\n",
      "INFO:tensorflow:global_step/sec: 28.1436\n",
      "INFO:tensorflow:loss = 0.00160612, step = 37901 (3.562 sec)\n",
      "INFO:tensorflow:global_step/sec: 50.1224\n",
      "INFO:tensorflow:loss = 0.000334976, step = 38001 (1.988 sec)\n",
      "INFO:tensorflow:global_step/sec: 73.4712\n",
      "INFO:tensorflow:loss = 0.000997311, step = 38101 (1.357 sec)\n",
      "INFO:tensorflow:global_step/sec: 82.7767\n",
      "INFO:tensorflow:loss = 0.000844916, step = 38201 (1.213 sec)\n",
      "INFO:tensorflow:global_step/sec: 42.1206\n",
      "INFO:tensorflow:loss = 0.000128237, step = 38301 (2.385 sec)\n",
      "INFO:tensorflow:global_step/sec: 37.2418\n",
      "INFO:tensorflow:loss = 0.000132699, step = 38401 (2.686 sec)\n",
      "INFO:tensorflow:global_step/sec: 54.4335\n",
      "INFO:tensorflow:loss = 0.000688141, step = 38501 (1.822 sec)\n",
      "INFO:tensorflow:global_step/sec: 43.4947\n",
      "INFO:tensorflow:loss = 0.000520334, step = 38601 (2.311 sec)\n",
      "INFO:tensorflow:global_step/sec: 28.343\n",
      "INFO:tensorflow:loss = 0.000592014, step = 38701 (3.526 sec)\n",
      "INFO:tensorflow:global_step/sec: 53.2451\n",
      "INFO:tensorflow:loss = 0.000138614, step = 38801 (1.867 sec)\n",
      "INFO:tensorflow:global_step/sec: 53.8762\n",
      "INFO:tensorflow:loss = 0.00133952, step = 38901 (1.856 sec)\n",
      "INFO:tensorflow:global_step/sec: 34.3859\n",
      "INFO:tensorflow:loss = 0.000117882, step = 39001 (2.935 sec)\n",
      "INFO:tensorflow:global_step/sec: 37.437\n",
      "INFO:tensorflow:loss = 0.000789604, step = 39101 (2.640 sec)\n",
      "INFO:tensorflow:global_step/sec: 89.3604\n",
      "INFO:tensorflow:loss = 0.000491923, step = 39201 (1.119 sec)\n",
      "INFO:tensorflow:global_step/sec: 97.5554\n",
      "INFO:tensorflow:loss = 0.000185792, step = 39301 (1.028 sec)\n",
      "INFO:tensorflow:global_step/sec: 95.5968\n",
      "INFO:tensorflow:loss = 0.000842635, step = 39401 (1.047 sec)\n",
      "INFO:tensorflow:global_step/sec: 45.1238\n",
      "INFO:tensorflow:loss = 0.00014984, step = 39501 (2.227 sec)\n",
      "INFO:tensorflow:global_step/sec: 35.725\n",
      "INFO:tensorflow:loss = 0.000799213, step = 39601 (2.792 sec)\n",
      "INFO:tensorflow:global_step/sec: 69.7797\n",
      "INFO:tensorflow:loss = 0.000138959, step = 39701 (1.430 sec)\n",
      "INFO:tensorflow:global_step/sec: 71.8866\n",
      "INFO:tensorflow:loss = 0.00149585, step = 39801 (1.392 sec)\n",
      "INFO:tensorflow:global_step/sec: 61.271\n",
      "INFO:tensorflow:loss = 0.000928265, step = 39901 (1.641 sec)\n",
      "INFO:tensorflow:Saving checkpoints for 40000 into C:\\Users\\ADMINI~1\\AppData\\Local\\Temp\\tmppbhabzzw\\model.ckpt.\n",
      "INFO:tensorflow:Loss for final step: 0.000381849.\n"
     ]
    },
    {
     "data": {
      "text/plain": [
       "DNNClassifier(params={'head': <tensorflow.contrib.learn.python.learn.estimators.head._MultiClassHead object at 0x000000000F649B70>, 'hidden_units': [300, 100], 'feature_columns': (_RealValuedColumn(column_name='', dimension=784, default_value=None, dtype=tf.float32, normalizer=None),), 'optimizer': None, 'activation_fn': <function relu at 0x00000000081E7048>, 'dropout': None, 'gradient_clip_norm': None, 'embedding_lr_multipliers': None, 'input_layer_min_slice_size': None})"
      ]
     },
     "execution_count": 22,
     "metadata": {},
     "output_type": "execute_result"
    }
   ],
   "source": [
    "#config = tf.contrib.learn.RunConfig(tf_random_seed=42) # not shown in the config\n",
    "\n",
    "feature_columns = tf.contrib.learn.infer_real_valued_columns_from_input(X_train)\n",
    "dnn_clf = tf.contrib.learn.DNNClassifier(hidden_units=[300,100], n_classes=10,\n",
    "                                         feature_columns=feature_columns)#, config=config)\n",
    "#dnn_clf = tf.contrib.learn.SKCompat(dnn_clf) # if TensorFlow >= 1.1\n",
    "dnn_clf.fit(X_train, y_train, batch_size=50, steps=40000)"
   ]
  },
  {
   "cell_type": "code",
   "execution_count": 25,
   "metadata": {
    "collapsed": false
   },
   "outputs": [
    {
     "name": "stdout",
     "output_type": "stream",
     "text": [
      "WARNING:tensorflow:From E:\\anaconda\\anaconda\\lib\\site-packages\\tensorflow\\python\\util\\deprecation.py:347: calling DNNClassifier.predict (from tensorflow.contrib.learn.python.learn.estimators.dnn) with outputs=None is deprecated and will be removed after 2017-03-01.\n",
      "Instructions for updating:\n",
      "Please switch to predict_classes, or set `outputs` argument.\n",
      "WARNING:tensorflow:From E:\\anaconda\\anaconda\\lib\\site-packages\\tensorflow\\contrib\\learn\\python\\learn\\estimators\\dnn.py:433: calling BaseEstimator.predict (from tensorflow.contrib.learn.python.learn.estimators.estimator) with x is deprecated and will be removed after 2016-12-01.\n",
      "Instructions for updating:\n",
      "Estimator is decoupled from Scikit Learn interface by moving into\n",
      "separate class SKCompat. Arguments x, y and batch_size are only\n",
      "available in the SKCompat class, Estimator will only accept input_fn.\n",
      "Example conversion:\n",
      "  est = Estimator(...) -> est = SKCompat(Estimator(...))\n"
     ]
    },
    {
     "name": "stderr",
     "output_type": "stream",
     "text": [
      "E:\\anaconda\\anaconda\\lib\\site-packages\\tensorflow\\python\\util\\deprecation.py:254: FutureWarning: comparison to `None` will result in an elementwise object comparison in the future.\n",
      "  equality = a == b\n"
     ]
    },
    {
     "name": "stdout",
     "output_type": "stream",
     "text": [
      "INFO:tensorflow:Restoring parameters from C:\\Users\\ADMINI~1\\AppData\\Local\\Temp\\tmppbhabzzw\\model.ckpt-40000\n"
     ]
    }
   ],
   "source": [
    "from sklearn.metrics import accuracy_score\n",
    "y_pred = dnn_clf.predict(X_test)\n"
   ]
  },
  {
   "cell_type": "code",
   "execution_count": 33,
   "metadata": {
    "collapsed": false
   },
   "outputs": [
    {
     "data": {
      "text/plain": [
       "0.98299999999999998"
      ]
     },
     "execution_count": 33,
     "metadata": {},
     "output_type": "execute_result"
    }
   ],
   "source": [
    "accuracy_score(y_test,list(y_pred)\n",
    "              )"
   ]
  },
  {
   "cell_type": "code",
   "execution_count": 34,
   "metadata": {
    "collapsed": false
   },
   "outputs": [
    {
     "name": "stdout",
     "output_type": "stream",
     "text": [
      "WARNING:tensorflow:From <ipython-input-34-0568a9ff0300>:1: calling BaseEstimator.evaluate (from tensorflow.contrib.learn.python.learn.estimators.estimator) with x is deprecated and will be removed after 2016-12-01.\n",
      "Instructions for updating:\n",
      "Estimator is decoupled from Scikit Learn interface by moving into\n",
      "separate class SKCompat. Arguments x, y and batch_size are only\n",
      "available in the SKCompat class, Estimator will only accept input_fn.\n",
      "Example conversion:\n",
      "  est = Estimator(...) -> est = SKCompat(Estimator(...))\n",
      "WARNING:tensorflow:From <ipython-input-34-0568a9ff0300>:1: calling BaseEstimator.evaluate (from tensorflow.contrib.learn.python.learn.estimators.estimator) with y is deprecated and will be removed after 2016-12-01.\n",
      "Instructions for updating:\n",
      "Estimator is decoupled from Scikit Learn interface by moving into\n",
      "separate class SKCompat. Arguments x, y and batch_size are only\n",
      "available in the SKCompat class, Estimator will only accept input_fn.\n",
      "Example conversion:\n",
      "  est = Estimator(...) -> est = SKCompat(Estimator(...))\n"
     ]
    },
    {
     "name": "stderr",
     "output_type": "stream",
     "text": [
      "E:\\anaconda\\anaconda\\lib\\site-packages\\tensorflow\\python\\util\\deprecation.py:254: FutureWarning: comparison to `None` will result in an elementwise object comparison in the future.\n",
      "  equality = a == b\n"
     ]
    },
    {
     "name": "stdout",
     "output_type": "stream",
     "text": [
      "WARNING:tensorflow:From E:\\anaconda\\anaconda\\lib\\site-packages\\tensorflow\\contrib\\learn\\python\\learn\\estimators\\head.py:625: scalar_summary (from tensorflow.python.ops.logging_ops) is deprecated and will be removed after 2016-11-30.\n",
      "Instructions for updating:\n",
      "Please switch to tf.summary.scalar. Note that tf.summary.scalar uses the node name instead of the tag. This means that TensorFlow will automatically de-duplicate summary names based on the scope they are created in. Also, passing a tensor or list of tags to a scalar summary op is no longer supported.\n",
      "INFO:tensorflow:Starting evaluation at 2017-09-17-07:26:30\n",
      "INFO:tensorflow:Restoring parameters from C:\\Users\\ADMINI~1\\AppData\\Local\\Temp\\tmppbhabzzw\\model.ckpt-40000\n",
      "INFO:tensorflow:Finished evaluation at 2017-09-17-07:26:33\n",
      "INFO:tensorflow:Saving dict for global step 40000: accuracy = 0.983, global_step = 40000, loss = 0.0688378\n"
     ]
    },
    {
     "data": {
      "text/plain": [
       "{'accuracy': 0.98299998, 'global_step': 40000, 'loss': 0.068837762}"
      ]
     },
     "execution_count": 34,
     "metadata": {},
     "output_type": "execute_result"
    }
   ],
   "source": [
    "dnn_clf.evaluate(X_test,y_test)"
   ]
  },
  {
   "cell_type": "code",
   "execution_count": 37,
   "metadata": {
    "collapsed": false
   },
   "outputs": [
    {
     "ename": "ValueError",
     "evalue": "Found array with 0 sample(s) (shape=(0,)) while a minimum of 1 is required.",
     "output_type": "error",
     "traceback": [
      "\u001b[0;31m---------------------------------------------------------------------------\u001b[0m",
      "\u001b[0;31mValueError\u001b[0m                                Traceback (most recent call last)",
      "\u001b[0;32m<ipython-input-37-2888e618eb7d>\u001b[0m in \u001b[0;36m<module>\u001b[0;34m()\u001b[0m\n\u001b[1;32m      1\u001b[0m \u001b[1;32mfrom\u001b[0m \u001b[0msklearn\u001b[0m\u001b[1;33m.\u001b[0m\u001b[0mmetrics\u001b[0m \u001b[1;32mimport\u001b[0m \u001b[0mlog_loss\u001b[0m\u001b[1;33m\u001b[0m\u001b[0m\n\u001b[1;32m      2\u001b[0m \u001b[1;31m#y_pred_proba = y_pred['probabilities']\u001b[0m\u001b[1;33m\u001b[0m\u001b[1;33m\u001b[0m\u001b[0m\n\u001b[0;32m----> 3\u001b[0;31m \u001b[0mlog_loss\u001b[0m\u001b[1;33m(\u001b[0m\u001b[0my_test\u001b[0m\u001b[1;33m,\u001b[0m\u001b[0mlist\u001b[0m\u001b[1;33m(\u001b[0m\u001b[0my_pred\u001b[0m\u001b[1;33m)\u001b[0m\u001b[1;33m)\u001b[0m\u001b[1;33m\u001b[0m\u001b[0m\n\u001b[0m",
      "\u001b[0;32mE:\\anaconda\\anaconda\\lib\\site-packages\\sklearn\\metrics\\classification.py\u001b[0m in \u001b[0;36mlog_loss\u001b[0;34m(y_true, y_pred, eps, normalize, sample_weight, labels)\u001b[0m\n\u001b[1;32m   1638\u001b[0m     \u001b[0mThe\u001b[0m \u001b[0mlogarithm\u001b[0m \u001b[0mused\u001b[0m \u001b[1;32mis\u001b[0m \u001b[0mthe\u001b[0m \u001b[0mnatural\u001b[0m \u001b[0mlogarithm\u001b[0m \u001b[1;33m(\u001b[0m\u001b[0mbase\u001b[0m\u001b[1;33m-\u001b[0m\u001b[0me\u001b[0m\u001b[1;33m)\u001b[0m\u001b[1;33m.\u001b[0m\u001b[1;33m\u001b[0m\u001b[0m\n\u001b[1;32m   1639\u001b[0m     \"\"\"\n\u001b[0;32m-> 1640\u001b[0;31m     \u001b[0my_pred\u001b[0m \u001b[1;33m=\u001b[0m \u001b[0mcheck_array\u001b[0m\u001b[1;33m(\u001b[0m\u001b[0my_pred\u001b[0m\u001b[1;33m,\u001b[0m \u001b[0mensure_2d\u001b[0m\u001b[1;33m=\u001b[0m\u001b[1;32mFalse\u001b[0m\u001b[1;33m)\u001b[0m\u001b[1;33m\u001b[0m\u001b[0m\n\u001b[0m\u001b[1;32m   1641\u001b[0m     \u001b[0mcheck_consistent_length\u001b[0m\u001b[1;33m(\u001b[0m\u001b[0my_pred\u001b[0m\u001b[1;33m,\u001b[0m \u001b[0my_true\u001b[0m\u001b[1;33m)\u001b[0m\u001b[1;33m\u001b[0m\u001b[0m\n\u001b[1;32m   1642\u001b[0m \u001b[1;33m\u001b[0m\u001b[0m\n",
      "\u001b[0;32mE:\\anaconda\\anaconda\\lib\\site-packages\\sklearn\\utils\\validation.py\u001b[0m in \u001b[0;36mcheck_array\u001b[0;34m(array, accept_sparse, dtype, order, copy, force_all_finite, ensure_2d, allow_nd, ensure_min_samples, ensure_min_features, warn_on_dtype, estimator)\u001b[0m\n\u001b[1;32m    429\u001b[0m                              \u001b[1;34m\" minimum of %d is required%s.\"\u001b[0m\u001b[1;33m\u001b[0m\u001b[0m\n\u001b[1;32m    430\u001b[0m                              % (n_samples, shape_repr, ensure_min_samples,\n\u001b[0;32m--> 431\u001b[0;31m                                 context))\n\u001b[0m\u001b[1;32m    432\u001b[0m \u001b[1;33m\u001b[0m\u001b[0m\n\u001b[1;32m    433\u001b[0m     \u001b[1;32mif\u001b[0m \u001b[0mensure_min_features\u001b[0m \u001b[1;33m>\u001b[0m \u001b[1;36m0\u001b[0m \u001b[1;32mand\u001b[0m \u001b[0marray\u001b[0m\u001b[1;33m.\u001b[0m\u001b[0mndim\u001b[0m \u001b[1;33m==\u001b[0m \u001b[1;36m2\u001b[0m\u001b[1;33m:\u001b[0m\u001b[1;33m\u001b[0m\u001b[0m\n",
      "\u001b[0;31mValueError\u001b[0m: Found array with 0 sample(s) (shape=(0,)) while a minimum of 1 is required."
     ]
    }
   ],
   "source": [
    "from sklearn.metrics import log_loss\n",
    "#y_pred_proba = y_pred['probabilities']\n",
    "log_loss(y_test,list(y_pred))"
   ]
  },
  {
   "cell_type": "markdown",
   "metadata": {},
   "source": [
    "# Using plain TensorFlow"
   ]
  },
  {
   "cell_type": "code",
   "execution_count": 3,
   "metadata": {
    "collapsed": true
   },
   "outputs": [],
   "source": [
    "import tensorflow as tf\n",
    "\n",
    "n_inputs = 28*28  # MNIST\n",
    "n_hidden1 = 300\n",
    "n_hidden2 = 100\n",
    "n_outputs = 10"
   ]
  },
  {
   "cell_type": "code",
   "execution_count": 4,
   "metadata": {
    "collapsed": true
   },
   "outputs": [],
   "source": [
    "\n",
    "reset_graph()\n",
    "\n",
    "X = tf.placeholder(tf.float32, shape=(None, n_inputs), name=\"X\")\n",
    "y = tf.placeholder(tf.int64, shape=(None), name=\"y\")"
   ]
  },
  {
   "cell_type": "code",
   "execution_count": 5,
   "metadata": {
    "collapsed": true
   },
   "outputs": [],
   "source": [
    "def neuron_layer(X, n_neurons, name, activation=None):\n",
    "    with tf.name_scope(name):\n",
    "        n_inputs = int(X.get_shape()[1])\n",
    "        stddev = 2 / np.sqrt(n_inputs)\n",
    "        init = tf.truncated_normal((n_inputs, n_neurons), stddev=stddev)\n",
    "        W = tf.Variable(init, name=\"kernel\")\n",
    "        b = tf.Variable(tf.zeros([n_neurons]), name=\"bias\")\n",
    "        Z = tf.matmul(X, W) + b\n",
    "        if activation is not None:\n",
    "            return activation(Z)\n",
    "        else:\n",
    "            return Z"
   ]
  },
  {
   "cell_type": "code",
   "execution_count": 6,
   "metadata": {
    "collapsed": true
   },
   "outputs": [],
   "source": [
    "with tf.name_scope(\"dnn\"):\n",
    "    hidden1 = neuron_layer(X, n_hidden1, name=\"hidden1\",\n",
    "                           activation=tf.nn.relu)\n",
    "    hidden2 = neuron_layer(hidden1, n_hidden2, name=\"hidden2\",\n",
    "                           activation=tf.nn.relu)\n",
    "    logits = neuron_layer(hidden2, n_outputs, name=\"outputs\")"
   ]
  },
  {
   "cell_type": "code",
   "execution_count": 7,
   "metadata": {
    "collapsed": true
   },
   "outputs": [],
   "source": [
    "with tf.name_scope(\"loss\"):\n",
    "    xentropy = tf.nn.sparse_softmax_cross_entropy_with_logits(labels=y,\n",
    "                                                              logits=logits)\n",
    "    loss = tf.reduce_mean(xentropy, name=\"loss\")"
   ]
  },
  {
   "cell_type": "code",
   "execution_count": 8,
   "metadata": {
    "collapsed": true
   },
   "outputs": [],
   "source": [
    "learning_rate = 0.01\n",
    "\n",
    "with tf.name_scope(\"train\"):\n",
    "    optimizer = tf.train.GradientDescentOptimizer(learning_rate)\n",
    "    training_op = optimizer.minimize(loss)"
   ]
  },
  {
   "cell_type": "code",
   "execution_count": 9,
   "metadata": {
    "collapsed": true
   },
   "outputs": [],
   "source": [
    "\n",
    "with tf.name_scope(\"eval\"):\n",
    "    correct = tf.nn.in_top_k(logits, y, 1)\n",
    "    accuracy = tf.reduce_mean(tf.cast(correct, tf.float32))"
   ]
  },
  {
   "cell_type": "code",
   "execution_count": 10,
   "metadata": {
    "collapsed": true
   },
   "outputs": [],
   "source": [
    "\n",
    "init = tf.global_variables_initializer()\n",
    "saver = tf.train.Saver()"
   ]
  },
  {
   "cell_type": "code",
   "execution_count": 11,
   "metadata": {
    "collapsed": true
   },
   "outputs": [],
   "source": [
    "n_epochs = 40\n",
    "batch_size = 50"
   ]
  },
  {
   "cell_type": "code",
   "execution_count": 12,
   "metadata": {
    "collapsed": false,
    "scrolled": true
   },
   "outputs": [
    {
     "ename": "NameError",
     "evalue": "name 'mnist' is not defined",
     "output_type": "error",
     "traceback": [
      "\u001b[0;31m---------------------------------------------------------------------------\u001b[0m",
      "\u001b[0;31mNameError\u001b[0m                                 Traceback (most recent call last)",
      "\u001b[0;32m<ipython-input-12-eab49b181b27>\u001b[0m in \u001b[0;36m<module>\u001b[0;34m()\u001b[0m\n\u001b[1;32m      3\u001b[0m     \u001b[0minit\u001b[0m\u001b[1;33m.\u001b[0m\u001b[0mrun\u001b[0m\u001b[1;33m(\u001b[0m\u001b[1;33m)\u001b[0m\u001b[1;33m\u001b[0m\u001b[0m\n\u001b[1;32m      4\u001b[0m     \u001b[1;32mfor\u001b[0m \u001b[0mepoch\u001b[0m \u001b[1;32min\u001b[0m \u001b[0mrange\u001b[0m\u001b[1;33m(\u001b[0m\u001b[0mn_epochs\u001b[0m\u001b[1;33m)\u001b[0m\u001b[1;33m:\u001b[0m\u001b[1;33m\u001b[0m\u001b[0m\n\u001b[0;32m----> 5\u001b[0;31m         \u001b[1;32mfor\u001b[0m \u001b[0miteration\u001b[0m \u001b[1;32min\u001b[0m \u001b[0mrange\u001b[0m\u001b[1;33m(\u001b[0m\u001b[0mmnist\u001b[0m\u001b[1;33m.\u001b[0m\u001b[0mtrain\u001b[0m\u001b[1;33m.\u001b[0m\u001b[0mnum_examples\u001b[0m \u001b[1;33m//\u001b[0m \u001b[0mbatch_size\u001b[0m\u001b[1;33m)\u001b[0m\u001b[1;33m:\u001b[0m\u001b[1;33m\u001b[0m\u001b[0m\n\u001b[0m\u001b[1;32m      6\u001b[0m             \u001b[0mX_batch\u001b[0m\u001b[1;33m,\u001b[0m \u001b[0my_batch\u001b[0m \u001b[1;33m=\u001b[0m \u001b[0mmnist\u001b[0m\u001b[1;33m.\u001b[0m\u001b[0mtrain\u001b[0m\u001b[1;33m.\u001b[0m\u001b[0mnext_batch\u001b[0m\u001b[1;33m(\u001b[0m\u001b[0mbatch_size\u001b[0m\u001b[1;33m)\u001b[0m\u001b[1;33m\u001b[0m\u001b[0m\n\u001b[1;32m      7\u001b[0m             \u001b[0msess\u001b[0m\u001b[1;33m.\u001b[0m\u001b[0mrun\u001b[0m\u001b[1;33m(\u001b[0m\u001b[0mtraining_op\u001b[0m\u001b[1;33m,\u001b[0m \u001b[0mfeed_dict\u001b[0m\u001b[1;33m=\u001b[0m\u001b[1;33m{\u001b[0m\u001b[0mX\u001b[0m\u001b[1;33m:\u001b[0m \u001b[0mX_batch\u001b[0m\u001b[1;33m,\u001b[0m \u001b[0my\u001b[0m\u001b[1;33m:\u001b[0m \u001b[0my_batch\u001b[0m\u001b[1;33m}\u001b[0m\u001b[1;33m)\u001b[0m\u001b[1;33m\u001b[0m\u001b[0m\n",
      "\u001b[0;31mNameError\u001b[0m: name 'mnist' is not defined"
     ]
    }
   ],
   "source": [
    "\n",
    "with tf.Session() as sess:\n",
    "    init.run()\n",
    "    for epoch in range(n_epochs):\n",
    "        for iteration in range(mnist.train.num_examples // batch_size):\n",
    "            X_batch, y_batch = mnist.train.next_batch(batch_size)\n",
    "            sess.run(training_op, feed_dict={X: X_batch, y: y_batch})\n",
    "        acc_train = accuracy.eval(feed_dict={X: X_batch, y: y_batch})\n",
    "        acc_test = accuracy.eval(feed_dict={X: mnist.test.images,\n",
    "                                            y: mnist.test.labels})\n",
    "        print(epoch, \"Train accuracy:\", acc_train, \"Test accuracy:\", acc_test)\n",
    "\n",
    "    save_path = saver.save(sess, \"E:/python_work/handson_ml/tmp/my_model_final.ckpt\")"
   ]
  },
  {
   "cell_type": "code",
   "execution_count": 48,
   "metadata": {
    "collapsed": false
   },
   "outputs": [
    {
     "name": "stdout",
     "output_type": "stream",
     "text": [
      "INFO:tensorflow:Restoring parameters from E:/python_work/handson_ml/tmp/my_model_final.ckpt\n"
     ]
    }
   ],
   "source": [
    "with tf.Session() as sess:\n",
    "    saver.restore(sess, \"E:/python_work/handson_ml/tmp/my_model_final.ckpt\") # or better, use save_path\n",
    "    X_new_scaled = mnist.test.images[:20]\n",
    "    Z = logits.eval(feed_dict={X: X_new_scaled})\n",
    "    y_pred = np.argmax(Z, axis=1)"
   ]
  },
  {
   "cell_type": "code",
   "execution_count": 49,
   "metadata": {
    "collapsed": false
   },
   "outputs": [
    {
     "name": "stdout",
     "output_type": "stream",
     "text": [
      "Predicted classes: [7 2 1 0 4 1 4 9 6 9 0 6 9 0 1 5 9 7 3 4]\n",
      "Actual classes:    [7 2 1 0 4 1 4 9 5 9 0 6 9 0 1 5 9 7 3 4]\n"
     ]
    }
   ],
   "source": [
    "print(\"Predicted classes:\", y_pred)\n",
    "print(\"Actual classes:   \", mnist.test.labels[:20])"
   ]
  },
  {
   "cell_type": "markdown",
   "metadata": {},
   "source": [
    "# Exercise"
   ]
  },
  {
   "cell_type": "code",
   "execution_count": 50,
   "metadata": {
    "collapsed": true
   },
   "outputs": [],
   "source": [
    "n_inputs = 28*28  # MNIST\n",
    "n_hidden1 = 300\n",
    "n_hidden2 = 100\n",
    "n_outputs = 10"
   ]
  },
  {
   "cell_type": "code",
   "execution_count": 51,
   "metadata": {
    "collapsed": true
   },
   "outputs": [],
   "source": [
    "reset_graph()\n",
    "\n",
    "X = tf.placeholder(tf.float32, shape=(None, n_inputs), name=\"X\")\n",
    "y = tf.placeholder(tf.int64, shape=(None), name=\"y\")"
   ]
  },
  {
   "cell_type": "code",
   "execution_count": 52,
   "metadata": {
    "collapsed": true
   },
   "outputs": [],
   "source": [
    "with tf.name_scope(\"dnn\"):\n",
    "    hidden1 = tf.layers.dense(X, n_hidden1, name=\"hidden1\",\n",
    "                              activation=tf.nn.relu)\n",
    "    hidden2 = tf.layers.dense(hidden1, n_hidden2, name=\"hidden2\",\n",
    "                              activation=tf.nn.relu)\n",
    "    logits = tf.layers.dense(hidden2, n_outputs, name=\"outputs\")"
   ]
  },
  {
   "cell_type": "code",
   "execution_count": 53,
   "metadata": {
    "collapsed": true
   },
   "outputs": [],
   "source": [
    "\n",
    "with tf.name_scope(\"loss\"):\n",
    "    xentropy = tf.nn.sparse_softmax_cross_entropy_with_logits(labels=y, logits=logits)\n",
    "    loss = tf.reduce_mean(xentropy, name=\"loss\")\n",
    "    loss_summary = tf.summary.scalar('log_loss', loss)"
   ]
  },
  {
   "cell_type": "code",
   "execution_count": 54,
   "metadata": {
    "collapsed": true
   },
   "outputs": [],
   "source": [
    "learning_rate = 0.01\n",
    "\n",
    "with tf.name_scope(\"train\"):\n",
    "    optimizer = tf.train.GradientDescentOptimizer(learning_rate)\n",
    "    training_op = optimizer.minimize(loss)"
   ]
  },
  {
   "cell_type": "code",
   "execution_count": 55,
   "metadata": {
    "collapsed": true
   },
   "outputs": [],
   "source": [
    "with tf.name_scope(\"eval\"):\n",
    "    correct = tf.nn.in_top_k(logits, y, 1)\n",
    "    accuracy = tf.reduce_mean(tf.cast(correct, tf.float32))\n",
    "    accuracy_summary = tf.summary.scalar('accuracy', accuracy)"
   ]
  },
  {
   "cell_type": "code",
   "execution_count": 56,
   "metadata": {
    "collapsed": true
   },
   "outputs": [],
   "source": [
    "init = tf.global_variables_initializer()\n",
    "saver = tf.train.Saver()"
   ]
  },
  {
   "cell_type": "code",
   "execution_count": 57,
   "metadata": {
    "collapsed": true
   },
   "outputs": [],
   "source": [
    "from datetime import datetime\n",
    "\n",
    "def log_dir(prefix=\"E:/python_work/handson_ml/\"):\n",
    "    now = datetime.utcnow().strftime(\"%Y%m%d%H%M%S\")\n",
    "    root_logdir = \"tf_logs\"\n",
    "    if prefix:\n",
    "        #prefix += \"-\"\n",
    "        root_logdir = prefix+root_logdir\n",
    "    name =  \"run-\" + now\n",
    "    return \"{}/{}/\".format(root_logdir, name)"
   ]
  },
  {
   "cell_type": "code",
   "execution_count": 58,
   "metadata": {
    "collapsed": true
   },
   "outputs": [],
   "source": [
    "\n",
    "logdir = log_dir()"
   ]
  },
  {
   "cell_type": "code",
   "execution_count": 59,
   "metadata": {
    "collapsed": false
   },
   "outputs": [
    {
     "data": {
      "text/plain": [
       "'E:/python_work/handson_ml/tf_logs/run-20170917082006/'"
      ]
     },
     "execution_count": 59,
     "metadata": {},
     "output_type": "execute_result"
    }
   ],
   "source": [
    "logdir"
   ]
  },
  {
   "cell_type": "code",
   "execution_count": 60,
   "metadata": {
    "collapsed": true
   },
   "outputs": [],
   "source": [
    "file_writer = tf.summary.FileWriter(logdir, tf.get_default_graph())"
   ]
  },
  {
   "cell_type": "code",
   "execution_count": 61,
   "metadata": {
    "collapsed": true
   },
   "outputs": [],
   "source": [
    "X_valid = mnist.validation.images\n",
    "y_valid = mnist.validation.labels"
   ]
  },
  {
   "cell_type": "code",
   "execution_count": 62,
   "metadata": {
    "collapsed": true
   },
   "outputs": [],
   "source": [
    "m, n = X_train.shape"
   ]
  },
  {
   "cell_type": "code",
   "execution_count": 64,
   "metadata": {
    "collapsed": false,
    "scrolled": false
   },
   "outputs": [
    {
     "name": "stdout",
     "output_type": "stream",
     "text": [
      "Epoch: 0 \tValidation accuracy: 90.500% \tLoss: 0.35332\n",
      "Epoch: 5 \tValidation accuracy: 95.160% \tLoss: 0.17458\n",
      "Epoch: 10 \tValidation accuracy: 96.680% \tLoss: 0.12616\n",
      "Epoch: 15 \tValidation accuracy: 97.300% \tLoss: 0.10388\n",
      "Epoch: 20 \tValidation accuracy: 97.560% \tLoss: 0.09096\n",
      "Epoch: 25 \tValidation accuracy: 97.740% \tLoss: 0.08101\n",
      "Epoch: 30 \tValidation accuracy: 97.780% \tLoss: 0.07587\n",
      "Epoch: 35 \tValidation accuracy: 97.840% \tLoss: 0.07209\n",
      "Epoch: 40 \tValidation accuracy: 97.860% \tLoss: 0.06838\n",
      "Epoch: 45 \tValidation accuracy: 97.980% \tLoss: 0.06893\n",
      "Epoch: 50 \tValidation accuracy: 98.020% \tLoss: 0.06660\n",
      "Epoch: 55 \tValidation accuracy: 98.060% \tLoss: 0.06700\n",
      "Epoch: 60 \tValidation accuracy: 98.140% \tLoss: 0.06490\n",
      "Epoch: 65 \tValidation accuracy: 98.160% \tLoss: 0.06531\n",
      "Epoch: 70 \tValidation accuracy: 98.120% \tLoss: 0.06646\n",
      "Epoch: 75 \tValidation accuracy: 98.200% \tLoss: 0.06564\n",
      "Epoch: 80 \tValidation accuracy: 98.160% \tLoss: 0.06519\n",
      "Epoch: 85 \tValidation accuracy: 98.180% \tLoss: 0.06677\n",
      "Epoch: 90 \tValidation accuracy: 98.220% \tLoss: 0.06716\n",
      "Epoch: 95 \tValidation accuracy: 98.140% \tLoss: 0.06815\n",
      "Epoch: 100 \tValidation accuracy: 98.200% \tLoss: 0.06862\n",
      "Epoch: 105 \tValidation accuracy: 98.240% \tLoss: 0.06888\n",
      "Early stopping\n"
     ]
    }
   ],
   "source": [
    "n_epochs = 10001\n",
    "batch_size = 50\n",
    "n_batches = int(np.ceil(m / batch_size))\n",
    "\n",
    "checkpoint_path = logdir+\"/tmp/my_deep_mnist_model.ckpt\"\n",
    "checkpoint_epoch_path = checkpoint_path + \".epoch\"\n",
    "final_model_path = logdir +\"/my_deep_mnist_model\"\n",
    "\n",
    "best_loss = np.infty\n",
    "epochs_without_progress = 0\n",
    "max_epochs_without_progress = 50\n",
    "\n",
    "with tf.Session() as sess:\n",
    "    if os.path.isfile(checkpoint_epoch_path):\n",
    "        # if the checkpoint file exists, restore the model and load the epoch number\n",
    "        with open(checkpoint_epoch_path, \"rb\") as f:\n",
    "            start_epoch = int(f.read())\n",
    "        print(\"Training was interrupted. Continuing at epoch\", start_epoch)\n",
    "        saver.restore(sess, checkpoint_path)\n",
    "    else:\n",
    "        start_epoch = 0\n",
    "        sess.run(init)\n",
    "\n",
    "    for epoch in range(start_epoch, n_epochs):\n",
    "        for iteration in range(mnist.train.num_examples // batch_size):\n",
    "            X_batch, y_batch = mnist.train.next_batch(batch_size)\n",
    "            sess.run(training_op, feed_dict={X: X_batch, y: y_batch})\n",
    "        accuracy_val, loss_val, accuracy_summary_str, loss_summary_str = sess.run([accuracy, loss, accuracy_summary, loss_summary], feed_dict={X: X_valid, y: y_valid})\n",
    "        file_writer.add_summary(accuracy_summary_str, epoch)\n",
    "        file_writer.add_summary(loss_summary_str, epoch)\n",
    "        if epoch % 5 == 0:\n",
    "            print(\"Epoch:\", epoch,\n",
    "                  \"\\tValidation accuracy: {:.3f}%\".format(accuracy_val * 100),\n",
    "                  \"\\tLoss: {:.5f}\".format(loss_val))\n",
    "            saver.save(sess, checkpoint_path)\n",
    "            with open(checkpoint_epoch_path, \"wb\") as f:\n",
    "                f.write(b\"%d\" % (epoch + 1))\n",
    "            if loss_val < best_loss:\n",
    "                saver.save(sess, final_model_path)\n",
    "                best_loss = loss_val\n",
    "            else:\n",
    "                epochs_without_progress += 5\n",
    "                if epochs_without_progress > max_epochs_without_progress:\n",
    "                    print(\"Early stopping\")\n",
    "                    break"
   ]
  },
  {
   "cell_type": "code",
   "execution_count": 65,
   "metadata": {
    "collapsed": true
   },
   "outputs": [],
   "source": [
    "os.remove(checkpoint_epoch_path)"
   ]
  },
  {
   "cell_type": "code",
   "execution_count": 68,
   "metadata": {
    "collapsed": false
   },
   "outputs": [
    {
     "data": {
      "text/plain": [
       "'E:/python_work/handson_ml/tf_logs/run-20170917082006//my_deep_mnist_model'"
      ]
     },
     "execution_count": 68,
     "metadata": {},
     "output_type": "execute_result"
    }
   ],
   "source": [
    "final_model_path"
   ]
  },
  {
   "cell_type": "code",
   "execution_count": null,
   "metadata": {
    "collapsed": false
   },
   "outputs": [
    {
     "name": "stdout",
     "output_type": "stream",
     "text": [
      "INFO:tensorflow:Restoring parameters from E:/python_work/handson_ml/tf_logs/run-20170917082006\n"
     ]
    }
   ],
   "source": [
    "with tf.Session() as sess:\n",
    "    saver.restore(sess, 'E:/python_work/handson_ml/tf_logs/run-20170917082006')\n",
    "    accuracy_val = accuracy.eval(feed_dict={X: X_test, y: y_test})"
   ]
  },
  {
   "cell_type": "code",
   "execution_count": 69,
   "metadata": {
    "collapsed": false
   },
   "outputs": [
    {
     "data": {
      "text/plain": [
       "0.9824"
      ]
     },
     "execution_count": 69,
     "metadata": {},
     "output_type": "execute_result"
    },
    {
     "name": "stdout",
     "output_type": "stream",
     "text": [
      "ERROR! Session/line number was not unique in database. History logging moved to new session 190\n"
     ]
    }
   ],
   "source": [
    "accuracy_val"
   ]
  },
  {
   "cell_type": "code",
   "execution_count": null,
   "metadata": {
    "collapsed": true
   },
   "outputs": [],
   "source": []
  }
 ],
 "metadata": {
  "kernelspec": {
   "display_name": "Python 3",
   "language": "python",
   "name": "python3"
  },
  "language_info": {
   "codemirror_mode": {
    "name": "ipython",
    "version": 3
   },
   "file_extension": ".py",
   "mimetype": "text/x-python",
   "name": "python",
   "nbconvert_exporter": "python",
   "pygments_lexer": "ipython3",
   "version": "3.6.0"
  }
 },
 "nbformat": 4,
 "nbformat_minor": 2
}
